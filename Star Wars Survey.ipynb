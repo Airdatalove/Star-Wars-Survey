{
 "cells": [
  {
   "cell_type": "markdown",
   "metadata": {},
   "source": [
    "# Using the force to analyse a Star Wars survey\n",
    "\n",
    "<img src=\"star_wars_img.jpg\" width=900 />\n",
    "\n",
    "In this project we're going to explore data from a survey conducted by [FiveThirtyEight on the Star Wars films](https://fivethirtyeight.com/features/americas-favorite-star-wars-movies-and-least-favorite-characters/). The survey was taken in 2014, at which point only six Star Wars films had been released, the original trilogy (Episodes IV, V, and VI) and the prequel trilogy (Episodes I, II, and III).\n",
    "\n",
    "The survey, which received `835` total responses, sought to ascertain:\n",
    "- how many people are Star Wars fans\n",
    "- which film in the series is best/worst\n",
    "- which characters are most loved/hated\n",
    "- who shot first?\n",
    "\n",
    "[Raw survey data available on Github](https://github.com/fivethirtyeight/data/tree/master/star-wars-survey).\n",
    "\n",
    "In this project, we're going to clean up the raw data to make it easier to work with, and then try and perform some of our own analysis, including segmenting the survey population around certain demographics.\n",
    "\n",
    "The anchor links below can be used to navigate to specific sections of the report:\n",
    "\n",
    "- [Reading and exploring the data](#Reading-and-exploring-the-data)\n",
    "- [Initial observations](#Initial-observations)\n",
    "- [Data cleaning](#Data-cleaning)\n",
    "- [Column reference](#Column-reference)\n",
    "- [Analysis](#Analysis)\n",
    "- [Conclusion](#Conclusion)"
   ]
  },
  {
   "cell_type": "code",
   "execution_count": 1,
   "metadata": {},
   "outputs": [
    {
     "data": {
      "text/html": [
       "\n",
       "<style>\n",
       ".output_png {\n",
       "    display: table-cell;\n",
       "    text-align: center;\n",
       "    vertical-align: middle;\n",
       "}\n",
       "</style>\n"
      ],
      "text/plain": [
       "<IPython.core.display.HTML object>"
      ]
     },
     "execution_count": 1,
     "metadata": {},
     "output_type": "execute_result"
    }
   ],
   "source": [
    "# import libraries\n",
    "import pandas as pd\n",
    "import numpy as np\n",
    "import seaborn as sns\n",
    "import matplotlib.pyplot as plt\n",
    "from matplotlib import ticker\n",
    "from rich import print\n",
    "\n",
    "# draw plots inline\n",
    "%matplotlib inline\n",
    "\n",
    "# set global default font sizes for plots\n",
    "plt.rcParams['axes.labelsize'] = 13\n",
    "plt.rcParams['axes.titlesize'] = 18\n",
    "plt.rcParams['xtick.labelsize']= 13\n",
    "plt.rcParams['ytick.labelsize']= 13\n",
    "\n",
    "# set top-level seaborn styles\n",
    "sns.set_style(\"dark\")\n",
    "sns.set_palette(\"deep\")\n",
    "\n",
    "# centre-align all plots\n",
    "from IPython.core.display import HTML\n",
    "HTML(\"\"\"\n",
    "<style>\n",
    ".output_png {\n",
    "    display: table-cell;\n",
    "    text-align: center;\n",
    "    vertical-align: middle;\n",
    "}\n",
    "</style>\n",
    "\"\"\")"
   ]
  },
  {
   "cell_type": "markdown",
   "metadata": {},
   "source": [
    "## Reading and exploring the data\n",
    "[Back to top](#Using-the-force-to-analyse-a-Star-Wars-survey)"
   ]
  },
  {
   "cell_type": "code",
   "execution_count": 2,
   "metadata": {},
   "outputs": [
    {
     "data": {
      "text/html": [
       "<div>\n",
       "<style scoped>\n",
       "    .dataframe tbody tr th:only-of-type {\n",
       "        vertical-align: middle;\n",
       "    }\n",
       "\n",
       "    .dataframe tbody tr th {\n",
       "        vertical-align: top;\n",
       "    }\n",
       "\n",
       "    .dataframe thead th {\n",
       "        text-align: right;\n",
       "    }\n",
       "</style>\n",
       "<table border=\"1\" class=\"dataframe\">\n",
       "  <thead>\n",
       "    <tr style=\"text-align: right;\">\n",
       "      <th></th>\n",
       "      <th>RespondentID</th>\n",
       "      <th>Have you seen any of the 6 films in the Star Wars franchise?</th>\n",
       "      <th>Do you consider yourself to be a fan of the Star Wars film franchise?</th>\n",
       "      <th>Which of the following Star Wars films have you seen? Please select all that apply.</th>\n",
       "      <th>Unnamed: 4</th>\n",
       "      <th>Unnamed: 5</th>\n",
       "      <th>Unnamed: 6</th>\n",
       "      <th>Unnamed: 7</th>\n",
       "      <th>Unnamed: 8</th>\n",
       "      <th>Please rank the Star Wars films in order of preference with 1 being your favorite film in the franchise and 6 being your least favorite film.</th>\n",
       "      <th>...</th>\n",
       "      <th>Unnamed: 28</th>\n",
       "      <th>Which character shot first?</th>\n",
       "      <th>Are you familiar with the Expanded Universe?</th>\n",
       "      <th>Do you consider yourself to be a fan of the Expanded Universe?æ</th>\n",
       "      <th>Do you consider yourself to be a fan of the Star Trek franchise?</th>\n",
       "      <th>Gender</th>\n",
       "      <th>Age</th>\n",
       "      <th>Household Income</th>\n",
       "      <th>Education</th>\n",
       "      <th>Location (Census Region)</th>\n",
       "    </tr>\n",
       "  </thead>\n",
       "  <tbody>\n",
       "    <tr>\n",
       "      <th>0</th>\n",
       "      <td>NaN</td>\n",
       "      <td>Response</td>\n",
       "      <td>Response</td>\n",
       "      <td>Star Wars: Episode I  The Phantom Menace</td>\n",
       "      <td>Star Wars: Episode II  Attack of the Clones</td>\n",
       "      <td>Star Wars: Episode III  Revenge of the Sith</td>\n",
       "      <td>Star Wars: Episode IV  A New Hope</td>\n",
       "      <td>Star Wars: Episode V The Empire Strikes Back</td>\n",
       "      <td>Star Wars: Episode VI Return of the Jedi</td>\n",
       "      <td>Star Wars: Episode I  The Phantom Menace</td>\n",
       "      <td>...</td>\n",
       "      <td>Yoda</td>\n",
       "      <td>Response</td>\n",
       "      <td>Response</td>\n",
       "      <td>Response</td>\n",
       "      <td>Response</td>\n",
       "      <td>Response</td>\n",
       "      <td>Response</td>\n",
       "      <td>Response</td>\n",
       "      <td>Response</td>\n",
       "      <td>Response</td>\n",
       "    </tr>\n",
       "    <tr>\n",
       "      <th>1</th>\n",
       "      <td>3.292880e+09</td>\n",
       "      <td>Yes</td>\n",
       "      <td>Yes</td>\n",
       "      <td>Star Wars: Episode I  The Phantom Menace</td>\n",
       "      <td>Star Wars: Episode II  Attack of the Clones</td>\n",
       "      <td>Star Wars: Episode III  Revenge of the Sith</td>\n",
       "      <td>Star Wars: Episode IV  A New Hope</td>\n",
       "      <td>Star Wars: Episode V The Empire Strikes Back</td>\n",
       "      <td>Star Wars: Episode VI Return of the Jedi</td>\n",
       "      <td>3</td>\n",
       "      <td>...</td>\n",
       "      <td>Very favorably</td>\n",
       "      <td>I don't understand this question</td>\n",
       "      <td>Yes</td>\n",
       "      <td>No</td>\n",
       "      <td>No</td>\n",
       "      <td>Male</td>\n",
       "      <td>18-29</td>\n",
       "      <td>NaN</td>\n",
       "      <td>High school degree</td>\n",
       "      <td>South Atlantic</td>\n",
       "    </tr>\n",
       "    <tr>\n",
       "      <th>2</th>\n",
       "      <td>3.292880e+09</td>\n",
       "      <td>No</td>\n",
       "      <td>NaN</td>\n",
       "      <td>NaN</td>\n",
       "      <td>NaN</td>\n",
       "      <td>NaN</td>\n",
       "      <td>NaN</td>\n",
       "      <td>NaN</td>\n",
       "      <td>NaN</td>\n",
       "      <td>NaN</td>\n",
       "      <td>...</td>\n",
       "      <td>NaN</td>\n",
       "      <td>NaN</td>\n",
       "      <td>NaN</td>\n",
       "      <td>NaN</td>\n",
       "      <td>Yes</td>\n",
       "      <td>Male</td>\n",
       "      <td>18-29</td>\n",
       "      <td>$0 - $24,999</td>\n",
       "      <td>Bachelor degree</td>\n",
       "      <td>West South Central</td>\n",
       "    </tr>\n",
       "    <tr>\n",
       "      <th>3</th>\n",
       "      <td>3.292765e+09</td>\n",
       "      <td>Yes</td>\n",
       "      <td>No</td>\n",
       "      <td>Star Wars: Episode I  The Phantom Menace</td>\n",
       "      <td>Star Wars: Episode II  Attack of the Clones</td>\n",
       "      <td>Star Wars: Episode III  Revenge of the Sith</td>\n",
       "      <td>NaN</td>\n",
       "      <td>NaN</td>\n",
       "      <td>NaN</td>\n",
       "      <td>1</td>\n",
       "      <td>...</td>\n",
       "      <td>Unfamiliar (N/A)</td>\n",
       "      <td>I don't understand this question</td>\n",
       "      <td>No</td>\n",
       "      <td>NaN</td>\n",
       "      <td>No</td>\n",
       "      <td>Male</td>\n",
       "      <td>18-29</td>\n",
       "      <td>$0 - $24,999</td>\n",
       "      <td>High school degree</td>\n",
       "      <td>West North Central</td>\n",
       "    </tr>\n",
       "    <tr>\n",
       "      <th>4</th>\n",
       "      <td>3.292763e+09</td>\n",
       "      <td>Yes</td>\n",
       "      <td>Yes</td>\n",
       "      <td>Star Wars: Episode I  The Phantom Menace</td>\n",
       "      <td>Star Wars: Episode II  Attack of the Clones</td>\n",
       "      <td>Star Wars: Episode III  Revenge of the Sith</td>\n",
       "      <td>Star Wars: Episode IV  A New Hope</td>\n",
       "      <td>Star Wars: Episode V The Empire Strikes Back</td>\n",
       "      <td>Star Wars: Episode VI Return of the Jedi</td>\n",
       "      <td>5</td>\n",
       "      <td>...</td>\n",
       "      <td>Very favorably</td>\n",
       "      <td>I don't understand this question</td>\n",
       "      <td>No</td>\n",
       "      <td>NaN</td>\n",
       "      <td>Yes</td>\n",
       "      <td>Male</td>\n",
       "      <td>18-29</td>\n",
       "      <td>$100,000 - $149,999</td>\n",
       "      <td>Some college or Associate degree</td>\n",
       "      <td>West North Central</td>\n",
       "    </tr>\n",
       "  </tbody>\n",
       "</table>\n",
       "<p>5 rows × 38 columns</p>\n",
       "</div>"
      ],
      "text/plain": [
       "   RespondentID Have you seen any of the 6 films in the Star Wars franchise?  \\\n",
       "0           NaN                                           Response             \n",
       "1  3.292880e+09                                                Yes             \n",
       "2  3.292880e+09                                                 No             \n",
       "3  3.292765e+09                                                Yes             \n",
       "4  3.292763e+09                                                Yes             \n",
       "\n",
       "  Do you consider yourself to be a fan of the Star Wars film franchise?  \\\n",
       "0                                           Response                      \n",
       "1                                                Yes                      \n",
       "2                                                NaN                      \n",
       "3                                                 No                      \n",
       "4                                                Yes                      \n",
       "\n",
       "  Which of the following Star Wars films have you seen? Please select all that apply.  \\\n",
       "0           Star Wars: Episode I  The Phantom Menace                                    \n",
       "1           Star Wars: Episode I  The Phantom Menace                                    \n",
       "2                                                NaN                                    \n",
       "3           Star Wars: Episode I  The Phantom Menace                                    \n",
       "4           Star Wars: Episode I  The Phantom Menace                                    \n",
       "\n",
       "                                    Unnamed: 4  \\\n",
       "0  Star Wars: Episode II  Attack of the Clones   \n",
       "1  Star Wars: Episode II  Attack of the Clones   \n",
       "2                                          NaN   \n",
       "3  Star Wars: Episode II  Attack of the Clones   \n",
       "4  Star Wars: Episode II  Attack of the Clones   \n",
       "\n",
       "                                    Unnamed: 5  \\\n",
       "0  Star Wars: Episode III  Revenge of the Sith   \n",
       "1  Star Wars: Episode III  Revenge of the Sith   \n",
       "2                                          NaN   \n",
       "3  Star Wars: Episode III  Revenge of the Sith   \n",
       "4  Star Wars: Episode III  Revenge of the Sith   \n",
       "\n",
       "                          Unnamed: 6  \\\n",
       "0  Star Wars: Episode IV  A New Hope   \n",
       "1  Star Wars: Episode IV  A New Hope   \n",
       "2                                NaN   \n",
       "3                                NaN   \n",
       "4  Star Wars: Episode IV  A New Hope   \n",
       "\n",
       "                                     Unnamed: 7  \\\n",
       "0  Star Wars: Episode V The Empire Strikes Back   \n",
       "1  Star Wars: Episode V The Empire Strikes Back   \n",
       "2                                           NaN   \n",
       "3                                           NaN   \n",
       "4  Star Wars: Episode V The Empire Strikes Back   \n",
       "\n",
       "                                 Unnamed: 8  \\\n",
       "0  Star Wars: Episode VI Return of the Jedi   \n",
       "1  Star Wars: Episode VI Return of the Jedi   \n",
       "2                                       NaN   \n",
       "3                                       NaN   \n",
       "4  Star Wars: Episode VI Return of the Jedi   \n",
       "\n",
       "  Please rank the Star Wars films in order of preference with 1 being your favorite film in the franchise and 6 being your least favorite film.  \\\n",
       "0           Star Wars: Episode I  The Phantom Menace                                                                                              \n",
       "1                                                  3                                                                                              \n",
       "2                                                NaN                                                                                              \n",
       "3                                                  1                                                                                              \n",
       "4                                                  5                                                                                              \n",
       "\n",
       "   ...       Unnamed: 28       Which character shot first?  \\\n",
       "0  ...              Yoda                          Response   \n",
       "1  ...    Very favorably  I don't understand this question   \n",
       "2  ...               NaN                               NaN   \n",
       "3  ...  Unfamiliar (N/A)  I don't understand this question   \n",
       "4  ...    Very favorably  I don't understand this question   \n",
       "\n",
       "  Are you familiar with the Expanded Universe?  \\\n",
       "0                                     Response   \n",
       "1                                          Yes   \n",
       "2                                          NaN   \n",
       "3                                           No   \n",
       "4                                           No   \n",
       "\n",
       "  Do you consider yourself to be a fan of the Expanded Universe?æ  \\\n",
       "0                                           Response                 \n",
       "1                                                 No                 \n",
       "2                                                NaN                 \n",
       "3                                                NaN                 \n",
       "4                                                NaN                 \n",
       "\n",
       "  Do you consider yourself to be a fan of the Star Trek franchise?    Gender  \\\n",
       "0                                           Response                Response   \n",
       "1                                                 No                    Male   \n",
       "2                                                Yes                    Male   \n",
       "3                                                 No                    Male   \n",
       "4                                                Yes                    Male   \n",
       "\n",
       "        Age     Household Income                         Education  \\\n",
       "0  Response             Response                          Response   \n",
       "1     18-29                  NaN                High school degree   \n",
       "2     18-29         $0 - $24,999                   Bachelor degree   \n",
       "3     18-29         $0 - $24,999                High school degree   \n",
       "4     18-29  $100,000 - $149,999  Some college or Associate degree   \n",
       "\n",
       "  Location (Census Region)  \n",
       "0                 Response  \n",
       "1           South Atlantic  \n",
       "2       West South Central  \n",
       "3       West North Central  \n",
       "4       West North Central  \n",
       "\n",
       "[5 rows x 38 columns]"
      ]
     },
     "execution_count": 2,
     "metadata": {},
     "output_type": "execute_result"
    }
   ],
   "source": [
    "star_wars = pd.read_csv(\"star_wars.csv\", encoding=\"ISO-8859-1\") # need to specify encoding as dataset has some \n",
    "                                                                # characters not present in default utf-8\n",
    "\n",
    "star_wars.head()"
   ]
  },
  {
   "cell_type": "code",
   "execution_count": 3,
   "metadata": {},
   "outputs": [
    {
     "data": {
      "text/plain": [
       "(1187, 38)"
      ]
     },
     "execution_count": 3,
     "metadata": {},
     "output_type": "execute_result"
    }
   ],
   "source": [
    "star_wars.shape"
   ]
  },
  {
   "cell_type": "markdown",
   "metadata": {},
   "source": [
    "## Initial observations\n",
    "[Back to top](#Using-the-force-to-analyse-a-Star-Wars-survey)\n",
    "- the dataset contains `38` columns and `1187` rows\n",
    "- each row of the dataset appears to be a single response to the survey tied to a unique ID, `RespondentID`\n",
    "    - the exception to this is the first row, which does not appear to contain actual response data\n",
    "- several columns contain `Yes`/`No` values, we should try and convert these to `Boolean` values \n",
    "- there are a number of columns with the prefix `Unnamed`, these will probably need renaming to something more intuitive\n",
    "    - the first row looks like it might contain the values that correspond to the `Unnamed` columns, we'll explore this further in the cleanup stage"
   ]
  },
  {
   "cell_type": "markdown",
   "metadata": {},
   "source": [
    "Since we have `38` columns in our dataset, some of which have very long names, it will be much easier to reference our columns by their index value (as opposed to referencing by column label) using the `DataFrame.iloc()` method. Let's create a function to print out every column label and the correpsonding index."
   ]
  },
  {
   "cell_type": "code",
   "execution_count": 4,
   "metadata": {},
   "outputs": [
    {
     "data": {
      "text/html": [
       "<pre style=\"white-space:pre;overflow-x:auto;line-height:normal;font-family:Menlo,'DejaVu Sans Mono',consolas,'Courier New',monospace\"><span style=\"color: #008080; text-decoration-color: #008080; font-weight: bold\">0</span> - RespondentID\n",
       "</pre>\n"
      ],
      "text/plain": [
       "\u001b[1;36m0\u001b[0m - RespondentID\n"
      ]
     },
     "metadata": {},
     "output_type": "display_data"
    },
    {
     "data": {
      "text/html": [
       "<pre style=\"white-space:pre;overflow-x:auto;line-height:normal;font-family:Menlo,'DejaVu Sans Mono',consolas,'Courier New',monospace\"><span style=\"color: #008080; text-decoration-color: #008080; font-weight: bold\">1</span> - Have you seen any of the <span style=\"color: #008080; text-decoration-color: #008080; font-weight: bold\">6</span> films in the Star Wars franchise?\n",
       "</pre>\n"
      ],
      "text/plain": [
       "\u001b[1;36m1\u001b[0m - Have you seen any of the \u001b[1;36m6\u001b[0m films in the Star Wars franchise?\n"
      ]
     },
     "metadata": {},
     "output_type": "display_data"
    },
    {
     "data": {
      "text/html": [
       "<pre style=\"white-space:pre;overflow-x:auto;line-height:normal;font-family:Menlo,'DejaVu Sans Mono',consolas,'Courier New',monospace\"><span style=\"color: #008080; text-decoration-color: #008080; font-weight: bold\">2</span> - Do you consider yourself to be a fan of the Star Wars film franchise?\n",
       "</pre>\n"
      ],
      "text/plain": [
       "\u001b[1;36m2\u001b[0m - Do you consider yourself to be a fan of the Star Wars film franchise?\n"
      ]
     },
     "metadata": {},
     "output_type": "display_data"
    },
    {
     "data": {
      "text/html": [
       "<pre style=\"white-space:pre;overflow-x:auto;line-height:normal;font-family:Menlo,'DejaVu Sans Mono',consolas,'Courier New',monospace\"><span style=\"color: #008080; text-decoration-color: #008080; font-weight: bold\">3</span> - Which of the following Star Wars films have you seen? Please select all that apply.\n",
       "</pre>\n"
      ],
      "text/plain": [
       "\u001b[1;36m3\u001b[0m - Which of the following Star Wars films have you seen? Please select all that apply.\n"
      ]
     },
     "metadata": {},
     "output_type": "display_data"
    },
    {
     "data": {
      "text/html": [
       "<pre style=\"white-space:pre;overflow-x:auto;line-height:normal;font-family:Menlo,'DejaVu Sans Mono',consolas,'Courier New',monospace\"><span style=\"color: #008080; text-decoration-color: #008080; font-weight: bold\">4</span> - Unnamed: <span style=\"color: #008080; text-decoration-color: #008080; font-weight: bold\">4</span>\n",
       "</pre>\n"
      ],
      "text/plain": [
       "\u001b[1;36m4\u001b[0m - Unnamed: \u001b[1;36m4\u001b[0m\n"
      ]
     },
     "metadata": {},
     "output_type": "display_data"
    },
    {
     "data": {
      "text/html": [
       "<pre style=\"white-space:pre;overflow-x:auto;line-height:normal;font-family:Menlo,'DejaVu Sans Mono',consolas,'Courier New',monospace\"><span style=\"color: #008080; text-decoration-color: #008080; font-weight: bold\">5</span> - Unnamed: <span style=\"color: #008080; text-decoration-color: #008080; font-weight: bold\">5</span>\n",
       "</pre>\n"
      ],
      "text/plain": [
       "\u001b[1;36m5\u001b[0m - Unnamed: \u001b[1;36m5\u001b[0m\n"
      ]
     },
     "metadata": {},
     "output_type": "display_data"
    },
    {
     "data": {
      "text/html": [
       "<pre style=\"white-space:pre;overflow-x:auto;line-height:normal;font-family:Menlo,'DejaVu Sans Mono',consolas,'Courier New',monospace\"><span style=\"color: #008080; text-decoration-color: #008080; font-weight: bold\">6</span> - Unnamed: <span style=\"color: #008080; text-decoration-color: #008080; font-weight: bold\">6</span>\n",
       "</pre>\n"
      ],
      "text/plain": [
       "\u001b[1;36m6\u001b[0m - Unnamed: \u001b[1;36m6\u001b[0m\n"
      ]
     },
     "metadata": {},
     "output_type": "display_data"
    },
    {
     "data": {
      "text/html": [
       "<pre style=\"white-space:pre;overflow-x:auto;line-height:normal;font-family:Menlo,'DejaVu Sans Mono',consolas,'Courier New',monospace\"><span style=\"color: #008080; text-decoration-color: #008080; font-weight: bold\">7</span> - Unnamed: <span style=\"color: #008080; text-decoration-color: #008080; font-weight: bold\">7</span>\n",
       "</pre>\n"
      ],
      "text/plain": [
       "\u001b[1;36m7\u001b[0m - Unnamed: \u001b[1;36m7\u001b[0m\n"
      ]
     },
     "metadata": {},
     "output_type": "display_data"
    },
    {
     "data": {
      "text/html": [
       "<pre style=\"white-space:pre;overflow-x:auto;line-height:normal;font-family:Menlo,'DejaVu Sans Mono',consolas,'Courier New',monospace\"><span style=\"color: #008080; text-decoration-color: #008080; font-weight: bold\">8</span> - Unnamed: <span style=\"color: #008080; text-decoration-color: #008080; font-weight: bold\">8</span>\n",
       "</pre>\n"
      ],
      "text/plain": [
       "\u001b[1;36m8\u001b[0m - Unnamed: \u001b[1;36m8\u001b[0m\n"
      ]
     },
     "metadata": {},
     "output_type": "display_data"
    },
    {
     "data": {
      "text/html": [
       "<pre style=\"white-space:pre;overflow-x:auto;line-height:normal;font-family:Menlo,'DejaVu Sans Mono',consolas,'Courier New',monospace\"><span style=\"color: #008080; text-decoration-color: #008080; font-weight: bold\">9</span> - Please rank the Star Wars films in order of preference with <span style=\"color: #008080; text-decoration-color: #008080; font-weight: bold\">1</span> being your favorite film in\n",
       "the franchise and <span style=\"color: #008080; text-decoration-color: #008080; font-weight: bold\">6</span> being your least favorite film.\n",
       "</pre>\n"
      ],
      "text/plain": [
       "\u001b[1;36m9\u001b[0m - Please rank the Star Wars films in order of preference with \u001b[1;36m1\u001b[0m being your favorite film in\n",
       "the franchise and \u001b[1;36m6\u001b[0m being your least favorite film.\n"
      ]
     },
     "metadata": {},
     "output_type": "display_data"
    },
    {
     "data": {
      "text/html": [
       "<pre style=\"white-space:pre;overflow-x:auto;line-height:normal;font-family:Menlo,'DejaVu Sans Mono',consolas,'Courier New',monospace\"><span style=\"color: #008080; text-decoration-color: #008080; font-weight: bold\">10</span> - Unnamed: <span style=\"color: #008080; text-decoration-color: #008080; font-weight: bold\">10</span>\n",
       "</pre>\n"
      ],
      "text/plain": [
       "\u001b[1;36m10\u001b[0m - Unnamed: \u001b[1;36m10\u001b[0m\n"
      ]
     },
     "metadata": {},
     "output_type": "display_data"
    },
    {
     "data": {
      "text/html": [
       "<pre style=\"white-space:pre;overflow-x:auto;line-height:normal;font-family:Menlo,'DejaVu Sans Mono',consolas,'Courier New',monospace\"><span style=\"color: #008080; text-decoration-color: #008080; font-weight: bold\">11</span> - Unnamed: <span style=\"color: #008080; text-decoration-color: #008080; font-weight: bold\">11</span>\n",
       "</pre>\n"
      ],
      "text/plain": [
       "\u001b[1;36m11\u001b[0m - Unnamed: \u001b[1;36m11\u001b[0m\n"
      ]
     },
     "metadata": {},
     "output_type": "display_data"
    },
    {
     "data": {
      "text/html": [
       "<pre style=\"white-space:pre;overflow-x:auto;line-height:normal;font-family:Menlo,'DejaVu Sans Mono',consolas,'Courier New',monospace\"><span style=\"color: #008080; text-decoration-color: #008080; font-weight: bold\">12</span> - Unnamed: <span style=\"color: #008080; text-decoration-color: #008080; font-weight: bold\">12</span>\n",
       "</pre>\n"
      ],
      "text/plain": [
       "\u001b[1;36m12\u001b[0m - Unnamed: \u001b[1;36m12\u001b[0m\n"
      ]
     },
     "metadata": {},
     "output_type": "display_data"
    },
    {
     "data": {
      "text/html": [
       "<pre style=\"white-space:pre;overflow-x:auto;line-height:normal;font-family:Menlo,'DejaVu Sans Mono',consolas,'Courier New',monospace\"><span style=\"color: #008080; text-decoration-color: #008080; font-weight: bold\">13</span> - Unnamed: <span style=\"color: #008080; text-decoration-color: #008080; font-weight: bold\">13</span>\n",
       "</pre>\n"
      ],
      "text/plain": [
       "\u001b[1;36m13\u001b[0m - Unnamed: \u001b[1;36m13\u001b[0m\n"
      ]
     },
     "metadata": {},
     "output_type": "display_data"
    },
    {
     "data": {
      "text/html": [
       "<pre style=\"white-space:pre;overflow-x:auto;line-height:normal;font-family:Menlo,'DejaVu Sans Mono',consolas,'Courier New',monospace\"><span style=\"color: #008080; text-decoration-color: #008080; font-weight: bold\">14</span> - Unnamed: <span style=\"color: #008080; text-decoration-color: #008080; font-weight: bold\">14</span>\n",
       "</pre>\n"
      ],
      "text/plain": [
       "\u001b[1;36m14\u001b[0m - Unnamed: \u001b[1;36m14\u001b[0m\n"
      ]
     },
     "metadata": {},
     "output_type": "display_data"
    },
    {
     "data": {
      "text/html": [
       "<pre style=\"white-space:pre;overflow-x:auto;line-height:normal;font-family:Menlo,'DejaVu Sans Mono',consolas,'Courier New',monospace\"><span style=\"color: #008080; text-decoration-color: #008080; font-weight: bold\">15</span> - Please state whether you view the following characters favorably, unfavorably, or are \n",
       "unfamiliar with him/her.\n",
       "</pre>\n"
      ],
      "text/plain": [
       "\u001b[1;36m15\u001b[0m - Please state whether you view the following characters favorably, unfavorably, or are \n",
       "unfamiliar with him/her.\n"
      ]
     },
     "metadata": {},
     "output_type": "display_data"
    },
    {
     "data": {
      "text/html": [
       "<pre style=\"white-space:pre;overflow-x:auto;line-height:normal;font-family:Menlo,'DejaVu Sans Mono',consolas,'Courier New',monospace\"><span style=\"color: #008080; text-decoration-color: #008080; font-weight: bold\">16</span> - Unnamed: <span style=\"color: #008080; text-decoration-color: #008080; font-weight: bold\">16</span>\n",
       "</pre>\n"
      ],
      "text/plain": [
       "\u001b[1;36m16\u001b[0m - Unnamed: \u001b[1;36m16\u001b[0m\n"
      ]
     },
     "metadata": {},
     "output_type": "display_data"
    },
    {
     "data": {
      "text/html": [
       "<pre style=\"white-space:pre;overflow-x:auto;line-height:normal;font-family:Menlo,'DejaVu Sans Mono',consolas,'Courier New',monospace\"><span style=\"color: #008080; text-decoration-color: #008080; font-weight: bold\">17</span> - Unnamed: <span style=\"color: #008080; text-decoration-color: #008080; font-weight: bold\">17</span>\n",
       "</pre>\n"
      ],
      "text/plain": [
       "\u001b[1;36m17\u001b[0m - Unnamed: \u001b[1;36m17\u001b[0m\n"
      ]
     },
     "metadata": {},
     "output_type": "display_data"
    },
    {
     "data": {
      "text/html": [
       "<pre style=\"white-space:pre;overflow-x:auto;line-height:normal;font-family:Menlo,'DejaVu Sans Mono',consolas,'Courier New',monospace\"><span style=\"color: #008080; text-decoration-color: #008080; font-weight: bold\">18</span> - Unnamed: <span style=\"color: #008080; text-decoration-color: #008080; font-weight: bold\">18</span>\n",
       "</pre>\n"
      ],
      "text/plain": [
       "\u001b[1;36m18\u001b[0m - Unnamed: \u001b[1;36m18\u001b[0m\n"
      ]
     },
     "metadata": {},
     "output_type": "display_data"
    },
    {
     "data": {
      "text/html": [
       "<pre style=\"white-space:pre;overflow-x:auto;line-height:normal;font-family:Menlo,'DejaVu Sans Mono',consolas,'Courier New',monospace\"><span style=\"color: #008080; text-decoration-color: #008080; font-weight: bold\">19</span> - Unnamed: <span style=\"color: #008080; text-decoration-color: #008080; font-weight: bold\">19</span>\n",
       "</pre>\n"
      ],
      "text/plain": [
       "\u001b[1;36m19\u001b[0m - Unnamed: \u001b[1;36m19\u001b[0m\n"
      ]
     },
     "metadata": {},
     "output_type": "display_data"
    },
    {
     "data": {
      "text/html": [
       "<pre style=\"white-space:pre;overflow-x:auto;line-height:normal;font-family:Menlo,'DejaVu Sans Mono',consolas,'Courier New',monospace\"><span style=\"color: #008080; text-decoration-color: #008080; font-weight: bold\">20</span> - Unnamed: <span style=\"color: #008080; text-decoration-color: #008080; font-weight: bold\">20</span>\n",
       "</pre>\n"
      ],
      "text/plain": [
       "\u001b[1;36m20\u001b[0m - Unnamed: \u001b[1;36m20\u001b[0m\n"
      ]
     },
     "metadata": {},
     "output_type": "display_data"
    },
    {
     "data": {
      "text/html": [
       "<pre style=\"white-space:pre;overflow-x:auto;line-height:normal;font-family:Menlo,'DejaVu Sans Mono',consolas,'Courier New',monospace\"><span style=\"color: #008080; text-decoration-color: #008080; font-weight: bold\">21</span> - Unnamed: <span style=\"color: #008080; text-decoration-color: #008080; font-weight: bold\">21</span>\n",
       "</pre>\n"
      ],
      "text/plain": [
       "\u001b[1;36m21\u001b[0m - Unnamed: \u001b[1;36m21\u001b[0m\n"
      ]
     },
     "metadata": {},
     "output_type": "display_data"
    },
    {
     "data": {
      "text/html": [
       "<pre style=\"white-space:pre;overflow-x:auto;line-height:normal;font-family:Menlo,'DejaVu Sans Mono',consolas,'Courier New',monospace\"><span style=\"color: #008080; text-decoration-color: #008080; font-weight: bold\">22</span> - Unnamed: <span style=\"color: #008080; text-decoration-color: #008080; font-weight: bold\">22</span>\n",
       "</pre>\n"
      ],
      "text/plain": [
       "\u001b[1;36m22\u001b[0m - Unnamed: \u001b[1;36m22\u001b[0m\n"
      ]
     },
     "metadata": {},
     "output_type": "display_data"
    },
    {
     "data": {
      "text/html": [
       "<pre style=\"white-space:pre;overflow-x:auto;line-height:normal;font-family:Menlo,'DejaVu Sans Mono',consolas,'Courier New',monospace\"><span style=\"color: #008080; text-decoration-color: #008080; font-weight: bold\">23</span> - Unnamed: <span style=\"color: #008080; text-decoration-color: #008080; font-weight: bold\">23</span>\n",
       "</pre>\n"
      ],
      "text/plain": [
       "\u001b[1;36m23\u001b[0m - Unnamed: \u001b[1;36m23\u001b[0m\n"
      ]
     },
     "metadata": {},
     "output_type": "display_data"
    },
    {
     "data": {
      "text/html": [
       "<pre style=\"white-space:pre;overflow-x:auto;line-height:normal;font-family:Menlo,'DejaVu Sans Mono',consolas,'Courier New',monospace\"><span style=\"color: #008080; text-decoration-color: #008080; font-weight: bold\">24</span> - Unnamed: <span style=\"color: #008080; text-decoration-color: #008080; font-weight: bold\">24</span>\n",
       "</pre>\n"
      ],
      "text/plain": [
       "\u001b[1;36m24\u001b[0m - Unnamed: \u001b[1;36m24\u001b[0m\n"
      ]
     },
     "metadata": {},
     "output_type": "display_data"
    },
    {
     "data": {
      "text/html": [
       "<pre style=\"white-space:pre;overflow-x:auto;line-height:normal;font-family:Menlo,'DejaVu Sans Mono',consolas,'Courier New',monospace\"><span style=\"color: #008080; text-decoration-color: #008080; font-weight: bold\">25</span> - Unnamed: <span style=\"color: #008080; text-decoration-color: #008080; font-weight: bold\">25</span>\n",
       "</pre>\n"
      ],
      "text/plain": [
       "\u001b[1;36m25\u001b[0m - Unnamed: \u001b[1;36m25\u001b[0m\n"
      ]
     },
     "metadata": {},
     "output_type": "display_data"
    },
    {
     "data": {
      "text/html": [
       "<pre style=\"white-space:pre;overflow-x:auto;line-height:normal;font-family:Menlo,'DejaVu Sans Mono',consolas,'Courier New',monospace\"><span style=\"color: #008080; text-decoration-color: #008080; font-weight: bold\">26</span> - Unnamed: <span style=\"color: #008080; text-decoration-color: #008080; font-weight: bold\">26</span>\n",
       "</pre>\n"
      ],
      "text/plain": [
       "\u001b[1;36m26\u001b[0m - Unnamed: \u001b[1;36m26\u001b[0m\n"
      ]
     },
     "metadata": {},
     "output_type": "display_data"
    },
    {
     "data": {
      "text/html": [
       "<pre style=\"white-space:pre;overflow-x:auto;line-height:normal;font-family:Menlo,'DejaVu Sans Mono',consolas,'Courier New',monospace\"><span style=\"color: #008080; text-decoration-color: #008080; font-weight: bold\">27</span> - Unnamed: <span style=\"color: #008080; text-decoration-color: #008080; font-weight: bold\">27</span>\n",
       "</pre>\n"
      ],
      "text/plain": [
       "\u001b[1;36m27\u001b[0m - Unnamed: \u001b[1;36m27\u001b[0m\n"
      ]
     },
     "metadata": {},
     "output_type": "display_data"
    },
    {
     "data": {
      "text/html": [
       "<pre style=\"white-space:pre;overflow-x:auto;line-height:normal;font-family:Menlo,'DejaVu Sans Mono',consolas,'Courier New',monospace\"><span style=\"color: #008080; text-decoration-color: #008080; font-weight: bold\">28</span> - Unnamed: <span style=\"color: #008080; text-decoration-color: #008080; font-weight: bold\">28</span>\n",
       "</pre>\n"
      ],
      "text/plain": [
       "\u001b[1;36m28\u001b[0m - Unnamed: \u001b[1;36m28\u001b[0m\n"
      ]
     },
     "metadata": {},
     "output_type": "display_data"
    },
    {
     "data": {
      "text/html": [
       "<pre style=\"white-space:pre;overflow-x:auto;line-height:normal;font-family:Menlo,'DejaVu Sans Mono',consolas,'Courier New',monospace\"><span style=\"color: #008080; text-decoration-color: #008080; font-weight: bold\">29</span> - Which character shot first?\n",
       "</pre>\n"
      ],
      "text/plain": [
       "\u001b[1;36m29\u001b[0m - Which character shot first?\n"
      ]
     },
     "metadata": {},
     "output_type": "display_data"
    },
    {
     "data": {
      "text/html": [
       "<pre style=\"white-space:pre;overflow-x:auto;line-height:normal;font-family:Menlo,'DejaVu Sans Mono',consolas,'Courier New',monospace\"><span style=\"color: #008080; text-decoration-color: #008080; font-weight: bold\">30</span> - Are you familiar with the Expanded Universe?\n",
       "</pre>\n"
      ],
      "text/plain": [
       "\u001b[1;36m30\u001b[0m - Are you familiar with the Expanded Universe?\n"
      ]
     },
     "metadata": {},
     "output_type": "display_data"
    },
    {
     "data": {
      "text/html": [
       "<pre style=\"white-space:pre;overflow-x:auto;line-height:normal;font-family:Menlo,'DejaVu Sans Mono',consolas,'Courier New',monospace\"><span style=\"color: #008080; text-decoration-color: #008080; font-weight: bold\">31</span> - Do you consider yourself to be a fan of the Expanded Universe?æ\n",
       "</pre>\n"
      ],
      "text/plain": [
       "\u001b[1;36m31\u001b[0m - Do you consider yourself to be a fan of the Expanded Universe?æ\n"
      ]
     },
     "metadata": {},
     "output_type": "display_data"
    },
    {
     "data": {
      "text/html": [
       "<pre style=\"white-space:pre;overflow-x:auto;line-height:normal;font-family:Menlo,'DejaVu Sans Mono',consolas,'Courier New',monospace\"><span style=\"color: #008080; text-decoration-color: #008080; font-weight: bold\">32</span> - Do you consider yourself to be a fan of the Star Trek franchise?\n",
       "</pre>\n"
      ],
      "text/plain": [
       "\u001b[1;36m32\u001b[0m - Do you consider yourself to be a fan of the Star Trek franchise?\n"
      ]
     },
     "metadata": {},
     "output_type": "display_data"
    },
    {
     "data": {
      "text/html": [
       "<pre style=\"white-space:pre;overflow-x:auto;line-height:normal;font-family:Menlo,'DejaVu Sans Mono',consolas,'Courier New',monospace\"><span style=\"color: #008080; text-decoration-color: #008080; font-weight: bold\">33</span> - Gender\n",
       "</pre>\n"
      ],
      "text/plain": [
       "\u001b[1;36m33\u001b[0m - Gender\n"
      ]
     },
     "metadata": {},
     "output_type": "display_data"
    },
    {
     "data": {
      "text/html": [
       "<pre style=\"white-space:pre;overflow-x:auto;line-height:normal;font-family:Menlo,'DejaVu Sans Mono',consolas,'Courier New',monospace\"><span style=\"color: #008080; text-decoration-color: #008080; font-weight: bold\">34</span> - Age\n",
       "</pre>\n"
      ],
      "text/plain": [
       "\u001b[1;36m34\u001b[0m - Age\n"
      ]
     },
     "metadata": {},
     "output_type": "display_data"
    },
    {
     "data": {
      "text/html": [
       "<pre style=\"white-space:pre;overflow-x:auto;line-height:normal;font-family:Menlo,'DejaVu Sans Mono',consolas,'Courier New',monospace\"><span style=\"color: #008080; text-decoration-color: #008080; font-weight: bold\">35</span> - Household Income\n",
       "</pre>\n"
      ],
      "text/plain": [
       "\u001b[1;36m35\u001b[0m - Household Income\n"
      ]
     },
     "metadata": {},
     "output_type": "display_data"
    },
    {
     "data": {
      "text/html": [
       "<pre style=\"white-space:pre;overflow-x:auto;line-height:normal;font-family:Menlo,'DejaVu Sans Mono',consolas,'Courier New',monospace\"><span style=\"color: #008080; text-decoration-color: #008080; font-weight: bold\">36</span> - Education\n",
       "</pre>\n"
      ],
      "text/plain": [
       "\u001b[1;36m36\u001b[0m - Education\n"
      ]
     },
     "metadata": {},
     "output_type": "display_data"
    },
    {
     "data": {
      "text/html": [
       "<pre style=\"white-space:pre;overflow-x:auto;line-height:normal;font-family:Menlo,'DejaVu Sans Mono',consolas,'Courier New',monospace\"><span style=\"color: #008080; text-decoration-color: #008080; font-weight: bold\">37</span> - Location <span style=\"font-weight: bold\">(</span>Census Region<span style=\"font-weight: bold\">)</span>\n",
       "</pre>\n"
      ],
      "text/plain": [
       "\u001b[1;36m37\u001b[0m - Location \u001b[1m(\u001b[0mCensus Region\u001b[1m)\u001b[0m\n"
      ]
     },
     "metadata": {},
     "output_type": "display_data"
    }
   ],
   "source": [
    "# function to print each column with its corresponding index number for easy reference\n",
    "def print_cols():\n",
    "    for col in star_wars.columns:\n",
    "        index_no = star_wars.columns.get_loc(col)\n",
    "        print(\"{} - {}\".format(index_no, col))\n",
    "        \n",
    "print_cols()"
   ]
  },
  {
   "cell_type": "markdown",
   "metadata": {},
   "source": [
    "## Data cleaning\n",
    "[Back to top](#Using-the-force-to-analyse-a-Star-Wars-survey)"
   ]
  },
  {
   "cell_type": "markdown",
   "metadata": {},
   "source": [
    "### Remove first row from dataset and set aside\n",
    "The first row of our dataset does not contain actual respondent data, but does contain information that will be useful to us for cleaning up column names. We'll create a copy of the first row so we can refer back to it later, and then delete it from the main dataset."
   ]
  },
  {
   "cell_type": "code",
   "execution_count": 5,
   "metadata": {},
   "outputs": [
    {
     "data": {
      "text/html": [
       "<div>\n",
       "<style scoped>\n",
       "    .dataframe tbody tr th:only-of-type {\n",
       "        vertical-align: middle;\n",
       "    }\n",
       "\n",
       "    .dataframe tbody tr th {\n",
       "        vertical-align: top;\n",
       "    }\n",
       "\n",
       "    .dataframe thead th {\n",
       "        text-align: right;\n",
       "    }\n",
       "</style>\n",
       "<table border=\"1\" class=\"dataframe\">\n",
       "  <thead>\n",
       "    <tr style=\"text-align: right;\">\n",
       "      <th></th>\n",
       "      <th>RespondentID</th>\n",
       "      <th>Have you seen any of the 6 films in the Star Wars franchise?</th>\n",
       "      <th>Do you consider yourself to be a fan of the Star Wars film franchise?</th>\n",
       "      <th>Which of the following Star Wars films have you seen? Please select all that apply.</th>\n",
       "      <th>Unnamed: 4</th>\n",
       "      <th>Unnamed: 5</th>\n",
       "      <th>Unnamed: 6</th>\n",
       "      <th>Unnamed: 7</th>\n",
       "      <th>Unnamed: 8</th>\n",
       "      <th>Please rank the Star Wars films in order of preference with 1 being your favorite film in the franchise and 6 being your least favorite film.</th>\n",
       "      <th>...</th>\n",
       "      <th>Unnamed: 28</th>\n",
       "      <th>Which character shot first?</th>\n",
       "      <th>Are you familiar with the Expanded Universe?</th>\n",
       "      <th>Do you consider yourself to be a fan of the Expanded Universe?æ</th>\n",
       "      <th>Do you consider yourself to be a fan of the Star Trek franchise?</th>\n",
       "      <th>Gender</th>\n",
       "      <th>Age</th>\n",
       "      <th>Household Income</th>\n",
       "      <th>Education</th>\n",
       "      <th>Location (Census Region)</th>\n",
       "    </tr>\n",
       "  </thead>\n",
       "  <tbody>\n",
       "    <tr>\n",
       "      <th>0</th>\n",
       "      <td>3.292880e+09</td>\n",
       "      <td>Yes</td>\n",
       "      <td>Yes</td>\n",
       "      <td>Star Wars: Episode I  The Phantom Menace</td>\n",
       "      <td>Star Wars: Episode II  Attack of the Clones</td>\n",
       "      <td>Star Wars: Episode III  Revenge of the Sith</td>\n",
       "      <td>Star Wars: Episode IV  A New Hope</td>\n",
       "      <td>Star Wars: Episode V The Empire Strikes Back</td>\n",
       "      <td>Star Wars: Episode VI Return of the Jedi</td>\n",
       "      <td>3</td>\n",
       "      <td>...</td>\n",
       "      <td>Very favorably</td>\n",
       "      <td>I don't understand this question</td>\n",
       "      <td>Yes</td>\n",
       "      <td>No</td>\n",
       "      <td>No</td>\n",
       "      <td>Male</td>\n",
       "      <td>18-29</td>\n",
       "      <td>NaN</td>\n",
       "      <td>High school degree</td>\n",
       "      <td>South Atlantic</td>\n",
       "    </tr>\n",
       "  </tbody>\n",
       "</table>\n",
       "<p>1 rows × 38 columns</p>\n",
       "</div>"
      ],
      "text/plain": [
       "   RespondentID Have you seen any of the 6 films in the Star Wars franchise?  \\\n",
       "0  3.292880e+09                                                Yes             \n",
       "\n",
       "  Do you consider yourself to be a fan of the Star Wars film franchise?  \\\n",
       "0                                                Yes                      \n",
       "\n",
       "  Which of the following Star Wars films have you seen? Please select all that apply.  \\\n",
       "0           Star Wars: Episode I  The Phantom Menace                                    \n",
       "\n",
       "                                    Unnamed: 4  \\\n",
       "0  Star Wars: Episode II  Attack of the Clones   \n",
       "\n",
       "                                    Unnamed: 5  \\\n",
       "0  Star Wars: Episode III  Revenge of the Sith   \n",
       "\n",
       "                          Unnamed: 6  \\\n",
       "0  Star Wars: Episode IV  A New Hope   \n",
       "\n",
       "                                     Unnamed: 7  \\\n",
       "0  Star Wars: Episode V The Empire Strikes Back   \n",
       "\n",
       "                                 Unnamed: 8  \\\n",
       "0  Star Wars: Episode VI Return of the Jedi   \n",
       "\n",
       "  Please rank the Star Wars films in order of preference with 1 being your favorite film in the franchise and 6 being your least favorite film.  \\\n",
       "0                                                  3                                                                                              \n",
       "\n",
       "   ...     Unnamed: 28       Which character shot first?  \\\n",
       "0  ...  Very favorably  I don't understand this question   \n",
       "\n",
       "  Are you familiar with the Expanded Universe?  \\\n",
       "0                                          Yes   \n",
       "\n",
       "  Do you consider yourself to be a fan of the Expanded Universe?æ  \\\n",
       "0                                                 No                 \n",
       "\n",
       "  Do you consider yourself to be a fan of the Star Trek franchise? Gender  \\\n",
       "0                                                 No                 Male   \n",
       "\n",
       "     Age Household Income           Education Location (Census Region)  \n",
       "0  18-29              NaN  High school degree           South Atlantic  \n",
       "\n",
       "[1 rows x 38 columns]"
      ]
     },
     "execution_count": 5,
     "metadata": {},
     "output_type": "execute_result"
    }
   ],
   "source": [
    "# store the first row in a separate dataframe\n",
    "first_row = star_wars.iloc[0].copy().to_frame()\n",
    "\n",
    "# drop the first row from the dataset and reset index\n",
    "star_wars = star_wars.drop(0).reset_index(drop=True)\n",
    "\n",
    "# validate change\n",
    "star_wars.head(1)"
   ]
  },
  {
   "cell_type": "markdown",
   "metadata": {},
   "source": [
    "### Clean missing characters\n",
    "One column in our dataset contains characters that could not be interpreted by the `ISO-8859-1` encoding. The missing characters do not appear to be important so we'll remove them now to prevent possible issues later."
   ]
  },
  {
   "cell_type": "code",
   "execution_count": 6,
   "metadata": {},
   "outputs": [
    {
     "data": {
      "text/html": [
       "<pre style=\"white-space:pre;overflow-x:auto;line-height:normal;font-family:Menlo,'DejaVu Sans Mono',consolas,'Courier New',monospace\">Do you consider yourself to be a fan of the Expanded Universe?\n",
       "</pre>\n"
      ],
      "text/plain": [
       "Do you consider yourself to be a fan of the Expanded Universe?\n"
      ]
     },
     "metadata": {},
     "output_type": "display_data"
    }
   ],
   "source": [
    "# Rename column with missing characters\n",
    "star_wars = star_wars.rename(columns={\n",
    "    'Do you consider yourself to be a fan of the Expanded Universe?æ': \n",
    "    'Do you consider yourself to be a fan of the Expanded Universe?'\n",
    "    })\n",
    "\n",
    "# validate change\n",
    "print(star_wars.columns[31])"
   ]
  },
  {
   "cell_type": "markdown",
   "metadata": {},
   "source": [
    "### Clean yes/no answer columns\n",
    "The following columns represent Yes/No-type questions:\n",
    "- `Have you seen any of the 6 films in the Star Wars franchise?`\n",
    "- `Do you consider yourself to be a fan of the Star Wars film franchise?`\n",
    "- `Are you familiar with the Expanded Universe?`\n",
    "- `Do you consider yourself to be a fan of the Expanded Universe?`\n",
    "- `Do you consider yourself to be a fan of the Star Trek franchise?`\n",
    "\n",
    "They all contain the string values `Yes` and `No` (and `NaN`). We can make the data a bit easier to analyse later by converting each column to a `Boolean` with only the values `True`, `False`, and `NaN`. Booleans are easier to work with because we can select the rows that are `True` or `False` without having to do a string comparison."
   ]
  },
  {
   "cell_type": "code",
   "execution_count": 7,
   "metadata": {},
   "outputs": [
    {
     "data": {
      "text/html": [
       "<div>\n",
       "<style scoped>\n",
       "    .dataframe tbody tr th:only-of-type {\n",
       "        vertical-align: middle;\n",
       "    }\n",
       "\n",
       "    .dataframe tbody tr th {\n",
       "        vertical-align: top;\n",
       "    }\n",
       "\n",
       "    .dataframe thead th {\n",
       "        text-align: right;\n",
       "    }\n",
       "</style>\n",
       "<table border=\"1\" class=\"dataframe\">\n",
       "  <thead>\n",
       "    <tr style=\"text-align: right;\">\n",
       "      <th></th>\n",
       "      <th>Have you seen any of the 6 films in the Star Wars franchise?</th>\n",
       "      <th>Do you consider yourself to be a fan of the Star Wars film franchise?</th>\n",
       "      <th>Are you familiar with the Expanded Universe?</th>\n",
       "      <th>Do you consider yourself to be a fan of the Expanded Universe?</th>\n",
       "      <th>Do you consider yourself to be a fan of the Star Trek franchise?</th>\n",
       "    </tr>\n",
       "  </thead>\n",
       "  <tbody>\n",
       "    <tr>\n",
       "      <th>0</th>\n",
       "      <td>True</td>\n",
       "      <td>True</td>\n",
       "      <td>True</td>\n",
       "      <td>False</td>\n",
       "      <td>False</td>\n",
       "    </tr>\n",
       "    <tr>\n",
       "      <th>1</th>\n",
       "      <td>False</td>\n",
       "      <td>NaN</td>\n",
       "      <td>NaN</td>\n",
       "      <td>NaN</td>\n",
       "      <td>True</td>\n",
       "    </tr>\n",
       "    <tr>\n",
       "      <th>2</th>\n",
       "      <td>True</td>\n",
       "      <td>False</td>\n",
       "      <td>False</td>\n",
       "      <td>NaN</td>\n",
       "      <td>False</td>\n",
       "    </tr>\n",
       "    <tr>\n",
       "      <th>3</th>\n",
       "      <td>True</td>\n",
       "      <td>True</td>\n",
       "      <td>False</td>\n",
       "      <td>NaN</td>\n",
       "      <td>True</td>\n",
       "    </tr>\n",
       "    <tr>\n",
       "      <th>4</th>\n",
       "      <td>True</td>\n",
       "      <td>True</td>\n",
       "      <td>True</td>\n",
       "      <td>False</td>\n",
       "      <td>False</td>\n",
       "    </tr>\n",
       "  </tbody>\n",
       "</table>\n",
       "</div>"
      ],
      "text/plain": [
       "   Have you seen any of the 6 films in the Star Wars franchise?  \\\n",
       "0                                               True              \n",
       "1                                              False              \n",
       "2                                               True              \n",
       "3                                               True              \n",
       "4                                               True              \n",
       "\n",
       "  Do you consider yourself to be a fan of the Star Wars film franchise?  \\\n",
       "0                                               True                      \n",
       "1                                                NaN                      \n",
       "2                                              False                      \n",
       "3                                               True                      \n",
       "4                                               True                      \n",
       "\n",
       "  Are you familiar with the Expanded Universe?  \\\n",
       "0                                         True   \n",
       "1                                          NaN   \n",
       "2                                        False   \n",
       "3                                        False   \n",
       "4                                         True   \n",
       "\n",
       "  Do you consider yourself to be a fan of the Expanded Universe?  \\\n",
       "0                                              False               \n",
       "1                                                NaN               \n",
       "2                                                NaN               \n",
       "3                                                NaN               \n",
       "4                                              False               \n",
       "\n",
       "  Do you consider yourself to be a fan of the Star Trek franchise?  \n",
       "0                                              False                \n",
       "1                                               True                \n",
       "2                                              False                \n",
       "3                                               True                \n",
       "4                                              False                "
      ]
     },
     "execution_count": 7,
     "metadata": {},
     "output_type": "execute_result"
    }
   ],
   "source": [
    "# create mapping dictionary\n",
    "bool_map = {\n",
    "    \"Yes\": True,\n",
    "    \"No\": False,\n",
    "}\n",
    "\n",
    "yes_no_cols = [\n",
    "    \"Have you seen any of the 6 films in the Star Wars franchise?\",\n",
    "    \"Do you consider yourself to be a fan of the Star Wars film franchise?\",\n",
    "    \"Are you familiar with the Expanded Universe?\",\n",
    "    \"Do you consider yourself to be a fan of the Expanded Universe?\",\n",
    "    \"Do you consider yourself to be a fan of the Star Trek franchise?\"\n",
    "]\n",
    "\n",
    "# map new values to columns\n",
    "for col in yes_no_cols:\n",
    "    star_wars[col] = star_wars[col].map(bool_map)\n",
    "\n",
    "# validate change\n",
    "star_wars[yes_no_cols].head()"
   ]
  },
  {
   "cell_type": "markdown",
   "metadata": {},
   "source": [
    "### Clean question on seen Star Wars films \n",
    "These six columns in our `star_wars` dataset represent a single checkbox question in the survey asking which of the six Star Wars films the respondent has seen."
   ]
  },
  {
   "cell_type": "code",
   "execution_count": 8,
   "metadata": {},
   "outputs": [
    {
     "data": {
      "text/html": [
       "<div>\n",
       "<style scoped>\n",
       "    .dataframe tbody tr th:only-of-type {\n",
       "        vertical-align: middle;\n",
       "    }\n",
       "\n",
       "    .dataframe tbody tr th {\n",
       "        vertical-align: top;\n",
       "    }\n",
       "\n",
       "    .dataframe thead th {\n",
       "        text-align: right;\n",
       "    }\n",
       "</style>\n",
       "<table border=\"1\" class=\"dataframe\">\n",
       "  <thead>\n",
       "    <tr style=\"text-align: right;\">\n",
       "      <th></th>\n",
       "      <th>Which of the following Star Wars films have you seen? Please select all that apply.</th>\n",
       "      <th>Unnamed: 4</th>\n",
       "      <th>Unnamed: 5</th>\n",
       "      <th>Unnamed: 6</th>\n",
       "      <th>Unnamed: 7</th>\n",
       "      <th>Unnamed: 8</th>\n",
       "    </tr>\n",
       "  </thead>\n",
       "  <tbody>\n",
       "    <tr>\n",
       "      <th>0</th>\n",
       "      <td>Star Wars: Episode I  The Phantom Menace</td>\n",
       "      <td>Star Wars: Episode II  Attack of the Clones</td>\n",
       "      <td>Star Wars: Episode III  Revenge of the Sith</td>\n",
       "      <td>Star Wars: Episode IV  A New Hope</td>\n",
       "      <td>Star Wars: Episode V The Empire Strikes Back</td>\n",
       "      <td>Star Wars: Episode VI Return of the Jedi</td>\n",
       "    </tr>\n",
       "    <tr>\n",
       "      <th>1</th>\n",
       "      <td>NaN</td>\n",
       "      <td>NaN</td>\n",
       "      <td>NaN</td>\n",
       "      <td>NaN</td>\n",
       "      <td>NaN</td>\n",
       "      <td>NaN</td>\n",
       "    </tr>\n",
       "    <tr>\n",
       "      <th>2</th>\n",
       "      <td>Star Wars: Episode I  The Phantom Menace</td>\n",
       "      <td>Star Wars: Episode II  Attack of the Clones</td>\n",
       "      <td>Star Wars: Episode III  Revenge of the Sith</td>\n",
       "      <td>NaN</td>\n",
       "      <td>NaN</td>\n",
       "      <td>NaN</td>\n",
       "    </tr>\n",
       "    <tr>\n",
       "      <th>3</th>\n",
       "      <td>Star Wars: Episode I  The Phantom Menace</td>\n",
       "      <td>Star Wars: Episode II  Attack of the Clones</td>\n",
       "      <td>Star Wars: Episode III  Revenge of the Sith</td>\n",
       "      <td>Star Wars: Episode IV  A New Hope</td>\n",
       "      <td>Star Wars: Episode V The Empire Strikes Back</td>\n",
       "      <td>Star Wars: Episode VI Return of the Jedi</td>\n",
       "    </tr>\n",
       "    <tr>\n",
       "      <th>4</th>\n",
       "      <td>Star Wars: Episode I  The Phantom Menace</td>\n",
       "      <td>Star Wars: Episode II  Attack of the Clones</td>\n",
       "      <td>Star Wars: Episode III  Revenge of the Sith</td>\n",
       "      <td>Star Wars: Episode IV  A New Hope</td>\n",
       "      <td>Star Wars: Episode V The Empire Strikes Back</td>\n",
       "      <td>Star Wars: Episode VI Return of the Jedi</td>\n",
       "    </tr>\n",
       "  </tbody>\n",
       "</table>\n",
       "</div>"
      ],
      "text/plain": [
       "  Which of the following Star Wars films have you seen? Please select all that apply.  \\\n",
       "0           Star Wars: Episode I  The Phantom Menace                                    \n",
       "1                                                NaN                                    \n",
       "2           Star Wars: Episode I  The Phantom Menace                                    \n",
       "3           Star Wars: Episode I  The Phantom Menace                                    \n",
       "4           Star Wars: Episode I  The Phantom Menace                                    \n",
       "\n",
       "                                    Unnamed: 4  \\\n",
       "0  Star Wars: Episode II  Attack of the Clones   \n",
       "1                                          NaN   \n",
       "2  Star Wars: Episode II  Attack of the Clones   \n",
       "3  Star Wars: Episode II  Attack of the Clones   \n",
       "4  Star Wars: Episode II  Attack of the Clones   \n",
       "\n",
       "                                    Unnamed: 5  \\\n",
       "0  Star Wars: Episode III  Revenge of the Sith   \n",
       "1                                          NaN   \n",
       "2  Star Wars: Episode III  Revenge of the Sith   \n",
       "3  Star Wars: Episode III  Revenge of the Sith   \n",
       "4  Star Wars: Episode III  Revenge of the Sith   \n",
       "\n",
       "                          Unnamed: 6  \\\n",
       "0  Star Wars: Episode IV  A New Hope   \n",
       "1                                NaN   \n",
       "2                                NaN   \n",
       "3  Star Wars: Episode IV  A New Hope   \n",
       "4  Star Wars: Episode IV  A New Hope   \n",
       "\n",
       "                                     Unnamed: 7  \\\n",
       "0  Star Wars: Episode V The Empire Strikes Back   \n",
       "1                                           NaN   \n",
       "2                                           NaN   \n",
       "3  Star Wars: Episode V The Empire Strikes Back   \n",
       "4  Star Wars: Episode V The Empire Strikes Back   \n",
       "\n",
       "                                 Unnamed: 8  \n",
       "0  Star Wars: Episode VI Return of the Jedi  \n",
       "1                                       NaN  \n",
       "2                                       NaN  \n",
       "3  Star Wars: Episode VI Return of the Jedi  \n",
       "4  Star Wars: Episode VI Return of the Jedi  "
      ]
     },
     "execution_count": 8,
     "metadata": {},
     "output_type": "execute_result"
    }
   ],
   "source": [
    "# show next six columns\n",
    "star_wars.iloc[:5,3:9]"
   ]
  },
  {
   "cell_type": "markdown",
   "metadata": {},
   "source": [
    "- `Which of the following Star Wars films have you seen? Please select all that apply.` — whether or not the respondent saw Star Wars: Episode I The Phantom Menace.\n",
    "- `Unnamed: 4` — whether or not the respondent saw Star Wars: Episode II Attack of the Clones.\n",
    "- `Unnamed: 5` — whether or not the respondent saw Star Wars: Episode III Revenge of the Sith.\n",
    "- `Unnamed: 6` — whether or not the respondent saw Star Wars: Episode IV A New Hope.\n",
    "- `Unnamed: 7` — whether or not the respondent saw Star Wars: Episode V The Empire Strikes Back.\n",
    "- `Unnamed: 8` — whether or not the respondent saw Star Wars: Episode VI Return of the Jedi.\n",
    "\n",
    "For each of these columns, it appears that if the value of the cell is the name of the movie, that means the respondent saw the movie. If the value is `NaN`, the respondent either didn't answer or didn't see the movie. For cleaning purposes, **we'll assume** `NaN` **means they didn't see the movie**.\n",
    "\n",
    "As before, let's convert each of these columns to contain `Boolean` values."
   ]
  },
  {
   "cell_type": "code",
   "execution_count": 9,
   "metadata": {},
   "outputs": [
    {
     "data": {
      "text/html": [
       "<div>\n",
       "<style scoped>\n",
       "    .dataframe tbody tr th:only-of-type {\n",
       "        vertical-align: middle;\n",
       "    }\n",
       "\n",
       "    .dataframe tbody tr th {\n",
       "        vertical-align: top;\n",
       "    }\n",
       "\n",
       "    .dataframe thead th {\n",
       "        text-align: right;\n",
       "    }\n",
       "</style>\n",
       "<table border=\"1\" class=\"dataframe\">\n",
       "  <thead>\n",
       "    <tr style=\"text-align: right;\">\n",
       "      <th></th>\n",
       "      <th>seen_1</th>\n",
       "      <th>seen_2</th>\n",
       "      <th>seen_3</th>\n",
       "      <th>seen_4</th>\n",
       "      <th>seen_5</th>\n",
       "      <th>seen_6</th>\n",
       "    </tr>\n",
       "  </thead>\n",
       "  <tbody>\n",
       "    <tr>\n",
       "      <th>0</th>\n",
       "      <td>True</td>\n",
       "      <td>True</td>\n",
       "      <td>True</td>\n",
       "      <td>True</td>\n",
       "      <td>True</td>\n",
       "      <td>True</td>\n",
       "    </tr>\n",
       "    <tr>\n",
       "      <th>1</th>\n",
       "      <td>False</td>\n",
       "      <td>False</td>\n",
       "      <td>False</td>\n",
       "      <td>False</td>\n",
       "      <td>False</td>\n",
       "      <td>False</td>\n",
       "    </tr>\n",
       "    <tr>\n",
       "      <th>2</th>\n",
       "      <td>True</td>\n",
       "      <td>True</td>\n",
       "      <td>True</td>\n",
       "      <td>False</td>\n",
       "      <td>False</td>\n",
       "      <td>False</td>\n",
       "    </tr>\n",
       "    <tr>\n",
       "      <th>3</th>\n",
       "      <td>True</td>\n",
       "      <td>True</td>\n",
       "      <td>True</td>\n",
       "      <td>True</td>\n",
       "      <td>True</td>\n",
       "      <td>True</td>\n",
       "    </tr>\n",
       "    <tr>\n",
       "      <th>4</th>\n",
       "      <td>True</td>\n",
       "      <td>True</td>\n",
       "      <td>True</td>\n",
       "      <td>True</td>\n",
       "      <td>True</td>\n",
       "      <td>True</td>\n",
       "    </tr>\n",
       "  </tbody>\n",
       "</table>\n",
       "</div>"
      ],
      "text/plain": [
       "   seen_1  seen_2  seen_3  seen_4  seen_5  seen_6\n",
       "0    True    True    True    True    True    True\n",
       "1   False   False   False   False   False   False\n",
       "2    True    True    True   False   False   False\n",
       "3    True    True    True    True    True    True\n",
       "4    True    True    True    True    True    True"
      ]
     },
     "execution_count": 9,
     "metadata": {},
     "output_type": "execute_result"
    }
   ],
   "source": [
    "# create mapping dictionary\n",
    "film_map = {\n",
    "    np.nan: False,\n",
    "    \"Star Wars: Episode I  The Phantom Menace\": True,\n",
    "    \"Star Wars: Episode II  Attack of the Clones\": True,\n",
    "    \"Star Wars: Episode III  Revenge of the Sith\": True,\n",
    "    \"Star Wars: Episode IV  A New Hope\": True,\n",
    "    \"Star Wars: Episode V The Empire Strikes Back\": True,\n",
    "    \"Star Wars: Episode VI Return of the Jedi\": True\n",
    "}\n",
    "\n",
    "# remap values in columns to bools and rename columns titles to be more intuitive\n",
    "for count, col in enumerate(star_wars[star_wars.columns[3:9]]):\n",
    "    star_wars[col] = star_wars[col].map(film_map)\n",
    "    star_wars.rename(columns={col: \"seen_\" + str(count + 1)}, inplace=True)\n",
    "\n",
    "# check output\n",
    "star_wars.iloc[:5,3:9]"
   ]
  },
  {
   "cell_type": "markdown",
   "metadata": {},
   "source": [
    "### Clean film ranking columns\n",
    "The next six columns in the dataset relate to a question asking the respondent to rank the Star Wars films in order from least, `6`, to most favourite `1`. Possible values are therefore: `1`, `2`, `3`, `4`, `5`, `6`, and `NaN`."
   ]
  },
  {
   "cell_type": "code",
   "execution_count": 10,
   "metadata": {},
   "outputs": [
    {
     "data": {
      "text/html": [
       "<div>\n",
       "<style scoped>\n",
       "    .dataframe tbody tr th:only-of-type {\n",
       "        vertical-align: middle;\n",
       "    }\n",
       "\n",
       "    .dataframe tbody tr th {\n",
       "        vertical-align: top;\n",
       "    }\n",
       "\n",
       "    .dataframe thead th {\n",
       "        text-align: right;\n",
       "    }\n",
       "</style>\n",
       "<table border=\"1\" class=\"dataframe\">\n",
       "  <thead>\n",
       "    <tr style=\"text-align: right;\">\n",
       "      <th></th>\n",
       "      <th>Please rank the Star Wars films in order of preference with 1 being your favorite film in the franchise and 6 being your least favorite film.</th>\n",
       "      <th>Unnamed: 10</th>\n",
       "      <th>Unnamed: 11</th>\n",
       "      <th>Unnamed: 12</th>\n",
       "      <th>Unnamed: 13</th>\n",
       "      <th>Unnamed: 14</th>\n",
       "    </tr>\n",
       "  </thead>\n",
       "  <tbody>\n",
       "    <tr>\n",
       "      <th>0</th>\n",
       "      <td>3</td>\n",
       "      <td>2</td>\n",
       "      <td>1</td>\n",
       "      <td>4</td>\n",
       "      <td>5</td>\n",
       "      <td>6</td>\n",
       "    </tr>\n",
       "    <tr>\n",
       "      <th>1</th>\n",
       "      <td>NaN</td>\n",
       "      <td>NaN</td>\n",
       "      <td>NaN</td>\n",
       "      <td>NaN</td>\n",
       "      <td>NaN</td>\n",
       "      <td>NaN</td>\n",
       "    </tr>\n",
       "    <tr>\n",
       "      <th>2</th>\n",
       "      <td>1</td>\n",
       "      <td>2</td>\n",
       "      <td>3</td>\n",
       "      <td>4</td>\n",
       "      <td>5</td>\n",
       "      <td>6</td>\n",
       "    </tr>\n",
       "    <tr>\n",
       "      <th>3</th>\n",
       "      <td>5</td>\n",
       "      <td>6</td>\n",
       "      <td>1</td>\n",
       "      <td>2</td>\n",
       "      <td>4</td>\n",
       "      <td>3</td>\n",
       "    </tr>\n",
       "    <tr>\n",
       "      <th>4</th>\n",
       "      <td>5</td>\n",
       "      <td>4</td>\n",
       "      <td>6</td>\n",
       "      <td>2</td>\n",
       "      <td>1</td>\n",
       "      <td>3</td>\n",
       "    </tr>\n",
       "  </tbody>\n",
       "</table>\n",
       "</div>"
      ],
      "text/plain": [
       "  Please rank the Star Wars films in order of preference with 1 being your favorite film in the franchise and 6 being your least favorite film.  \\\n",
       "0                                                  3                                                                                              \n",
       "1                                                NaN                                                                                              \n",
       "2                                                  1                                                                                              \n",
       "3                                                  5                                                                                              \n",
       "4                                                  5                                                                                              \n",
       "\n",
       "  Unnamed: 10 Unnamed: 11 Unnamed: 12 Unnamed: 13 Unnamed: 14  \n",
       "0           2           1           4           5           6  \n",
       "1         NaN         NaN         NaN         NaN         NaN  \n",
       "2           2           3           4           5           6  \n",
       "3           6           1           2           4           3  \n",
       "4           4           6           2           1           3  "
      ]
     },
     "execution_count": 10,
     "metadata": {},
     "output_type": "execute_result"
    }
   ],
   "source": [
    "star_wars.iloc[:5,9:15]"
   ]
  },
  {
   "cell_type": "markdown",
   "metadata": {},
   "source": [
    "Here's what each column references:\n",
    "\n",
    "- `Please rank the Star Wars films in order of preference with 1 being your favorite film in the franchise and 6 being your least favorite film.` - How much the respondent liked Star Wars: Episode I The Phantom Menace\n",
    "- `Unnamed: 10` — How much the respondent liked Star Wars: Episode II Attack of the Clones\n",
    "- `Unnamed: 11` — How much the respondent liked Star Wars: Episode III Revenge of the Sith\n",
    "- `Unnamed: 12` — How much the respondent liked Star Wars: Episode IV A New Hope\n",
    "- `Unnamed: 13` — How much the respondent liked Star Wars: Episode V The Empire Strikes Back\n",
    "- `Unnamed: 14` — How much the respondent liked Star Wars: Episode VI Return of the Jedi\n",
    "\n",
    "As before, we will need to rename these columns so that they are more intuitive. We will also need to convert each column to a numeric datatype."
   ]
  },
  {
   "cell_type": "code",
   "execution_count": 11,
   "metadata": {},
   "outputs": [
    {
     "data": {
      "text/html": [
       "<div>\n",
       "<style scoped>\n",
       "    .dataframe tbody tr th:only-of-type {\n",
       "        vertical-align: middle;\n",
       "    }\n",
       "\n",
       "    .dataframe tbody tr th {\n",
       "        vertical-align: top;\n",
       "    }\n",
       "\n",
       "    .dataframe thead th {\n",
       "        text-align: right;\n",
       "    }\n",
       "</style>\n",
       "<table border=\"1\" class=\"dataframe\">\n",
       "  <thead>\n",
       "    <tr style=\"text-align: right;\">\n",
       "      <th></th>\n",
       "      <th>ranking_1</th>\n",
       "      <th>ranking_2</th>\n",
       "      <th>ranking_3</th>\n",
       "      <th>ranking_4</th>\n",
       "      <th>ranking_5</th>\n",
       "      <th>ranking_6</th>\n",
       "    </tr>\n",
       "  </thead>\n",
       "  <tbody>\n",
       "    <tr>\n",
       "      <th>0</th>\n",
       "      <td>3.0</td>\n",
       "      <td>2.0</td>\n",
       "      <td>1.0</td>\n",
       "      <td>4.0</td>\n",
       "      <td>5.0</td>\n",
       "      <td>6.0</td>\n",
       "    </tr>\n",
       "    <tr>\n",
       "      <th>1</th>\n",
       "      <td>NaN</td>\n",
       "      <td>NaN</td>\n",
       "      <td>NaN</td>\n",
       "      <td>NaN</td>\n",
       "      <td>NaN</td>\n",
       "      <td>NaN</td>\n",
       "    </tr>\n",
       "    <tr>\n",
       "      <th>2</th>\n",
       "      <td>1.0</td>\n",
       "      <td>2.0</td>\n",
       "      <td>3.0</td>\n",
       "      <td>4.0</td>\n",
       "      <td>5.0</td>\n",
       "      <td>6.0</td>\n",
       "    </tr>\n",
       "    <tr>\n",
       "      <th>3</th>\n",
       "      <td>5.0</td>\n",
       "      <td>6.0</td>\n",
       "      <td>1.0</td>\n",
       "      <td>2.0</td>\n",
       "      <td>4.0</td>\n",
       "      <td>3.0</td>\n",
       "    </tr>\n",
       "    <tr>\n",
       "      <th>4</th>\n",
       "      <td>5.0</td>\n",
       "      <td>4.0</td>\n",
       "      <td>6.0</td>\n",
       "      <td>2.0</td>\n",
       "      <td>1.0</td>\n",
       "      <td>3.0</td>\n",
       "    </tr>\n",
       "  </tbody>\n",
       "</table>\n",
       "</div>"
      ],
      "text/plain": [
       "   ranking_1  ranking_2  ranking_3  ranking_4  ranking_5  ranking_6\n",
       "0        3.0        2.0        1.0        4.0        5.0        6.0\n",
       "1        NaN        NaN        NaN        NaN        NaN        NaN\n",
       "2        1.0        2.0        3.0        4.0        5.0        6.0\n",
       "3        5.0        6.0        1.0        2.0        4.0        3.0\n",
       "4        5.0        4.0        6.0        2.0        1.0        3.0"
      ]
     },
     "execution_count": 11,
     "metadata": {},
     "output_type": "execute_result"
    }
   ],
   "source": [
    "# convert column values to float type\n",
    "star_wars[star_wars.columns[9:15]] = star_wars[star_wars.columns[9:15]].astype(float)\n",
    "\n",
    "# rename columns\n",
    "for count, col in enumerate(star_wars[star_wars.columns[9:15]]):\n",
    "    star_wars.rename(columns={col: \"ranking_\" + str(count + 1)}, inplace=True)\n",
    "\n",
    "# check output\n",
    "star_wars.iloc[:5,9:15]"
   ]
  },
  {
   "cell_type": "markdown",
   "metadata": {},
   "source": [
    "### Clean character favourability columns\n",
    "Columns 15 through 28 relate to a question asking how the respondents rated various characters in the Star Wars films."
   ]
  },
  {
   "cell_type": "code",
   "execution_count": 12,
   "metadata": {},
   "outputs": [
    {
     "data": {
      "text/html": [
       "<div>\n",
       "<style scoped>\n",
       "    .dataframe tbody tr th:only-of-type {\n",
       "        vertical-align: middle;\n",
       "    }\n",
       "\n",
       "    .dataframe tbody tr th {\n",
       "        vertical-align: top;\n",
       "    }\n",
       "\n",
       "    .dataframe thead th {\n",
       "        text-align: right;\n",
       "    }\n",
       "</style>\n",
       "<table border=\"1\" class=\"dataframe\">\n",
       "  <thead>\n",
       "    <tr style=\"text-align: right;\">\n",
       "      <th></th>\n",
       "      <th>Please state whether you view the following characters favorably, unfavorably, or are unfamiliar with him/her.</th>\n",
       "      <th>Unnamed: 16</th>\n",
       "      <th>Unnamed: 17</th>\n",
       "      <th>Unnamed: 18</th>\n",
       "      <th>Unnamed: 19</th>\n",
       "      <th>Unnamed: 20</th>\n",
       "      <th>Unnamed: 21</th>\n",
       "      <th>Unnamed: 22</th>\n",
       "      <th>Unnamed: 23</th>\n",
       "      <th>Unnamed: 24</th>\n",
       "      <th>Unnamed: 25</th>\n",
       "      <th>Unnamed: 26</th>\n",
       "      <th>Unnamed: 27</th>\n",
       "      <th>Unnamed: 28</th>\n",
       "    </tr>\n",
       "  </thead>\n",
       "  <tbody>\n",
       "    <tr>\n",
       "      <th>0</th>\n",
       "      <td>Very favorably</td>\n",
       "      <td>Very favorably</td>\n",
       "      <td>Very favorably</td>\n",
       "      <td>Very favorably</td>\n",
       "      <td>Very favorably</td>\n",
       "      <td>Very favorably</td>\n",
       "      <td>Very favorably</td>\n",
       "      <td>Unfamiliar (N/A)</td>\n",
       "      <td>Unfamiliar (N/A)</td>\n",
       "      <td>Very favorably</td>\n",
       "      <td>Very favorably</td>\n",
       "      <td>Very favorably</td>\n",
       "      <td>Very favorably</td>\n",
       "      <td>Very favorably</td>\n",
       "    </tr>\n",
       "    <tr>\n",
       "      <th>1</th>\n",
       "      <td>NaN</td>\n",
       "      <td>NaN</td>\n",
       "      <td>NaN</td>\n",
       "      <td>NaN</td>\n",
       "      <td>NaN</td>\n",
       "      <td>NaN</td>\n",
       "      <td>NaN</td>\n",
       "      <td>NaN</td>\n",
       "      <td>NaN</td>\n",
       "      <td>NaN</td>\n",
       "      <td>NaN</td>\n",
       "      <td>NaN</td>\n",
       "      <td>NaN</td>\n",
       "      <td>NaN</td>\n",
       "    </tr>\n",
       "    <tr>\n",
       "      <th>2</th>\n",
       "      <td>Somewhat favorably</td>\n",
       "      <td>Somewhat favorably</td>\n",
       "      <td>Somewhat favorably</td>\n",
       "      <td>Somewhat favorably</td>\n",
       "      <td>Somewhat favorably</td>\n",
       "      <td>Unfamiliar (N/A)</td>\n",
       "      <td>Unfamiliar (N/A)</td>\n",
       "      <td>Unfamiliar (N/A)</td>\n",
       "      <td>Unfamiliar (N/A)</td>\n",
       "      <td>Unfamiliar (N/A)</td>\n",
       "      <td>Unfamiliar (N/A)</td>\n",
       "      <td>Unfamiliar (N/A)</td>\n",
       "      <td>Unfamiliar (N/A)</td>\n",
       "      <td>Unfamiliar (N/A)</td>\n",
       "    </tr>\n",
       "    <tr>\n",
       "      <th>3</th>\n",
       "      <td>Very favorably</td>\n",
       "      <td>Very favorably</td>\n",
       "      <td>Very favorably</td>\n",
       "      <td>Very favorably</td>\n",
       "      <td>Very favorably</td>\n",
       "      <td>Somewhat favorably</td>\n",
       "      <td>Very favorably</td>\n",
       "      <td>Somewhat favorably</td>\n",
       "      <td>Somewhat unfavorably</td>\n",
       "      <td>Very favorably</td>\n",
       "      <td>Very favorably</td>\n",
       "      <td>Very favorably</td>\n",
       "      <td>Very favorably</td>\n",
       "      <td>Very favorably</td>\n",
       "    </tr>\n",
       "    <tr>\n",
       "      <th>4</th>\n",
       "      <td>Very favorably</td>\n",
       "      <td>Somewhat favorably</td>\n",
       "      <td>Somewhat favorably</td>\n",
       "      <td>Somewhat unfavorably</td>\n",
       "      <td>Very favorably</td>\n",
       "      <td>Very unfavorably</td>\n",
       "      <td>Somewhat favorably</td>\n",
       "      <td>Neither favorably nor unfavorably (neutral)</td>\n",
       "      <td>Very favorably</td>\n",
       "      <td>Somewhat favorably</td>\n",
       "      <td>Somewhat favorably</td>\n",
       "      <td>Very unfavorably</td>\n",
       "      <td>Somewhat favorably</td>\n",
       "      <td>Somewhat favorably</td>\n",
       "    </tr>\n",
       "  </tbody>\n",
       "</table>\n",
       "</div>"
      ],
      "text/plain": [
       "  Please state whether you view the following characters favorably, unfavorably, or are unfamiliar with him/her.  \\\n",
       "0                                     Very favorably                                                               \n",
       "1                                                NaN                                                               \n",
       "2                                 Somewhat favorably                                                               \n",
       "3                                     Very favorably                                                               \n",
       "4                                     Very favorably                                                               \n",
       "\n",
       "          Unnamed: 16         Unnamed: 17           Unnamed: 18  \\\n",
       "0      Very favorably      Very favorably        Very favorably   \n",
       "1                 NaN                 NaN                   NaN   \n",
       "2  Somewhat favorably  Somewhat favorably    Somewhat favorably   \n",
       "3      Very favorably      Very favorably        Very favorably   \n",
       "4  Somewhat favorably  Somewhat favorably  Somewhat unfavorably   \n",
       "\n",
       "          Unnamed: 19         Unnamed: 20         Unnamed: 21  \\\n",
       "0      Very favorably      Very favorably      Very favorably   \n",
       "1                 NaN                 NaN                 NaN   \n",
       "2  Somewhat favorably    Unfamiliar (N/A)    Unfamiliar (N/A)   \n",
       "3      Very favorably  Somewhat favorably      Very favorably   \n",
       "4      Very favorably    Very unfavorably  Somewhat favorably   \n",
       "\n",
       "                                   Unnamed: 22           Unnamed: 23  \\\n",
       "0                             Unfamiliar (N/A)      Unfamiliar (N/A)   \n",
       "1                                          NaN                   NaN   \n",
       "2                             Unfamiliar (N/A)      Unfamiliar (N/A)   \n",
       "3                           Somewhat favorably  Somewhat unfavorably   \n",
       "4  Neither favorably nor unfavorably (neutral)        Very favorably   \n",
       "\n",
       "          Unnamed: 24         Unnamed: 25       Unnamed: 26  \\\n",
       "0      Very favorably      Very favorably    Very favorably   \n",
       "1                 NaN                 NaN               NaN   \n",
       "2    Unfamiliar (N/A)    Unfamiliar (N/A)  Unfamiliar (N/A)   \n",
       "3      Very favorably      Very favorably    Very favorably   \n",
       "4  Somewhat favorably  Somewhat favorably  Very unfavorably   \n",
       "\n",
       "          Unnamed: 27         Unnamed: 28  \n",
       "0      Very favorably      Very favorably  \n",
       "1                 NaN                 NaN  \n",
       "2    Unfamiliar (N/A)    Unfamiliar (N/A)  \n",
       "3      Very favorably      Very favorably  \n",
       "4  Somewhat favorably  Somewhat favorably  "
      ]
     },
     "execution_count": 12,
     "metadata": {},
     "output_type": "execute_result"
    }
   ],
   "source": [
    "star_wars.iloc[:5,15:29]"
   ]
  },
  {
   "cell_type": "markdown",
   "metadata": {},
   "source": [
    "If we slice the `first_row` we created earlier by the same index, we can see which character maps to which column."
   ]
  },
  {
   "cell_type": "code",
   "execution_count": 13,
   "metadata": {},
   "outputs": [
    {
     "data": {
      "text/html": [
       "<div>\n",
       "<style scoped>\n",
       "    .dataframe tbody tr th:only-of-type {\n",
       "        vertical-align: middle;\n",
       "    }\n",
       "\n",
       "    .dataframe tbody tr th {\n",
       "        vertical-align: top;\n",
       "    }\n",
       "\n",
       "    .dataframe thead th {\n",
       "        text-align: right;\n",
       "    }\n",
       "</style>\n",
       "<table border=\"1\" class=\"dataframe\">\n",
       "  <thead>\n",
       "    <tr style=\"text-align: right;\">\n",
       "      <th></th>\n",
       "      <th>0</th>\n",
       "    </tr>\n",
       "  </thead>\n",
       "  <tbody>\n",
       "    <tr>\n",
       "      <th>Please state whether you view the following characters favorably, unfavorably, or are unfamiliar with him/her.</th>\n",
       "      <td>Han Solo</td>\n",
       "    </tr>\n",
       "    <tr>\n",
       "      <th>Unnamed: 16</th>\n",
       "      <td>Luke Skywalker</td>\n",
       "    </tr>\n",
       "    <tr>\n",
       "      <th>Unnamed: 17</th>\n",
       "      <td>Princess Leia Organa</td>\n",
       "    </tr>\n",
       "    <tr>\n",
       "      <th>Unnamed: 18</th>\n",
       "      <td>Anakin Skywalker</td>\n",
       "    </tr>\n",
       "    <tr>\n",
       "      <th>Unnamed: 19</th>\n",
       "      <td>Obi Wan Kenobi</td>\n",
       "    </tr>\n",
       "    <tr>\n",
       "      <th>Unnamed: 20</th>\n",
       "      <td>Emperor Palpatine</td>\n",
       "    </tr>\n",
       "    <tr>\n",
       "      <th>Unnamed: 21</th>\n",
       "      <td>Darth Vader</td>\n",
       "    </tr>\n",
       "    <tr>\n",
       "      <th>Unnamed: 22</th>\n",
       "      <td>Lando Calrissian</td>\n",
       "    </tr>\n",
       "    <tr>\n",
       "      <th>Unnamed: 23</th>\n",
       "      <td>Boba Fett</td>\n",
       "    </tr>\n",
       "    <tr>\n",
       "      <th>Unnamed: 24</th>\n",
       "      <td>C-3P0</td>\n",
       "    </tr>\n",
       "    <tr>\n",
       "      <th>Unnamed: 25</th>\n",
       "      <td>R2 D2</td>\n",
       "    </tr>\n",
       "    <tr>\n",
       "      <th>Unnamed: 26</th>\n",
       "      <td>Jar Jar Binks</td>\n",
       "    </tr>\n",
       "    <tr>\n",
       "      <th>Unnamed: 27</th>\n",
       "      <td>Padme Amidala</td>\n",
       "    </tr>\n",
       "    <tr>\n",
       "      <th>Unnamed: 28</th>\n",
       "      <td>Yoda</td>\n",
       "    </tr>\n",
       "  </tbody>\n",
       "</table>\n",
       "</div>"
      ],
      "text/plain": [
       "                                                                       0\n",
       "Please state whether you view the following cha...              Han Solo\n",
       "Unnamed: 16                                               Luke Skywalker\n",
       "Unnamed: 17                                         Princess Leia Organa\n",
       "Unnamed: 18                                             Anakin Skywalker\n",
       "Unnamed: 19                                               Obi Wan Kenobi\n",
       "Unnamed: 20                                            Emperor Palpatine\n",
       "Unnamed: 21                                                  Darth Vader\n",
       "Unnamed: 22                                             Lando Calrissian\n",
       "Unnamed: 23                                                    Boba Fett\n",
       "Unnamed: 24                                                        C-3P0\n",
       "Unnamed: 25                                                        R2 D2\n",
       "Unnamed: 26                                                Jar Jar Binks\n",
       "Unnamed: 27                                                Padme Amidala\n",
       "Unnamed: 28                                                         Yoda"
      ]
     },
     "execution_count": 13,
     "metadata": {},
     "output_type": "execute_result"
    }
   ],
   "source": [
    "first_row[15:29]"
   ]
  },
  {
   "cell_type": "markdown",
   "metadata": {},
   "source": [
    "Let's update columns `15:29` in our `star_wars` dataframe with the corresponding character name in `first_row`."
   ]
  },
  {
   "cell_type": "code",
   "execution_count": 14,
   "metadata": {},
   "outputs": [
    {
     "data": {
      "text/html": [
       "<pre style=\"white-space:pre;overflow-x:auto;line-height:normal;font-family:Menlo,'DejaVu Sans Mono',consolas,'Courier New',monospace\"><span style=\"font-weight: bold\">Nested dictionary</span> \n",
       "\n",
       "</pre>\n"
      ],
      "text/plain": [
       "\u001b[1mNested dictionary\u001b[0m \n",
       "\n"
      ]
     },
     "metadata": {},
     "output_type": "display_data"
    },
    {
     "data": {
      "text/html": [
       "<pre style=\"white-space:pre;overflow-x:auto;line-height:normal;font-family:Menlo,'DejaVu Sans Mono',consolas,'Courier New',monospace\"><span style=\"font-weight: bold\">{</span>\n",
       "    <span style=\"color: #008080; text-decoration-color: #008080; font-weight: bold\">0</span>: <span style=\"font-weight: bold\">{</span>\n",
       "        <span style=\"color: #008000; text-decoration-color: #008000\">'Please state whether you view the following characters favorably, unfavorably, or </span>\n",
       "<span style=\"color: #008000; text-decoration-color: #008000\">are unfamiliar with him/her.'</span>: <span style=\"color: #008000; text-decoration-color: #008000\">'Han Solo'</span>,\n",
       "        <span style=\"color: #008000; text-decoration-color: #008000\">'Unnamed: 16'</span>: <span style=\"color: #008000; text-decoration-color: #008000\">'Luke Skywalker'</span>,\n",
       "        <span style=\"color: #008000; text-decoration-color: #008000\">'Unnamed: 17'</span>: <span style=\"color: #008000; text-decoration-color: #008000\">'Princess Leia Organa'</span>,\n",
       "        <span style=\"color: #008000; text-decoration-color: #008000\">'Unnamed: 18'</span>: <span style=\"color: #008000; text-decoration-color: #008000\">'Anakin Skywalker'</span>,\n",
       "        <span style=\"color: #008000; text-decoration-color: #008000\">'Unnamed: 19'</span>: <span style=\"color: #008000; text-decoration-color: #008000\">'Obi Wan Kenobi'</span>,\n",
       "        <span style=\"color: #008000; text-decoration-color: #008000\">'Unnamed: 20'</span>: <span style=\"color: #008000; text-decoration-color: #008000\">'Emperor Palpatine'</span>,\n",
       "        <span style=\"color: #008000; text-decoration-color: #008000\">'Unnamed: 21'</span>: <span style=\"color: #008000; text-decoration-color: #008000\">'Darth Vader'</span>,\n",
       "        <span style=\"color: #008000; text-decoration-color: #008000\">'Unnamed: 22'</span>: <span style=\"color: #008000; text-decoration-color: #008000\">'Lando Calrissian'</span>,\n",
       "        <span style=\"color: #008000; text-decoration-color: #008000\">'Unnamed: 23'</span>: <span style=\"color: #008000; text-decoration-color: #008000\">'Boba Fett'</span>,\n",
       "        <span style=\"color: #008000; text-decoration-color: #008000\">'Unnamed: 24'</span>: <span style=\"color: #008000; text-decoration-color: #008000\">'C-3P0'</span>,\n",
       "        <span style=\"color: #008000; text-decoration-color: #008000\">'Unnamed: 25'</span>: <span style=\"color: #008000; text-decoration-color: #008000\">'R2 D2'</span>,\n",
       "        <span style=\"color: #008000; text-decoration-color: #008000\">'Unnamed: 26'</span>: <span style=\"color: #008000; text-decoration-color: #008000\">'Jar Jar Binks'</span>,\n",
       "        <span style=\"color: #008000; text-decoration-color: #008000\">'Unnamed: 27'</span>: <span style=\"color: #008000; text-decoration-color: #008000\">'Padme Amidala'</span>,\n",
       "        <span style=\"color: #008000; text-decoration-color: #008000\">'Unnamed: 28'</span>: <span style=\"color: #008000; text-decoration-color: #008000\">'Yoda'</span>\n",
       "    <span style=\"font-weight: bold\">}</span>\n",
       "<span style=\"font-weight: bold\">}</span>\n",
       "</pre>\n"
      ],
      "text/plain": [
       "\u001b[1m{\u001b[0m\n",
       "    \u001b[1;36m0\u001b[0m: \u001b[1m{\u001b[0m\n",
       "        \u001b[32m'Please state whether you view the following characters favorably, unfavorably, or \u001b[0m\n",
       "\u001b[32mare unfamiliar with him/her.'\u001b[0m: \u001b[32m'Han Solo'\u001b[0m,\n",
       "        \u001b[32m'Unnamed: 16'\u001b[0m: \u001b[32m'Luke Skywalker'\u001b[0m,\n",
       "        \u001b[32m'Unnamed: 17'\u001b[0m: \u001b[32m'Princess Leia Organa'\u001b[0m,\n",
       "        \u001b[32m'Unnamed: 18'\u001b[0m: \u001b[32m'Anakin Skywalker'\u001b[0m,\n",
       "        \u001b[32m'Unnamed: 19'\u001b[0m: \u001b[32m'Obi Wan Kenobi'\u001b[0m,\n",
       "        \u001b[32m'Unnamed: 20'\u001b[0m: \u001b[32m'Emperor Palpatine'\u001b[0m,\n",
       "        \u001b[32m'Unnamed: 21'\u001b[0m: \u001b[32m'Darth Vader'\u001b[0m,\n",
       "        \u001b[32m'Unnamed: 22'\u001b[0m: \u001b[32m'Lando Calrissian'\u001b[0m,\n",
       "        \u001b[32m'Unnamed: 23'\u001b[0m: \u001b[32m'Boba Fett'\u001b[0m,\n",
       "        \u001b[32m'Unnamed: 24'\u001b[0m: \u001b[32m'C-3P0'\u001b[0m,\n",
       "        \u001b[32m'Unnamed: 25'\u001b[0m: \u001b[32m'R2 D2'\u001b[0m,\n",
       "        \u001b[32m'Unnamed: 26'\u001b[0m: \u001b[32m'Jar Jar Binks'\u001b[0m,\n",
       "        \u001b[32m'Unnamed: 27'\u001b[0m: \u001b[32m'Padme Amidala'\u001b[0m,\n",
       "        \u001b[32m'Unnamed: 28'\u001b[0m: \u001b[32m'Yoda'\u001b[0m\n",
       "    \u001b[1m}\u001b[0m\n",
       "\u001b[1m}\u001b[0m\n"
      ]
     },
     "metadata": {},
     "output_type": "display_data"
    },
    {
     "data": {
      "text/html": [
       "<pre style=\"white-space:pre;overflow-x:auto;line-height:normal;font-family:Menlo,'DejaVu Sans Mono',consolas,'Courier New',monospace\">\n",
       "<span style=\"font-weight: bold\">Top level removed</span>\n",
       "\n",
       "</pre>\n"
      ],
      "text/plain": [
       "\n",
       "\u001b[1mTop level removed\u001b[0m\n",
       "\n"
      ]
     },
     "metadata": {},
     "output_type": "display_data"
    },
    {
     "data": {
      "text/html": [
       "<pre style=\"white-space:pre;overflow-x:auto;line-height:normal;font-family:Menlo,'DejaVu Sans Mono',consolas,'Courier New',monospace\"><span style=\"font-weight: bold\">{</span>\n",
       "    <span style=\"color: #008000; text-decoration-color: #008000\">'Please state whether you view the following characters favorably, unfavorably, or are </span>\n",
       "<span style=\"color: #008000; text-decoration-color: #008000\">unfamiliar with him/her.'</span>: <span style=\"color: #008000; text-decoration-color: #008000\">'Han Solo'</span>,\n",
       "    <span style=\"color: #008000; text-decoration-color: #008000\">'Unnamed: 16'</span>: <span style=\"color: #008000; text-decoration-color: #008000\">'Luke Skywalker'</span>,\n",
       "    <span style=\"color: #008000; text-decoration-color: #008000\">'Unnamed: 17'</span>: <span style=\"color: #008000; text-decoration-color: #008000\">'Princess Leia Organa'</span>,\n",
       "    <span style=\"color: #008000; text-decoration-color: #008000\">'Unnamed: 18'</span>: <span style=\"color: #008000; text-decoration-color: #008000\">'Anakin Skywalker'</span>,\n",
       "    <span style=\"color: #008000; text-decoration-color: #008000\">'Unnamed: 19'</span>: <span style=\"color: #008000; text-decoration-color: #008000\">'Obi Wan Kenobi'</span>,\n",
       "    <span style=\"color: #008000; text-decoration-color: #008000\">'Unnamed: 20'</span>: <span style=\"color: #008000; text-decoration-color: #008000\">'Emperor Palpatine'</span>,\n",
       "    <span style=\"color: #008000; text-decoration-color: #008000\">'Unnamed: 21'</span>: <span style=\"color: #008000; text-decoration-color: #008000\">'Darth Vader'</span>,\n",
       "    <span style=\"color: #008000; text-decoration-color: #008000\">'Unnamed: 22'</span>: <span style=\"color: #008000; text-decoration-color: #008000\">'Lando Calrissian'</span>,\n",
       "    <span style=\"color: #008000; text-decoration-color: #008000\">'Unnamed: 23'</span>: <span style=\"color: #008000; text-decoration-color: #008000\">'Boba Fett'</span>,\n",
       "    <span style=\"color: #008000; text-decoration-color: #008000\">'Unnamed: 24'</span>: <span style=\"color: #008000; text-decoration-color: #008000\">'C-3P0'</span>,\n",
       "    <span style=\"color: #008000; text-decoration-color: #008000\">'Unnamed: 25'</span>: <span style=\"color: #008000; text-decoration-color: #008000\">'R2 D2'</span>,\n",
       "    <span style=\"color: #008000; text-decoration-color: #008000\">'Unnamed: 26'</span>: <span style=\"color: #008000; text-decoration-color: #008000\">'Jar Jar Binks'</span>,\n",
       "    <span style=\"color: #008000; text-decoration-color: #008000\">'Unnamed: 27'</span>: <span style=\"color: #008000; text-decoration-color: #008000\">'Padme Amidala'</span>,\n",
       "    <span style=\"color: #008000; text-decoration-color: #008000\">'Unnamed: 28'</span>: <span style=\"color: #008000; text-decoration-color: #008000\">'Yoda'</span>\n",
       "<span style=\"font-weight: bold\">}</span>\n",
       "</pre>\n"
      ],
      "text/plain": [
       "\u001b[1m{\u001b[0m\n",
       "    \u001b[32m'Please state whether you view the following characters favorably, unfavorably, or are \u001b[0m\n",
       "\u001b[32munfamiliar with him/her.'\u001b[0m: \u001b[32m'Han Solo'\u001b[0m,\n",
       "    \u001b[32m'Unnamed: 16'\u001b[0m: \u001b[32m'Luke Skywalker'\u001b[0m,\n",
       "    \u001b[32m'Unnamed: 17'\u001b[0m: \u001b[32m'Princess Leia Organa'\u001b[0m,\n",
       "    \u001b[32m'Unnamed: 18'\u001b[0m: \u001b[32m'Anakin Skywalker'\u001b[0m,\n",
       "    \u001b[32m'Unnamed: 19'\u001b[0m: \u001b[32m'Obi Wan Kenobi'\u001b[0m,\n",
       "    \u001b[32m'Unnamed: 20'\u001b[0m: \u001b[32m'Emperor Palpatine'\u001b[0m,\n",
       "    \u001b[32m'Unnamed: 21'\u001b[0m: \u001b[32m'Darth Vader'\u001b[0m,\n",
       "    \u001b[32m'Unnamed: 22'\u001b[0m: \u001b[32m'Lando Calrissian'\u001b[0m,\n",
       "    \u001b[32m'Unnamed: 23'\u001b[0m: \u001b[32m'Boba Fett'\u001b[0m,\n",
       "    \u001b[32m'Unnamed: 24'\u001b[0m: \u001b[32m'C-3P0'\u001b[0m,\n",
       "    \u001b[32m'Unnamed: 25'\u001b[0m: \u001b[32m'R2 D2'\u001b[0m,\n",
       "    \u001b[32m'Unnamed: 26'\u001b[0m: \u001b[32m'Jar Jar Binks'\u001b[0m,\n",
       "    \u001b[32m'Unnamed: 27'\u001b[0m: \u001b[32m'Padme Amidala'\u001b[0m,\n",
       "    \u001b[32m'Unnamed: 28'\u001b[0m: \u001b[32m'Yoda'\u001b[0m\n",
       "\u001b[1m}\u001b[0m\n"
      ]
     },
     "metadata": {},
     "output_type": "display_data"
    },
    {
     "data": {
      "text/html": [
       "<pre style=\"white-space:pre;overflow-x:auto;line-height:normal;font-family:Menlo,'DejaVu Sans Mono',consolas,'Courier New',monospace\">\n",
       "<span style=\"font-weight: bold\">Updated column names</span>\n",
       "\n",
       "</pre>\n"
      ],
      "text/plain": [
       "\n",
       "\u001b[1mUpdated column names\u001b[0m\n",
       "\n"
      ]
     },
     "metadata": {},
     "output_type": "display_data"
    },
    {
     "data": {
      "text/html": [
       "<pre style=\"white-space:pre;overflow-x:auto;line-height:normal;font-family:Menlo,'DejaVu Sans Mono',consolas,'Courier New',monospace\"><span style=\"color: #800080; text-decoration-color: #800080; font-weight: bold\">Index</span><span style=\"font-weight: bold\">([</span><span style=\"color: #008000; text-decoration-color: #008000\">'Han Solo'</span>, <span style=\"color: #008000; text-decoration-color: #008000\">'Luke Skywalker'</span>, <span style=\"color: #008000; text-decoration-color: #008000\">'Princess Leia Organa'</span>,\n",
       "       <span style=\"color: #008000; text-decoration-color: #008000\">'Anakin Skywalker'</span>, <span style=\"color: #008000; text-decoration-color: #008000\">'Obi Wan Kenobi'</span>, <span style=\"color: #008000; text-decoration-color: #008000\">'Emperor Palpatine'</span>,\n",
       "       <span style=\"color: #008000; text-decoration-color: #008000\">'Darth Vader'</span>, <span style=\"color: #008000; text-decoration-color: #008000\">'Lando Calrissian'</span>, <span style=\"color: #008000; text-decoration-color: #008000\">'Boba Fett'</span>, <span style=\"color: #008000; text-decoration-color: #008000\">'C-3P0'</span>, <span style=\"color: #008000; text-decoration-color: #008000\">'R2 D2'</span>,\n",
       "       <span style=\"color: #008000; text-decoration-color: #008000\">'Jar Jar Binks'</span>, <span style=\"color: #008000; text-decoration-color: #008000\">'Padme Amidala'</span>, <span style=\"color: #008000; text-decoration-color: #008000\">'Yoda'</span><span style=\"font-weight: bold\">]</span>,\n",
       "      <span style=\"color: #808000; text-decoration-color: #808000\">dtype</span>=<span style=\"color: #008000; text-decoration-color: #008000\">'object'</span><span style=\"font-weight: bold\">)</span>\n",
       "</pre>\n"
      ],
      "text/plain": [
       "\u001b[1;35mIndex\u001b[0m\u001b[1m(\u001b[0m\u001b[1m[\u001b[0m\u001b[32m'Han Solo'\u001b[0m, \u001b[32m'Luke Skywalker'\u001b[0m, \u001b[32m'Princess Leia Organa'\u001b[0m,\n",
       "       \u001b[32m'Anakin Skywalker'\u001b[0m, \u001b[32m'Obi Wan Kenobi'\u001b[0m, \u001b[32m'Emperor Palpatine'\u001b[0m,\n",
       "       \u001b[32m'Darth Vader'\u001b[0m, \u001b[32m'Lando Calrissian'\u001b[0m, \u001b[32m'Boba Fett'\u001b[0m, \u001b[32m'C-3P0'\u001b[0m, \u001b[32m'R2 D2'\u001b[0m,\n",
       "       \u001b[32m'Jar Jar Binks'\u001b[0m, \u001b[32m'Padme Amidala'\u001b[0m, \u001b[32m'Yoda'\u001b[0m\u001b[1m]\u001b[0m,\n",
       "      \u001b[33mdtype\u001b[0m=\u001b[32m'object'\u001b[0m\u001b[1m)\u001b[0m\n"
      ]
     },
     "metadata": {},
     "output_type": "display_data"
    }
   ],
   "source": [
    "# convert slice of first_row to a dictionary\n",
    "character_map = first_row[15:29].to_dict()\n",
    "\n",
    "# this gives us a nested dictionary -  we will need to remove the outer key, '0', \n",
    "# for df.rename() to work, while keeping the rest of the dictionary intact\n",
    "print(\"[bold]Nested dictionary[/bold] \\n\")\n",
    "print(character_map)\n",
    "\n",
    "# use dictionary comprehension to keep only the inner key-value pairs\n",
    "character_map = dict(ele for sub in character_map.values() for ele in sub.items())\n",
    "\n",
    "print(\"\\n[bold]Top level removed[/bold]\\n\")\n",
    "print(character_map)\n",
    "\n",
    "# rename unamed columns with character names using dictionary\n",
    "star_wars = star_wars.rename(columns=character_map)\n",
    "\n",
    "print(\"\\n[bold]Updated column names[/bold]\\n\")\n",
    "print(star_wars.columns[15:29])"
   ]
  },
  {
   "cell_type": "markdown",
   "metadata": {},
   "source": [
    "Now let's take a look at what unique values appear across the character columns."
   ]
  },
  {
   "cell_type": "code",
   "execution_count": 15,
   "metadata": {},
   "outputs": [
    {
     "data": {
      "text/html": [
       "<pre style=\"white-space:pre;overflow-x:auto;line-height:normal;font-family:Menlo,'DejaVu Sans Mono',consolas,'Courier New',monospace\"><span style=\"font-weight: bold\">[</span><span style=\"color: #008000; text-decoration-color: #008000\">'Very favorably'</span> <span style=\"color: #008000; text-decoration-color: #008000\">'Unfamiliar (N/A)'</span> nan <span style=\"color: #008000; text-decoration-color: #008000\">'Somewhat favorably'</span>\n",
       " <span style=\"color: #008000; text-decoration-color: #008000\">'Somewhat unfavorably'</span> <span style=\"color: #008000; text-decoration-color: #008000\">'Very unfavorably'</span>\n",
       " <span style=\"color: #008000; text-decoration-color: #008000\">'Neither favorably nor unfavorably (neutral)'</span><span style=\"font-weight: bold\">]</span>\n",
       "</pre>\n"
      ],
      "text/plain": [
       "\u001b[1m[\u001b[0m\u001b[32m'Very favorably'\u001b[0m \u001b[32m'Unfamiliar \u001b[0m\u001b[32m(\u001b[0m\u001b[32mN/A\u001b[0m\u001b[32m)\u001b[0m\u001b[32m'\u001b[0m nan \u001b[32m'Somewhat favorably'\u001b[0m\n",
       " \u001b[32m'Somewhat unfavorably'\u001b[0m \u001b[32m'Very unfavorably'\u001b[0m\n",
       " \u001b[32m'Neither favorably nor unfavorably \u001b[0m\u001b[32m(\u001b[0m\u001b[32mneutral\u001b[0m\u001b[32m)\u001b[0m\u001b[32m'\u001b[0m\u001b[1m]\u001b[0m\n"
      ]
     },
     "metadata": {},
     "output_type": "display_data"
    }
   ],
   "source": [
    "# identify all unique values in the character columns\n",
    "char_vals = (star_wars.iloc[:, 15:29].values  # df.values() converts df to np array \n",
    "                                     .ravel() # np.ravel flattens the array\n",
    "            )                   \n",
    "unique_vals =  pd.unique(char_vals) # can then supply the np.array to pd.unique()\n",
    "print(unique_vals)"
   ]
  },
  {
   "cell_type": "markdown",
   "metadata": {},
   "source": [
    "Unlike the film rankings, the rating scale for characters is not numerical. If we wanted to do any kind of aggregation beyond counting, we'll need to convert the character rating scale to a numerical one. \n",
    "\n",
    "Let's apply a numerical rating to the character columns. We can adopt the same order as the film rankings, where a lower number is better/more favourable and a higher number is worse/less favourable. We'll leave the value `Unfamiliar (N/A)` in place, but we'll trim it's name to just `Unfamiliar`."
   ]
  },
  {
   "cell_type": "code",
   "execution_count": 16,
   "metadata": {},
   "outputs": [
    {
     "data": {
      "text/html": [
       "<pre style=\"white-space:pre;overflow-x:auto;line-height:normal;font-family:Menlo,'DejaVu Sans Mono',consolas,'Courier New',monospace\">Random sample to validate changes\n",
       "</pre>\n"
      ],
      "text/plain": [
       "Random sample to validate changes\n"
      ]
     },
     "metadata": {},
     "output_type": "display_data"
    },
    {
     "data": {
      "text/html": [
       "<div>\n",
       "<style scoped>\n",
       "    .dataframe tbody tr th:only-of-type {\n",
       "        vertical-align: middle;\n",
       "    }\n",
       "\n",
       "    .dataframe tbody tr th {\n",
       "        vertical-align: top;\n",
       "    }\n",
       "\n",
       "    .dataframe thead th {\n",
       "        text-align: right;\n",
       "    }\n",
       "</style>\n",
       "<table border=\"1\" class=\"dataframe\">\n",
       "  <thead>\n",
       "    <tr style=\"text-align: right;\">\n",
       "      <th></th>\n",
       "      <th>Han Solo</th>\n",
       "      <th>Luke Skywalker</th>\n",
       "      <th>Princess Leia Organa</th>\n",
       "      <th>Anakin Skywalker</th>\n",
       "      <th>Obi Wan Kenobi</th>\n",
       "      <th>Emperor Palpatine</th>\n",
       "      <th>Darth Vader</th>\n",
       "      <th>Lando Calrissian</th>\n",
       "      <th>Boba Fett</th>\n",
       "      <th>C-3P0</th>\n",
       "      <th>R2 D2</th>\n",
       "      <th>Jar Jar Binks</th>\n",
       "      <th>Padme Amidala</th>\n",
       "      <th>Yoda</th>\n",
       "    </tr>\n",
       "  </thead>\n",
       "  <tbody>\n",
       "    <tr>\n",
       "      <th>896</th>\n",
       "      <td>1</td>\n",
       "      <td>1</td>\n",
       "      <td>1</td>\n",
       "      <td>4</td>\n",
       "      <td>1</td>\n",
       "      <td>1</td>\n",
       "      <td>1</td>\n",
       "      <td>1</td>\n",
       "      <td>1</td>\n",
       "      <td>1</td>\n",
       "      <td>1</td>\n",
       "      <td>5</td>\n",
       "      <td>3</td>\n",
       "      <td>1</td>\n",
       "    </tr>\n",
       "    <tr>\n",
       "      <th>1002</th>\n",
       "      <td>1</td>\n",
       "      <td>1</td>\n",
       "      <td>1</td>\n",
       "      <td>2</td>\n",
       "      <td>1</td>\n",
       "      <td>Unfamiliar</td>\n",
       "      <td>5</td>\n",
       "      <td>4</td>\n",
       "      <td>Unfamiliar</td>\n",
       "      <td>1</td>\n",
       "      <td>1</td>\n",
       "      <td>Unfamiliar</td>\n",
       "      <td>1</td>\n",
       "      <td>1</td>\n",
       "    </tr>\n",
       "    <tr>\n",
       "      <th>91</th>\n",
       "      <td>1</td>\n",
       "      <td>2</td>\n",
       "      <td>2</td>\n",
       "      <td>5</td>\n",
       "      <td>1</td>\n",
       "      <td>Unfamiliar</td>\n",
       "      <td>3</td>\n",
       "      <td>Unfamiliar</td>\n",
       "      <td>3</td>\n",
       "      <td>1</td>\n",
       "      <td>2</td>\n",
       "      <td>5</td>\n",
       "      <td>Unfamiliar</td>\n",
       "      <td>1</td>\n",
       "    </tr>\n",
       "    <tr>\n",
       "      <th>176</th>\n",
       "      <td>1</td>\n",
       "      <td>2</td>\n",
       "      <td>2</td>\n",
       "      <td>3</td>\n",
       "      <td>2</td>\n",
       "      <td>2</td>\n",
       "      <td>2</td>\n",
       "      <td>3</td>\n",
       "      <td>3</td>\n",
       "      <td>2</td>\n",
       "      <td>2</td>\n",
       "      <td>5</td>\n",
       "      <td>2</td>\n",
       "      <td>2</td>\n",
       "    </tr>\n",
       "    <tr>\n",
       "      <th>623</th>\n",
       "      <td>1</td>\n",
       "      <td>1</td>\n",
       "      <td>1</td>\n",
       "      <td>1</td>\n",
       "      <td>2</td>\n",
       "      <td>2</td>\n",
       "      <td>3</td>\n",
       "      <td>1</td>\n",
       "      <td>3</td>\n",
       "      <td>1</td>\n",
       "      <td>1</td>\n",
       "      <td>2</td>\n",
       "      <td>2</td>\n",
       "      <td>NaN</td>\n",
       "    </tr>\n",
       "  </tbody>\n",
       "</table>\n",
       "</div>"
      ],
      "text/plain": [
       "     Han Solo Luke Skywalker Princess Leia Organa Anakin Skywalker  \\\n",
       "896         1              1                    1                4   \n",
       "1002        1              1                    1                2   \n",
       "91          1              2                    2                5   \n",
       "176         1              2                    2                3   \n",
       "623         1              1                    1                1   \n",
       "\n",
       "     Obi Wan Kenobi Emperor Palpatine Darth Vader Lando Calrissian  \\\n",
       "896               1                 1           1                1   \n",
       "1002              1        Unfamiliar           5                4   \n",
       "91                1        Unfamiliar           3       Unfamiliar   \n",
       "176               2                 2           2                3   \n",
       "623               2                 2           3                1   \n",
       "\n",
       "       Boba Fett C-3P0 R2 D2 Jar Jar Binks Padme Amidala Yoda  \n",
       "896            1     1     1             5             3    1  \n",
       "1002  Unfamiliar     1     1    Unfamiliar             1    1  \n",
       "91             3     1     2             5    Unfamiliar    1  \n",
       "176            3     2     2             5             2    2  \n",
       "623            3     1     1             2             2  NaN  "
      ]
     },
     "metadata": {},
     "output_type": "display_data"
    }
   ],
   "source": [
    "# dictionary to remap character favourability to a number\n",
    "char_dict = {\n",
    "    'Very favorably': 1,\n",
    "    'Somewhat favorably': 2,\n",
    "    'Neither favorably nor unfavorably (neutral)': 3,\n",
    "    'Somewhat unfavorably': 4,\n",
    "    'Very unfavorably': 5,\n",
    "    'Unfamiliar (N/A)': 'Unfamiliar'\n",
    "}\n",
    "\n",
    "# update character values\n",
    "star_wars.iloc[:, 15:29] = star_wars.iloc[:, 15:29].replace(char_dict)\n",
    "\n",
    "# spot check a column to validate changes\n",
    "print(\"Random sample to validate changes\")\n",
    "display(star_wars.iloc[:,15:29].sample(n=5))"
   ]
  },
  {
   "cell_type": "markdown",
   "metadata": {},
   "source": [
    "That should be it for data cleaning. Let's review our updated columns."
   ]
  },
  {
   "cell_type": "markdown",
   "metadata": {},
   "source": [
    "## Column reference\n",
    "[Back to top](#Using-the-force-to-analyse-a-Star-Wars-survey)"
   ]
  },
  {
   "cell_type": "code",
   "execution_count": 17,
   "metadata": {},
   "outputs": [
    {
     "data": {
      "text/html": [
       "<pre style=\"white-space:pre;overflow-x:auto;line-height:normal;font-family:Menlo,'DejaVu Sans Mono',consolas,'Courier New',monospace\"><span style=\"color: #008080; text-decoration-color: #008080; font-weight: bold\">0</span> - RespondentID\n",
       "</pre>\n"
      ],
      "text/plain": [
       "\u001b[1;36m0\u001b[0m - RespondentID\n"
      ]
     },
     "metadata": {},
     "output_type": "display_data"
    },
    {
     "data": {
      "text/html": [
       "<pre style=\"white-space:pre;overflow-x:auto;line-height:normal;font-family:Menlo,'DejaVu Sans Mono',consolas,'Courier New',monospace\"><span style=\"color: #008080; text-decoration-color: #008080; font-weight: bold\">1</span> - Have you seen any of the <span style=\"color: #008080; text-decoration-color: #008080; font-weight: bold\">6</span> films in the Star Wars franchise?\n",
       "</pre>\n"
      ],
      "text/plain": [
       "\u001b[1;36m1\u001b[0m - Have you seen any of the \u001b[1;36m6\u001b[0m films in the Star Wars franchise?\n"
      ]
     },
     "metadata": {},
     "output_type": "display_data"
    },
    {
     "data": {
      "text/html": [
       "<pre style=\"white-space:pre;overflow-x:auto;line-height:normal;font-family:Menlo,'DejaVu Sans Mono',consolas,'Courier New',monospace\"><span style=\"color: #008080; text-decoration-color: #008080; font-weight: bold\">2</span> - Do you consider yourself to be a fan of the Star Wars film franchise?\n",
       "</pre>\n"
      ],
      "text/plain": [
       "\u001b[1;36m2\u001b[0m - Do you consider yourself to be a fan of the Star Wars film franchise?\n"
      ]
     },
     "metadata": {},
     "output_type": "display_data"
    },
    {
     "data": {
      "text/html": [
       "<pre style=\"white-space:pre;overflow-x:auto;line-height:normal;font-family:Menlo,'DejaVu Sans Mono',consolas,'Courier New',monospace\"><span style=\"color: #008080; text-decoration-color: #008080; font-weight: bold\">3</span> - seen_1\n",
       "</pre>\n"
      ],
      "text/plain": [
       "\u001b[1;36m3\u001b[0m - seen_1\n"
      ]
     },
     "metadata": {},
     "output_type": "display_data"
    },
    {
     "data": {
      "text/html": [
       "<pre style=\"white-space:pre;overflow-x:auto;line-height:normal;font-family:Menlo,'DejaVu Sans Mono',consolas,'Courier New',monospace\"><span style=\"color: #008080; text-decoration-color: #008080; font-weight: bold\">4</span> - seen_2\n",
       "</pre>\n"
      ],
      "text/plain": [
       "\u001b[1;36m4\u001b[0m - seen_2\n"
      ]
     },
     "metadata": {},
     "output_type": "display_data"
    },
    {
     "data": {
      "text/html": [
       "<pre style=\"white-space:pre;overflow-x:auto;line-height:normal;font-family:Menlo,'DejaVu Sans Mono',consolas,'Courier New',monospace\"><span style=\"color: #008080; text-decoration-color: #008080; font-weight: bold\">5</span> - seen_3\n",
       "</pre>\n"
      ],
      "text/plain": [
       "\u001b[1;36m5\u001b[0m - seen_3\n"
      ]
     },
     "metadata": {},
     "output_type": "display_data"
    },
    {
     "data": {
      "text/html": [
       "<pre style=\"white-space:pre;overflow-x:auto;line-height:normal;font-family:Menlo,'DejaVu Sans Mono',consolas,'Courier New',monospace\"><span style=\"color: #008080; text-decoration-color: #008080; font-weight: bold\">6</span> - seen_4\n",
       "</pre>\n"
      ],
      "text/plain": [
       "\u001b[1;36m6\u001b[0m - seen_4\n"
      ]
     },
     "metadata": {},
     "output_type": "display_data"
    },
    {
     "data": {
      "text/html": [
       "<pre style=\"white-space:pre;overflow-x:auto;line-height:normal;font-family:Menlo,'DejaVu Sans Mono',consolas,'Courier New',monospace\"><span style=\"color: #008080; text-decoration-color: #008080; font-weight: bold\">7</span> - seen_5\n",
       "</pre>\n"
      ],
      "text/plain": [
       "\u001b[1;36m7\u001b[0m - seen_5\n"
      ]
     },
     "metadata": {},
     "output_type": "display_data"
    },
    {
     "data": {
      "text/html": [
       "<pre style=\"white-space:pre;overflow-x:auto;line-height:normal;font-family:Menlo,'DejaVu Sans Mono',consolas,'Courier New',monospace\"><span style=\"color: #008080; text-decoration-color: #008080; font-weight: bold\">8</span> - seen_6\n",
       "</pre>\n"
      ],
      "text/plain": [
       "\u001b[1;36m8\u001b[0m - seen_6\n"
      ]
     },
     "metadata": {},
     "output_type": "display_data"
    },
    {
     "data": {
      "text/html": [
       "<pre style=\"white-space:pre;overflow-x:auto;line-height:normal;font-family:Menlo,'DejaVu Sans Mono',consolas,'Courier New',monospace\"><span style=\"color: #008080; text-decoration-color: #008080; font-weight: bold\">9</span> - ranking_1\n",
       "</pre>\n"
      ],
      "text/plain": [
       "\u001b[1;36m9\u001b[0m - ranking_1\n"
      ]
     },
     "metadata": {},
     "output_type": "display_data"
    },
    {
     "data": {
      "text/html": [
       "<pre style=\"white-space:pre;overflow-x:auto;line-height:normal;font-family:Menlo,'DejaVu Sans Mono',consolas,'Courier New',monospace\"><span style=\"color: #008080; text-decoration-color: #008080; font-weight: bold\">10</span> - ranking_2\n",
       "</pre>\n"
      ],
      "text/plain": [
       "\u001b[1;36m10\u001b[0m - ranking_2\n"
      ]
     },
     "metadata": {},
     "output_type": "display_data"
    },
    {
     "data": {
      "text/html": [
       "<pre style=\"white-space:pre;overflow-x:auto;line-height:normal;font-family:Menlo,'DejaVu Sans Mono',consolas,'Courier New',monospace\"><span style=\"color: #008080; text-decoration-color: #008080; font-weight: bold\">11</span> - ranking_3\n",
       "</pre>\n"
      ],
      "text/plain": [
       "\u001b[1;36m11\u001b[0m - ranking_3\n"
      ]
     },
     "metadata": {},
     "output_type": "display_data"
    },
    {
     "data": {
      "text/html": [
       "<pre style=\"white-space:pre;overflow-x:auto;line-height:normal;font-family:Menlo,'DejaVu Sans Mono',consolas,'Courier New',monospace\"><span style=\"color: #008080; text-decoration-color: #008080; font-weight: bold\">12</span> - ranking_4\n",
       "</pre>\n"
      ],
      "text/plain": [
       "\u001b[1;36m12\u001b[0m - ranking_4\n"
      ]
     },
     "metadata": {},
     "output_type": "display_data"
    },
    {
     "data": {
      "text/html": [
       "<pre style=\"white-space:pre;overflow-x:auto;line-height:normal;font-family:Menlo,'DejaVu Sans Mono',consolas,'Courier New',monospace\"><span style=\"color: #008080; text-decoration-color: #008080; font-weight: bold\">13</span> - ranking_5\n",
       "</pre>\n"
      ],
      "text/plain": [
       "\u001b[1;36m13\u001b[0m - ranking_5\n"
      ]
     },
     "metadata": {},
     "output_type": "display_data"
    },
    {
     "data": {
      "text/html": [
       "<pre style=\"white-space:pre;overflow-x:auto;line-height:normal;font-family:Menlo,'DejaVu Sans Mono',consolas,'Courier New',monospace\"><span style=\"color: #008080; text-decoration-color: #008080; font-weight: bold\">14</span> - ranking_6\n",
       "</pre>\n"
      ],
      "text/plain": [
       "\u001b[1;36m14\u001b[0m - ranking_6\n"
      ]
     },
     "metadata": {},
     "output_type": "display_data"
    },
    {
     "data": {
      "text/html": [
       "<pre style=\"white-space:pre;overflow-x:auto;line-height:normal;font-family:Menlo,'DejaVu Sans Mono',consolas,'Courier New',monospace\"><span style=\"color: #008080; text-decoration-color: #008080; font-weight: bold\">15</span> - Han Solo\n",
       "</pre>\n"
      ],
      "text/plain": [
       "\u001b[1;36m15\u001b[0m - Han Solo\n"
      ]
     },
     "metadata": {},
     "output_type": "display_data"
    },
    {
     "data": {
      "text/html": [
       "<pre style=\"white-space:pre;overflow-x:auto;line-height:normal;font-family:Menlo,'DejaVu Sans Mono',consolas,'Courier New',monospace\"><span style=\"color: #008080; text-decoration-color: #008080; font-weight: bold\">16</span> - Luke Skywalker\n",
       "</pre>\n"
      ],
      "text/plain": [
       "\u001b[1;36m16\u001b[0m - Luke Skywalker\n"
      ]
     },
     "metadata": {},
     "output_type": "display_data"
    },
    {
     "data": {
      "text/html": [
       "<pre style=\"white-space:pre;overflow-x:auto;line-height:normal;font-family:Menlo,'DejaVu Sans Mono',consolas,'Courier New',monospace\"><span style=\"color: #008080; text-decoration-color: #008080; font-weight: bold\">17</span> - Princess Leia Organa\n",
       "</pre>\n"
      ],
      "text/plain": [
       "\u001b[1;36m17\u001b[0m - Princess Leia Organa\n"
      ]
     },
     "metadata": {},
     "output_type": "display_data"
    },
    {
     "data": {
      "text/html": [
       "<pre style=\"white-space:pre;overflow-x:auto;line-height:normal;font-family:Menlo,'DejaVu Sans Mono',consolas,'Courier New',monospace\"><span style=\"color: #008080; text-decoration-color: #008080; font-weight: bold\">18</span> - Anakin Skywalker\n",
       "</pre>\n"
      ],
      "text/plain": [
       "\u001b[1;36m18\u001b[0m - Anakin Skywalker\n"
      ]
     },
     "metadata": {},
     "output_type": "display_data"
    },
    {
     "data": {
      "text/html": [
       "<pre style=\"white-space:pre;overflow-x:auto;line-height:normal;font-family:Menlo,'DejaVu Sans Mono',consolas,'Courier New',monospace\"><span style=\"color: #008080; text-decoration-color: #008080; font-weight: bold\">19</span> - Obi Wan Kenobi\n",
       "</pre>\n"
      ],
      "text/plain": [
       "\u001b[1;36m19\u001b[0m - Obi Wan Kenobi\n"
      ]
     },
     "metadata": {},
     "output_type": "display_data"
    },
    {
     "data": {
      "text/html": [
       "<pre style=\"white-space:pre;overflow-x:auto;line-height:normal;font-family:Menlo,'DejaVu Sans Mono',consolas,'Courier New',monospace\"><span style=\"color: #008080; text-decoration-color: #008080; font-weight: bold\">20</span> - Emperor Palpatine\n",
       "</pre>\n"
      ],
      "text/plain": [
       "\u001b[1;36m20\u001b[0m - Emperor Palpatine\n"
      ]
     },
     "metadata": {},
     "output_type": "display_data"
    },
    {
     "data": {
      "text/html": [
       "<pre style=\"white-space:pre;overflow-x:auto;line-height:normal;font-family:Menlo,'DejaVu Sans Mono',consolas,'Courier New',monospace\"><span style=\"color: #008080; text-decoration-color: #008080; font-weight: bold\">21</span> - Darth Vader\n",
       "</pre>\n"
      ],
      "text/plain": [
       "\u001b[1;36m21\u001b[0m - Darth Vader\n"
      ]
     },
     "metadata": {},
     "output_type": "display_data"
    },
    {
     "data": {
      "text/html": [
       "<pre style=\"white-space:pre;overflow-x:auto;line-height:normal;font-family:Menlo,'DejaVu Sans Mono',consolas,'Courier New',monospace\"><span style=\"color: #008080; text-decoration-color: #008080; font-weight: bold\">22</span> - Lando Calrissian\n",
       "</pre>\n"
      ],
      "text/plain": [
       "\u001b[1;36m22\u001b[0m - Lando Calrissian\n"
      ]
     },
     "metadata": {},
     "output_type": "display_data"
    },
    {
     "data": {
      "text/html": [
       "<pre style=\"white-space:pre;overflow-x:auto;line-height:normal;font-family:Menlo,'DejaVu Sans Mono',consolas,'Courier New',monospace\"><span style=\"color: #008080; text-decoration-color: #008080; font-weight: bold\">23</span> - Boba Fett\n",
       "</pre>\n"
      ],
      "text/plain": [
       "\u001b[1;36m23\u001b[0m - Boba Fett\n"
      ]
     },
     "metadata": {},
     "output_type": "display_data"
    },
    {
     "data": {
      "text/html": [
       "<pre style=\"white-space:pre;overflow-x:auto;line-height:normal;font-family:Menlo,'DejaVu Sans Mono',consolas,'Courier New',monospace\"><span style=\"color: #008080; text-decoration-color: #008080; font-weight: bold\">24</span> - C-3P0\n",
       "</pre>\n"
      ],
      "text/plain": [
       "\u001b[1;36m24\u001b[0m - C-3P0\n"
      ]
     },
     "metadata": {},
     "output_type": "display_data"
    },
    {
     "data": {
      "text/html": [
       "<pre style=\"white-space:pre;overflow-x:auto;line-height:normal;font-family:Menlo,'DejaVu Sans Mono',consolas,'Courier New',monospace\"><span style=\"color: #008080; text-decoration-color: #008080; font-weight: bold\">25</span> - R2 D2\n",
       "</pre>\n"
      ],
      "text/plain": [
       "\u001b[1;36m25\u001b[0m - R2 D2\n"
      ]
     },
     "metadata": {},
     "output_type": "display_data"
    },
    {
     "data": {
      "text/html": [
       "<pre style=\"white-space:pre;overflow-x:auto;line-height:normal;font-family:Menlo,'DejaVu Sans Mono',consolas,'Courier New',monospace\"><span style=\"color: #008080; text-decoration-color: #008080; font-weight: bold\">26</span> - Jar Jar Binks\n",
       "</pre>\n"
      ],
      "text/plain": [
       "\u001b[1;36m26\u001b[0m - Jar Jar Binks\n"
      ]
     },
     "metadata": {},
     "output_type": "display_data"
    },
    {
     "data": {
      "text/html": [
       "<pre style=\"white-space:pre;overflow-x:auto;line-height:normal;font-family:Menlo,'DejaVu Sans Mono',consolas,'Courier New',monospace\"><span style=\"color: #008080; text-decoration-color: #008080; font-weight: bold\">27</span> - Padme Amidala\n",
       "</pre>\n"
      ],
      "text/plain": [
       "\u001b[1;36m27\u001b[0m - Padme Amidala\n"
      ]
     },
     "metadata": {},
     "output_type": "display_data"
    },
    {
     "data": {
      "text/html": [
       "<pre style=\"white-space:pre;overflow-x:auto;line-height:normal;font-family:Menlo,'DejaVu Sans Mono',consolas,'Courier New',monospace\"><span style=\"color: #008080; text-decoration-color: #008080; font-weight: bold\">28</span> - Yoda\n",
       "</pre>\n"
      ],
      "text/plain": [
       "\u001b[1;36m28\u001b[0m - Yoda\n"
      ]
     },
     "metadata": {},
     "output_type": "display_data"
    },
    {
     "data": {
      "text/html": [
       "<pre style=\"white-space:pre;overflow-x:auto;line-height:normal;font-family:Menlo,'DejaVu Sans Mono',consolas,'Courier New',monospace\"><span style=\"color: #008080; text-decoration-color: #008080; font-weight: bold\">29</span> - Which character shot first?\n",
       "</pre>\n"
      ],
      "text/plain": [
       "\u001b[1;36m29\u001b[0m - Which character shot first?\n"
      ]
     },
     "metadata": {},
     "output_type": "display_data"
    },
    {
     "data": {
      "text/html": [
       "<pre style=\"white-space:pre;overflow-x:auto;line-height:normal;font-family:Menlo,'DejaVu Sans Mono',consolas,'Courier New',monospace\"><span style=\"color: #008080; text-decoration-color: #008080; font-weight: bold\">30</span> - Are you familiar with the Expanded Universe?\n",
       "</pre>\n"
      ],
      "text/plain": [
       "\u001b[1;36m30\u001b[0m - Are you familiar with the Expanded Universe?\n"
      ]
     },
     "metadata": {},
     "output_type": "display_data"
    },
    {
     "data": {
      "text/html": [
       "<pre style=\"white-space:pre;overflow-x:auto;line-height:normal;font-family:Menlo,'DejaVu Sans Mono',consolas,'Courier New',monospace\"><span style=\"color: #008080; text-decoration-color: #008080; font-weight: bold\">31</span> - Do you consider yourself to be a fan of the Expanded Universe?\n",
       "</pre>\n"
      ],
      "text/plain": [
       "\u001b[1;36m31\u001b[0m - Do you consider yourself to be a fan of the Expanded Universe?\n"
      ]
     },
     "metadata": {},
     "output_type": "display_data"
    },
    {
     "data": {
      "text/html": [
       "<pre style=\"white-space:pre;overflow-x:auto;line-height:normal;font-family:Menlo,'DejaVu Sans Mono',consolas,'Courier New',monospace\"><span style=\"color: #008080; text-decoration-color: #008080; font-weight: bold\">32</span> - Do you consider yourself to be a fan of the Star Trek franchise?\n",
       "</pre>\n"
      ],
      "text/plain": [
       "\u001b[1;36m32\u001b[0m - Do you consider yourself to be a fan of the Star Trek franchise?\n"
      ]
     },
     "metadata": {},
     "output_type": "display_data"
    },
    {
     "data": {
      "text/html": [
       "<pre style=\"white-space:pre;overflow-x:auto;line-height:normal;font-family:Menlo,'DejaVu Sans Mono',consolas,'Courier New',monospace\"><span style=\"color: #008080; text-decoration-color: #008080; font-weight: bold\">33</span> - Gender\n",
       "</pre>\n"
      ],
      "text/plain": [
       "\u001b[1;36m33\u001b[0m - Gender\n"
      ]
     },
     "metadata": {},
     "output_type": "display_data"
    },
    {
     "data": {
      "text/html": [
       "<pre style=\"white-space:pre;overflow-x:auto;line-height:normal;font-family:Menlo,'DejaVu Sans Mono',consolas,'Courier New',monospace\"><span style=\"color: #008080; text-decoration-color: #008080; font-weight: bold\">34</span> - Age\n",
       "</pre>\n"
      ],
      "text/plain": [
       "\u001b[1;36m34\u001b[0m - Age\n"
      ]
     },
     "metadata": {},
     "output_type": "display_data"
    },
    {
     "data": {
      "text/html": [
       "<pre style=\"white-space:pre;overflow-x:auto;line-height:normal;font-family:Menlo,'DejaVu Sans Mono',consolas,'Courier New',monospace\"><span style=\"color: #008080; text-decoration-color: #008080; font-weight: bold\">35</span> - Household Income\n",
       "</pre>\n"
      ],
      "text/plain": [
       "\u001b[1;36m35\u001b[0m - Household Income\n"
      ]
     },
     "metadata": {},
     "output_type": "display_data"
    },
    {
     "data": {
      "text/html": [
       "<pre style=\"white-space:pre;overflow-x:auto;line-height:normal;font-family:Menlo,'DejaVu Sans Mono',consolas,'Courier New',monospace\"><span style=\"color: #008080; text-decoration-color: #008080; font-weight: bold\">36</span> - Education\n",
       "</pre>\n"
      ],
      "text/plain": [
       "\u001b[1;36m36\u001b[0m - Education\n"
      ]
     },
     "metadata": {},
     "output_type": "display_data"
    },
    {
     "data": {
      "text/html": [
       "<pre style=\"white-space:pre;overflow-x:auto;line-height:normal;font-family:Menlo,'DejaVu Sans Mono',consolas,'Courier New',monospace\"><span style=\"color: #008080; text-decoration-color: #008080; font-weight: bold\">37</span> - Location <span style=\"font-weight: bold\">(</span>Census Region<span style=\"font-weight: bold\">)</span>\n",
       "</pre>\n"
      ],
      "text/plain": [
       "\u001b[1;36m37\u001b[0m - Location \u001b[1m(\u001b[0mCensus Region\u001b[1m)\u001b[0m\n"
      ]
     },
     "metadata": {},
     "output_type": "display_data"
    }
   ],
   "source": [
    "print_cols()"
   ]
  },
  {
   "cell_type": "markdown",
   "metadata": {},
   "source": [
    "## Analysis\n",
    "[Back to top](#Using-the-force-to-analyse-a-Star-Wars-survey)"
   ]
  },
  {
   "cell_type": "markdown",
   "metadata": {},
   "source": [
    "### Computing the mean rank\n",
    "Now that we've cleaned up the ranking columns it will be easier to find the highest-ranked film. To do this, we will need to take the mean of each ranking column."
   ]
  },
  {
   "cell_type": "code",
   "execution_count": 18,
   "metadata": {},
   "outputs": [
    {
     "data": {
      "text/html": [
       "<pre style=\"white-space:pre;overflow-x:auto;line-height:normal;font-family:Menlo,'DejaVu Sans Mono',consolas,'Courier New',monospace\">Mean film rank values\n",
       "</pre>\n"
      ],
      "text/plain": [
       "Mean film rank values\n"
      ]
     },
     "metadata": {},
     "output_type": "display_data"
    },
    {
     "data": {
      "text/html": [
       "<pre style=\"white-space:pre;overflow-x:auto;line-height:normal;font-family:Menlo,'DejaVu Sans Mono',consolas,'Courier New',monospace\">=========================\n",
       "</pre>\n"
      ],
      "text/plain": [
       "=========================\n"
      ]
     },
     "metadata": {},
     "output_type": "display_data"
    },
    {
     "data": {
      "text/html": [
       "<pre style=\"white-space:pre;overflow-x:auto;line-height:normal;font-family:Menlo,'DejaVu Sans Mono',consolas,'Courier New',monospace\">ranking_1    <span style=\"color: #008080; text-decoration-color: #008080; font-weight: bold\">3.732934</span>\n",
       "ranking_2    <span style=\"color: #008080; text-decoration-color: #008080; font-weight: bold\">4.087321</span>\n",
       "ranking_3    <span style=\"color: #008080; text-decoration-color: #008080; font-weight: bold\">4.341317</span>\n",
       "ranking_4    <span style=\"color: #008080; text-decoration-color: #008080; font-weight: bold\">3.272727</span>\n",
       "ranking_5    <span style=\"color: #008080; text-decoration-color: #008080; font-weight: bold\">2.513158</span>\n",
       "ranking_6    <span style=\"color: #008080; text-decoration-color: #008080; font-weight: bold\">3.047847</span>\n",
       "dtype: float64\n",
       "</pre>\n"
      ],
      "text/plain": [
       "ranking_1    \u001b[1;36m3.732934\u001b[0m\n",
       "ranking_2    \u001b[1;36m4.087321\u001b[0m\n",
       "ranking_3    \u001b[1;36m4.341317\u001b[0m\n",
       "ranking_4    \u001b[1;36m3.272727\u001b[0m\n",
       "ranking_5    \u001b[1;36m2.513158\u001b[0m\n",
       "ranking_6    \u001b[1;36m3.047847\u001b[0m\n",
       "dtype: float64\n"
      ]
     },
     "metadata": {},
     "output_type": "display_data"
    },
    {
     "data": {
      "image/png": "[encoded data removed]",
      "text/plain": [
       "<Figure size 864x432 with 1 Axes>"
      ]
     },
     "metadata": {},
     "output_type": "display_data"
    }
   ],
   "source": [
    "# calculate and print mean of each rank column\n",
    "mean_ranking = star_wars.iloc[:,9:15].mean()\n",
    "print(\"Mean film rank values\")\n",
    "print(\"=\"*25)\n",
    "print(mean_ranking)\n",
    "\n",
    "# plot bar chart of mean rankings\n",
    "fig, ax = plt.subplots(figsize=(12,6))\n",
    "ax = sns.barplot(x=mean_ranking, \n",
    "                 y=mean_ranking.index, \n",
    "                 color=\"#1f77b4\")\n",
    "ax.set_xlabel('Mean rank')\n",
    "ax.set_title(\"Mean rank of Star Wars films\")\n",
    "\n",
    "# create function to relabel ticks with the epiosde number to make plots more user-friendly\n",
    "def relabel(axis):\n",
    "    positions = (0, 1, 2, 3, 4, 5)\n",
    "    labels = (\"Episode I\", \"Episode II\", \"Episode III\", \"Episode IV\", \"Episode V\", \"Episode VI\")\n",
    "    for ax in fig.get_axes():\n",
    "        if axis == \"y\":\n",
    "            ax.set_yticks(positions)\n",
    "            ax.set_yticklabels(labels)\n",
    "        elif axis == \"x\":\n",
    "            ax.set_xticks(positions)\n",
    "            ax.set_xticklabels(labels)\n",
    "        else:\n",
    "            print(\"Invalid axis, enter either 'x' or 'y'\")\n",
    "            \n",
    "relabel(\"y\") # relabel y-ticks with episode numbers\n",
    "    \n",
    "plt.show()"
   ]
  },
  {
   "cell_type": "markdown",
   "metadata": {},
   "source": [
    "Recall that the ranking is ordered from `1` - most favourite to `6` - least favourite. Therefore the lower the mean ranking the better. The bar chart reveals that respondents rated films in the original triology higher than films in the prequel trilogy, with **Star Wars: Episode V The Empire Strikes Back** (`ranking_5`) being, on average, the overall favourite film. **Star Wars: Episode III Revenge of the Sith** (`ranking_3`) was the least favourite, which in the author's opinion is quite frankly absurd, but nevermind."
   ]
  },
  {
   "cell_type": "markdown",
   "metadata": {},
   "source": [
    "### How many people have seen each film\n",
    "\n",
    "Earlier we cleaned up the 'seen' columns and converted their values to the Boolean type. Pandas methods that aggregate data treat Booleans like integers, i.e. `True` = `1` and `False` = `0`. This means we can figure out how many people have seen each film just by taking the sum of the column."
   ]
  },
  {
   "cell_type": "code",
   "execution_count": 19,
   "metadata": {},
   "outputs": [
    {
     "data": {
      "text/html": [
       "<pre style=\"white-space:pre;overflow-x:auto;line-height:normal;font-family:Menlo,'DejaVu Sans Mono',consolas,'Courier New',monospace\">seen_1    <span style=\"color: #008080; text-decoration-color: #008080; font-weight: bold\">673</span>\n",
       "seen_2    <span style=\"color: #008080; text-decoration-color: #008080; font-weight: bold\">571</span>\n",
       "seen_3    <span style=\"color: #008080; text-decoration-color: #008080; font-weight: bold\">550</span>\n",
       "seen_4    <span style=\"color: #008080; text-decoration-color: #008080; font-weight: bold\">607</span>\n",
       "seen_5    <span style=\"color: #008080; text-decoration-color: #008080; font-weight: bold\">758</span>\n",
       "seen_6    <span style=\"color: #008080; text-decoration-color: #008080; font-weight: bold\">738</span>\n",
       "dtype: int64\n",
       "</pre>\n"
      ],
      "text/plain": [
       "seen_1    \u001b[1;36m673\u001b[0m\n",
       "seen_2    \u001b[1;36m571\u001b[0m\n",
       "seen_3    \u001b[1;36m550\u001b[0m\n",
       "seen_4    \u001b[1;36m607\u001b[0m\n",
       "seen_5    \u001b[1;36m758\u001b[0m\n",
       "seen_6    \u001b[1;36m738\u001b[0m\n",
       "dtype: int64\n"
      ]
     },
     "metadata": {},
     "output_type": "display_data"
    },
    {
     "data": {
      "image/png": "[encoded data removed]",
      "text/plain": [
       "<Figure size 864x432 with 1 Axes>"
      ]
     },
     "metadata": {},
     "output_type": "display_data"
    }
   ],
   "source": [
    "# sum each `seen` column to get count of people who have seen each film\n",
    "sum_seen = star_wars.iloc[:,3:9].sum()\n",
    "print(sum_seen)\n",
    "\n",
    "# plot data on bar chart\n",
    "fig, ax = plt.subplots(figsize=(12,6))\n",
    "ax = sns.barplot(x=sum_seen, \n",
    "                 y=sum_seen.index, \n",
    "                 color=\"#1f77b4\")\n",
    "ax.set_xlabel('Number seen')\n",
    "ax.set_title(\"Number of respondents who have seen each Star Wars film\")\n",
    "\n",
    "relabel(\"y\") # relabel y-ticks with episode numbers\n",
    "\n",
    "plt.show()"
   ]
  },
  {
   "cell_type": "markdown",
   "metadata": {},
   "source": [
    "We can see that most survey respondents (`64%`) have seen **Star Wars: Episode V The Empire Strikes Back**, while **Star Wars: Episode III Revenge of the Sith** has been seen by the fewest respondents (`46%`). Could this be related to how people rank each film? Respondents would most likely rank a film they have seen higher than one they haven't. Perhaps it would be better to remove respondents that haven't seen all the films - we'll take a look at this in the next section."
   ]
  },
  {
   "cell_type": "markdown",
   "metadata": {},
   "source": [
    "## Segmenting the audience\n",
    "We now know how the survey population has ranked each film, but we can take a more granular look at the data by examining how certain segments of the survey population responded."
   ]
  },
  {
   "cell_type": "markdown",
   "metadata": {},
   "source": [
    "### Respondents who have seen all the films\n",
    "To see if there is any bias in the answers to film rankings by respondents who have not seen all the films, we'll segment a subset of the population who have seen all the films, and then see if there is any difference in how the films are ranked between this cohort and the general population."
   ]
  },
  {
   "cell_type": "code",
   "execution_count": 20,
   "metadata": {},
   "outputs": [
    {
     "data": {
      "text/html": [
       "<div>\n",
       "<style scoped>\n",
       "    .dataframe tbody tr th:only-of-type {\n",
       "        vertical-align: middle;\n",
       "    }\n",
       "\n",
       "    .dataframe tbody tr th {\n",
       "        vertical-align: top;\n",
       "    }\n",
       "\n",
       "    .dataframe thead th {\n",
       "        text-align: right;\n",
       "    }\n",
       "</style>\n",
       "<table border=\"1\" class=\"dataframe\">\n",
       "  <thead>\n",
       "    <tr style=\"text-align: right;\">\n",
       "      <th></th>\n",
       "      <th>seen_1</th>\n",
       "      <th>seen_2</th>\n",
       "      <th>seen_3</th>\n",
       "      <th>seen_4</th>\n",
       "      <th>seen_5</th>\n",
       "      <th>seen_6</th>\n",
       "      <th>seen_all</th>\n",
       "    </tr>\n",
       "  </thead>\n",
       "  <tbody>\n",
       "    <tr>\n",
       "      <th>1153</th>\n",
       "      <td>False</td>\n",
       "      <td>False</td>\n",
       "      <td>False</td>\n",
       "      <td>False</td>\n",
       "      <td>False</td>\n",
       "      <td>False</td>\n",
       "      <td>False</td>\n",
       "    </tr>\n",
       "    <tr>\n",
       "      <th>448</th>\n",
       "      <td>True</td>\n",
       "      <td>True</td>\n",
       "      <td>True</td>\n",
       "      <td>True</td>\n",
       "      <td>True</td>\n",
       "      <td>True</td>\n",
       "      <td>True</td>\n",
       "    </tr>\n",
       "    <tr>\n",
       "      <th>664</th>\n",
       "      <td>False</td>\n",
       "      <td>False</td>\n",
       "      <td>False</td>\n",
       "      <td>True</td>\n",
       "      <td>False</td>\n",
       "      <td>False</td>\n",
       "      <td>False</td>\n",
       "    </tr>\n",
       "    <tr>\n",
       "      <th>1135</th>\n",
       "      <td>False</td>\n",
       "      <td>False</td>\n",
       "      <td>False</td>\n",
       "      <td>False</td>\n",
       "      <td>False</td>\n",
       "      <td>False</td>\n",
       "      <td>False</td>\n",
       "    </tr>\n",
       "    <tr>\n",
       "      <th>11</th>\n",
       "      <td>False</td>\n",
       "      <td>False</td>\n",
       "      <td>False</td>\n",
       "      <td>False</td>\n",
       "      <td>False</td>\n",
       "      <td>False</td>\n",
       "      <td>False</td>\n",
       "    </tr>\n",
       "    <tr>\n",
       "      <th>149</th>\n",
       "      <td>False</td>\n",
       "      <td>False</td>\n",
       "      <td>False</td>\n",
       "      <td>False</td>\n",
       "      <td>True</td>\n",
       "      <td>False</td>\n",
       "      <td>False</td>\n",
       "    </tr>\n",
       "    <tr>\n",
       "      <th>50</th>\n",
       "      <td>True</td>\n",
       "      <td>False</td>\n",
       "      <td>False</td>\n",
       "      <td>True</td>\n",
       "      <td>True</td>\n",
       "      <td>True</td>\n",
       "      <td>False</td>\n",
       "    </tr>\n",
       "    <tr>\n",
       "      <th>1138</th>\n",
       "      <td>True</td>\n",
       "      <td>False</td>\n",
       "      <td>True</td>\n",
       "      <td>False</td>\n",
       "      <td>True</td>\n",
       "      <td>True</td>\n",
       "      <td>False</td>\n",
       "    </tr>\n",
       "    <tr>\n",
       "      <th>72</th>\n",
       "      <td>True</td>\n",
       "      <td>True</td>\n",
       "      <td>True</td>\n",
       "      <td>True</td>\n",
       "      <td>True</td>\n",
       "      <td>True</td>\n",
       "      <td>True</td>\n",
       "    </tr>\n",
       "    <tr>\n",
       "      <th>843</th>\n",
       "      <td>True</td>\n",
       "      <td>True</td>\n",
       "      <td>True</td>\n",
       "      <td>True</td>\n",
       "      <td>True</td>\n",
       "      <td>True</td>\n",
       "      <td>True</td>\n",
       "    </tr>\n",
       "  </tbody>\n",
       "</table>\n",
       "</div>"
      ],
      "text/plain": [
       "      seen_1  seen_2  seen_3  seen_4  seen_5  seen_6  seen_all\n",
       "1153   False   False   False   False   False   False     False\n",
       "448     True    True    True    True    True    True      True\n",
       "664    False   False   False    True   False   False     False\n",
       "1135   False   False   False   False   False   False     False\n",
       "11     False   False   False   False   False   False     False\n",
       "149    False   False   False   False    True   False     False\n",
       "50      True   False   False    True    True    True     False\n",
       "1138    True   False    True   False    True    True     False\n",
       "72      True    True    True    True    True    True      True\n",
       "843     True    True    True    True    True    True      True"
      ]
     },
     "execution_count": 20,
     "metadata": {},
     "output_type": "execute_result"
    }
   ],
   "source": [
    "## identify respondents who have seen all the films ##\n",
    "\n",
    "# use df.all() to create a new column indicating whether a respondent has seen all films\n",
    "star_wars[\"seen_all\"] = star_wars.iloc[:, 3:9].all(axis='columns')\n",
    "\n",
    "# confirm output with random sample\n",
    "star_wars[[\"seen_1\", \"seen_2\", \"seen_3\", \"seen_4\", \"seen_5\", \"seen_6\", \"seen_all\"]].sample(10, random_state=5)"
   ]
  },
  {
   "cell_type": "markdown",
   "metadata": {},
   "source": [
    "Looks like that worked, now let's create our subset and plot the mean rank for each film again. Too make it easier to compare the subset of respondents who have seen all the films with the entire survey population, we'll plot the mean ranking of both groups on the same chart."
   ]
  },
  {
   "cell_type": "code",
   "execution_count": 21,
   "metadata": {},
   "outputs": [
    {
     "data": {
      "text/html": [
       "<pre style=\"white-space:pre;overflow-x:auto;line-height:normal;font-family:Menlo,'DejaVu Sans Mono',consolas,'Courier New',monospace\"><span style=\"color: #008080; text-decoration-color: #008080; font-weight: bold\">39.71</span> percent of respondents have seen all Star Wars films\n",
       "</pre>\n"
      ],
      "text/plain": [
       "\u001b[1;36m39.71\u001b[0m percent of respondents have seen all Star Wars films\n"
      ]
     },
     "metadata": {},
     "output_type": "display_data"
    },
    {
     "data": {
      "text/html": [
       "<pre style=\"white-space:pre;overflow-x:auto;line-height:normal;font-family:Menlo,'DejaVu Sans Mono',consolas,'Courier New',monospace\"><span style=\"font-weight: bold\">Mean film ranks by </span><span style=\"color: #008000; text-decoration-color: #008000; font-weight: bold\">'seen_all'</span><span style=\"font-weight: bold\"> cohort and the total survey population</span>\n",
       "</pre>\n"
      ],
      "text/plain": [
       "\u001b[1mMean film ranks by \u001b[0m\u001b[1;32m'seen_all'\u001b[0m\u001b[1m cohort and the total survey population\u001b[0m\n"
      ]
     },
     "metadata": {},
     "output_type": "display_data"
    },
    {
     "data": {
      "text/html": [
       "<pre style=\"white-space:pre;overflow-x:auto;line-height:normal;font-family:Menlo,'DejaVu Sans Mono',consolas,'Courier New',monospace\">           total_pop  seen_all\n",
       "ranking_1   <span style=\"color: #008080; text-decoration-color: #008080; font-weight: bold\">3.732934</span>  <span style=\"color: #008080; text-decoration-color: #008080; font-weight: bold\">4.237792</span>\n",
       "ranking_2   <span style=\"color: #008080; text-decoration-color: #008080; font-weight: bold\">4.087321</span>  <span style=\"color: #008080; text-decoration-color: #008080; font-weight: bold\">4.326964</span>\n",
       "ranking_3   <span style=\"color: #008080; text-decoration-color: #008080; font-weight: bold\">4.341317</span>  <span style=\"color: #008080; text-decoration-color: #008080; font-weight: bold\">4.253191</span>\n",
       "ranking_4   <span style=\"color: #008080; text-decoration-color: #008080; font-weight: bold\">3.272727</span>  <span style=\"color: #008080; text-decoration-color: #008080; font-weight: bold\">2.866242</span>\n",
       "ranking_5   <span style=\"color: #008080; text-decoration-color: #008080; font-weight: bold\">2.513158</span>  <span style=\"color: #008080; text-decoration-color: #008080; font-weight: bold\">2.380042</span>\n",
       "ranking_6   <span style=\"color: #008080; text-decoration-color: #008080; font-weight: bold\">3.047847</span>  <span style=\"color: #008080; text-decoration-color: #008080; font-weight: bold\">2.932059</span>\n",
       "</pre>\n"
      ],
      "text/plain": [
       "           total_pop  seen_all\n",
       "ranking_1   \u001b[1;36m3.732934\u001b[0m  \u001b[1;36m4.237792\u001b[0m\n",
       "ranking_2   \u001b[1;36m4.087321\u001b[0m  \u001b[1;36m4.326964\u001b[0m\n",
       "ranking_3   \u001b[1;36m4.341317\u001b[0m  \u001b[1;36m4.253191\u001b[0m\n",
       "ranking_4   \u001b[1;36m3.272727\u001b[0m  \u001b[1;36m2.866242\u001b[0m\n",
       "ranking_5   \u001b[1;36m2.513158\u001b[0m  \u001b[1;36m2.380042\u001b[0m\n",
       "ranking_6   \u001b[1;36m3.047847\u001b[0m  \u001b[1;36m2.932059\u001b[0m\n"
      ]
     },
     "metadata": {},
     "output_type": "display_data"
    },
    {
     "data": {
      "image/png": "[encoded data removed]",
      "text/plain": [
       "<Figure size 864x432 with 1 Axes>"
      ]
     },
     "metadata": {},
     "output_type": "display_data"
    }
   ],
   "source": [
    "# create subset dataframe of respondents who have seen all the films\n",
    "seen_all = star_wars[star_wars[\"seen_all\"] == True]\n",
    "\n",
    "# calc percent of survey pop that has seen Star Wars films\n",
    "percent_seen_all = seen_all.shape[0] / star_wars.shape[0]\n",
    "print(\"{:.2f} percent of respondents have seen all Star Wars films\".format(percent_seen_all * 100))\n",
    "\n",
    "# determine mean film rankings of the 'seen all' cohort\n",
    "mean_ranking_seen_all = seen_all.iloc[:,9:15].mean()\n",
    "\n",
    "# combine film rankings for 'seen all' cohort with total survey pop into one dataframe\n",
    "combined_ranks = pd.concat([mean_ranking, mean_ranking_seen_all], axis=1).rename(\n",
    "                                                                                 columns={0:\"total_pop\", \n",
    "                                                                                          1:\"seen_all\"}\n",
    "                                                                                )\n",
    "\n",
    "print(\"[bold]Mean film ranks by 'seen_all' cohort and the total survey population[/bold]\")\n",
    "print(combined_ranks)\n",
    "\n",
    "\n",
    "# plot bar chart\n",
    "fig, ax = plt.subplots(figsize=(12,6))\n",
    "combined_ranks.plot.barh(ax=ax)\n",
    "ax.invert_yaxis() # invert y-axis to keep consistent with seaborn barplots\n",
    "ax.set_title(\"\"\"Comparing mean rank of Star Wars films between subset of respondents \n",
    "             who have seen all films and the total survey population\"\"\")\n",
    "\n",
    "relabel(\"y\") # relabel y-ticks with episode numbers\n",
    "\n",
    "plt.show()"
   ]
  },
  {
   "cell_type": "markdown",
   "metadata": {},
   "source": [
    "Out of all `1187` respondents, only `471` (`40%`) have seen all the Star Wars films.\n",
    "\n",
    "The general pattern in film rankings is very similar, however the `seen_all` cohort tends to rank the original triology higher, and the prequel triology lower. Also, the `seen_all` cohort ranks `Episode II` the lowest of all episodes, compared with the total population who rate `Episode III` the lowest. As we suspected earlier, there may well be a bias affect in film rankings caused by respondents who have not seen all the films, specifically for `Episode III` which has been watched by the fewest respondents. However, the affect is probably not signfiicant enough to warrant removing any respondent who has not seen all the films from further analysis."
   ]
  },
  {
   "cell_type": "markdown",
   "metadata": {},
   "source": [
    "### Gender and Star Wars\n",
    "Let's check to see if the survey recieved a fairly similar number of male and female respondents. If the survey is heavily weighted towards one gender, it may affect our analysis."
   ]
  },
  {
   "cell_type": "code",
   "execution_count": 22,
   "metadata": {},
   "outputs": [
    {
     "data": {
      "image/png": "[encoded data removed]",
      "text/plain": [
       "<Figure size 432x576 with 1 Axes>"
      ]
     },
     "metadata": {},
     "output_type": "display_data"
    },
    {
     "data": {
      "text/html": [
       "<pre style=\"white-space:pre;overflow-x:auto;line-height:normal;font-family:Menlo,'DejaVu Sans Mono',consolas,'Courier New',monospace\">Gender\n",
       "Female    <span style=\"color: #008080; text-decoration-color: #008080; font-weight: bold\">549</span>\n",
       "Male      <span style=\"color: #008080; text-decoration-color: #008080; font-weight: bold\">497</span>\n",
       "Name: RespondentID, dtype: int64\n",
       "</pre>\n"
      ],
      "text/plain": [
       "Gender\n",
       "Female    \u001b[1;36m549\u001b[0m\n",
       "Male      \u001b[1;36m497\u001b[0m\n",
       "Name: RespondentID, dtype: int64\n"
      ]
     },
     "metadata": {},
     "output_type": "display_data"
    }
   ],
   "source": [
    "# group dataframe by Gender column\n",
    "gen = star_wars.groupby(['Gender'])\n",
    "\n",
    "# plot count of each respondent by gender\n",
    "fig, ax = plt.subplots(figsize=(6,8))\n",
    "ax = sns.barplot(x=gen[\"RespondentID\"].count().index,\n",
    "                 y=gen[\"RespondentID\"].count(),\n",
    "                 color=\"#1f77b4\")\n",
    "ax.set_ylabel('')\n",
    "ax.set_xlabel('')\n",
    "ax.set_title(\"Number of respondents by gender\")\n",
    "\n",
    "plt.show()\n",
    "\n",
    "print(gen[\"RespondentID\"].count())"
   ]
  },
  {
   "cell_type": "markdown",
   "metadata": {},
   "source": [
    "There are slightly more `Female` respondents than `Male`, but they both roughly account for `50%` of the total survey population. \n",
    "\n",
    "Let's take a look at what percentage of males and females identified themselves as a fan of the Star Wars films."
   ]
  },
  {
   "cell_type": "code",
   "execution_count": 23,
   "metadata": {},
   "outputs": [
    {
     "data": {
      "image/png": "[encoded data removed]",
      "text/plain": [
       "<Figure size 432x576 with 1 Axes>"
      ]
     },
     "metadata": {},
     "output_type": "display_data"
    },
    {
     "data": {
      "text/html": [
       "<pre style=\"white-space:pre;overflow-x:auto;line-height:normal;font-family:Menlo,'DejaVu Sans Mono',consolas,'Courier New',monospace\">Gender\n",
       "Female    <span style=\"color: #008080; text-decoration-color: #008080; font-weight: bold\">59.95</span>\n",
       "Male      <span style=\"color: #008080; text-decoration-color: #008080; font-weight: bold\">71.63</span>\n",
       "Name: Do you consider yourself to be a fan of the Star Wars film franchise?, dtype: float64\n",
       "</pre>\n"
      ],
      "text/plain": [
       "Gender\n",
       "Female    \u001b[1;36m59.95\u001b[0m\n",
       "Male      \u001b[1;36m71.63\u001b[0m\n",
       "Name: Do you consider yourself to be a fan of the Star Wars film franchise?, dtype: float64\n"
      ]
     },
     "metadata": {},
     "output_type": "display_data"
    }
   ],
   "source": [
    "## determine if there is a greater % of male star wars fans (of all male respondents) \n",
    "## or female fans (of all female respondents)\n",
    "\n",
    "# select the Star Wars fan col in the gender-grouped dataset\n",
    "gen_fans = gen[\"Do you consider yourself to be a fan of the Star Wars film franchise?\"]\n",
    "\n",
    "# calcualte percent of gender that are fans\n",
    "gen_fans_p = gen_fans.agg(lambda x: round(x.sum() / x.count() * 100, 2))\n",
    "\n",
    "# plot percent of fans by gender\n",
    "fig, ax = plt.subplots(figsize=(6,8))\n",
    "ax = sns.barplot(x=gen_fans_p.index,\n",
    "                 y=gen_fans_p,\n",
    "                 color=\"#1f77b4\")\n",
    "ax.set_ylabel('Percentage')\n",
    "ax.set_xlabel('')\n",
    "ax.set_title(\"Percent of gender that identify as a fan\")\n",
    "\n",
    "plt.show()\n",
    "\n",
    "print(gen_fans_p)"
   ]
  },
  {
   "cell_type": "markdown",
   "metadata": {},
   "source": [
    "Approximately `72%` of `Male` respondents identified as a fan of the Star Wars films, compared with `60%` of `Female` respondents. The Star Wars films appear to be more popular with a `Male` audience.\n",
    "\n",
    "Let's see if there is any difference between male and female respondents in the Star Wars films they have seen and how they ranked them."
   ]
  },
  {
   "cell_type": "code",
   "execution_count": 24,
   "metadata": {},
   "outputs": [
    {
     "data": {
      "image/png": "[encoded data removed]",
      "text/plain": [
       "<Figure size 720x1080 with 2 Axes>"
      ]
     },
     "metadata": {},
     "output_type": "display_data"
    }
   ],
   "source": [
    "# calculate the percent of each gender that have seen each film\n",
    "gen_seen = gen[[\"seen_1\", \"seen_2\", \"seen_3\", \"seen_4\", \"seen_5\", \"seen_6\"]]\n",
    "gen_seen_p = gen_seen.agg(lambda x: round(x.sum() / x.count() * 100, 2))\n",
    "gen_seen_t = gen_seen_p.T # transpose index and columns\n",
    "\n",
    "# get mean rank of each film by gender\n",
    "gen_rank = gen[[\"ranking_1\", \"ranking_2\", \"ranking_3\", \"ranking_4\", \"ranking_5\", \"ranking_6\"]].mean()\n",
    "gen_rank_t = gen_rank.T # tranpose index and columns\n",
    "\n",
    "fig, axs = plt.subplots(nrows = 2, ncols = 1, figsize = (10, 15))\n",
    "\n",
    "# plot percentage of gender that have watched each film\n",
    "ax1 = gen_seen_t.plot.barh(title=\"Percentage of respondents who have seen each film, split by gender\", ax = axs[0])\n",
    "ax1.set_xlabel(\"Percent\")\n",
    "ax1.invert_yaxis() # invert y-axis to keep consistent with seaborn barplots\n",
    "\n",
    "# plot rank of films by gender\n",
    "ax2 = gen_rank_t.plot.barh(title=\"Mean rank of each film, split by gender\", ax = axs[1])\n",
    "ax2.set_xlabel(\"Mean rank\")\n",
    "ax2.invert_yaxis() # invert y-axis to keep consistent with seaborn barplots\n",
    "\n",
    "# relabel y-ticks with episode numbers\n",
    "relabel(\"y\") \n",
    "\n",
    "plt.subplots_adjust(hspace=.3) # increase height space between plots for presentation\n",
    "\n",
    "plt.show()"
   ]
  },
  {
   "cell_type": "markdown",
   "metadata": {},
   "source": [
    "The top graph shows us that for all films there is a higher percentage of males that have seen the film compared with the percentage of females. The largest disparity is in `Episode III`, only `40%` of all female respondents have seen the film, compared with `64%` of all male respondents. The general pattern in films seen by both genders reflects what we saw earlier for the total survey population.\n",
    "\n",
    "Looking at the second graph of mean film rankings by gender, we can see that `Males` seem to view the first couple of films in the prequel trilogy much less favourably than `Females`. For all other films in the series, `Females` tend to have a more negative outlook than `Males`."
   ]
  },
  {
   "cell_type": "markdown",
   "metadata": {},
   "source": [
    "### Who shot first?\n",
    "While there is a question in the survey that directly asks whether a respondent is a fan of the Star Wars series, perhaps a more telling indication of Star Wars fandom is a respondent's answer to the question, **'Which character shot first?'** \n",
    "\n",
    "For context, a controversial change was made to a scene in the re-release of **Episode IV**. The scene depicts the character Han Solo in a confrontation with another character, Greedo. In the original version of the scene, Han Solo shoots Greedo dead in cold blood. However, in the re-release of Episode IV, the scene was modified so that Greedo shoots (and misses) Han first before Han retaliates, portraying Han as acting in self-defence rather than being the aggressor. Many fans reacted negatively to this change, arguing that it altered Han Solo's initial moral ambiguity and weakened his story arc, making his later transition from anti-hero to hero less meaningful.\n",
    "\n",
    "Ultimately, awareness of this change represents somewhat esoteric knowledge of the Star Wars films, which could imply a strong level of fandom."
   ]
  },
  {
   "cell_type": "code",
   "execution_count": 25,
   "metadata": {},
   "outputs": [
    {
     "data": {
      "image/png": "[encoded data removed]",
      "text/plain": [
       "<Figure size 864x576 with 1 Axes>"
      ]
     },
     "metadata": {},
     "output_type": "display_data"
    }
   ],
   "source": [
    "# get percentage of respondents for each answer\n",
    "wsf_per = star_wars[\"Which character shot first?\"].value_counts(normalize=True)\n",
    "\n",
    "# plot pie chart of mean rankings\n",
    "ax = wsf_per.plot.pie(figsize=(12,8), autopct='%1.0f%%', textprops={'fontsize': 13}, colors = sns.color_palette())\n",
    "ax.set_ylabel(\"\")\n",
    "ax.set_title(\"Who shot first?\")\n",
    "ax.axis('equal') # set equal aspect ratio so pie is a true circle\n",
    "\n",
    "plt.show()"
   ]
  },
  {
   "cell_type": "markdown",
   "metadata": {},
   "source": [
    "We can see that the majority of respondents think that either `Han` shot first (`39%`) or do not understand the question (`37%`). A smaller number of respondents think `Greedo` shot first (`24%`).\n",
    "\n",
    "We might expect the respondent's age to be a factor in their answer here. Older respondents are more likely to have seen the original **1977** release of **Episode IV** where Han shoots first, while younger respondents are perhaps more likely to of seen the **1997** re-release where Greedo is the instigator. Let's take a look at this question segmented by the respondent's age."
   ]
  },
  {
   "cell_type": "code",
   "execution_count": 26,
   "metadata": {
    "scrolled": false
   },
   "outputs": [
    {
     "data": {
      "image/png": "[encoded data removed]",
      "text/plain": [
       "<Figure size 864x432 with 1 Axes>"
      ]
     },
     "metadata": {},
     "output_type": "display_data"
    }
   ],
   "source": [
    "# prepare data for plotting - we'll get the percentage of each answer from each age group\n",
    "wsf_age = star_wars[[\"Which character shot first?\", \"Age\"]]\n",
    "wsf_age_grp = wsf_age.groupby([\"Age\"])\n",
    "wsf_age_per = (wsf_age_grp[\"Which character shot first?\"].value_counts(normalize=True)\n",
    "                                                         .rename(\"Percent\")\n",
    "                                                         .reset_index()\n",
    "              )\n",
    "\n",
    "# plot 100 percent stacked bar chart\n",
    "fig, ax = plt.subplots(figsize=(12,6))\n",
    "\n",
    "# seaborn has no native support for stacked bar charts\n",
    "# but we can repurpose the histogram plot to get a 100 percent stacked barchart\n",
    "ax = sns.histplot(wsf_age_per, x='Age', \n",
    "                  hue=\"Which character shot first?\", \n",
    "                  weights='Percent',\n",
    "                  multiple='stack', \n",
    "                  shrink=0.8)\n",
    "ax.set_ylabel(\"Percentage\")\n",
    "ax.set_title(\"'Who shot first?', split by age group\")\n",
    "\n",
    "# relocate legend so it's not overlapping bars\n",
    "legend = ax.get_legend()\n",
    "legend.set_bbox_to_anchor((0.65, -0.15))\n",
    "\n",
    "plt.show()"
   ]
  },
  {
   "cell_type": "markdown",
   "metadata": {},
   "source": [
    "Turns out, contrary to our expectations, that the majority of respondents in the youngest age group (`18-29`) actually answered `Han` when asked `Which character shot first?`. More so than any other age group. Perhaps the `18-29` age group has the most die-hard Star Wars fans. \n",
    "\n",
    "A similar percentage of respondents answered  `Greedo` in each age group, though this percentage was a little higher in the  the `30-44` category. Also of note, people aged over 60 were the least likely to understand what this question meant, even though they would probably have been the target audience at the time of release of `Episode IV`. However, it's important to remember that this detail is so minor it's easy to forget."
   ]
  },
  {
   "cell_type": "markdown",
   "metadata": {},
   "source": [
    "### Are fans of Star Wars more likely to be fans of Star Trek too?\n",
    "People have always drawn comparisons between Star Wars and Star Trek, enough so in fact to warrant a [Wikipedia article](https://en.wikipedia.org/wiki/Comparison_of_Star_Trek_and_Star_Wars). Both sci-fi franchises have strong fan bases, but just how much fan cross-over is there? Let's find out if fans of Star Wars are more or less likely to be fans of Star Trek.\n",
    "\n",
    "First we'll identify what percentage of our total survey population are fans of Star Trek."
   ]
  },
  {
   "cell_type": "code",
   "execution_count": 27,
   "metadata": {},
   "outputs": [
    {
     "data": {
      "image/png": "[encoded data removed]",
      "text/plain": [
       "<Figure size 864x576 with 1 Axes>"
      ]
     },
     "metadata": {},
     "output_type": "display_data"
    }
   ],
   "source": [
    "# identify percentage of Star Trek fans in total survey pop\n",
    "st_fans = (star_wars.iloc[:,32].value_counts(normalize=True)\n",
    "                               .rename(index={True: 'Fan', False: \"Not fan\"}) # rename labels for presentation\n",
    "                               .sort_index() # sort by index label rather than value so colours are kept consistent\n",
    "                                             # with the next pie chart\n",
    "          )\n",
    "\n",
    "# plot pie chart\n",
    "ax = st_fans.plot.pie(figsize=(12,8), \n",
    "                      autopct='%1.0f%%', \n",
    "                      textprops={'fontsize': 13}, \n",
    "                      startangle=90)\n",
    "ax.set_ylabel(\"\")\n",
    "ax.set_title(\"Percentage of Star Trek fans/not-fans across all survey respondents\")\n",
    "ax.axis('equal') # set equal aspect ratio so pie is a true circle\n",
    "\n",
    "plt.show()"
   ]
  },
  {
   "cell_type": "markdown",
   "metadata": {},
   "source": [
    "The majority of survey respondents are **not** fans of Star Trek with a roughly 60:40 split of non-fans to fans. Now let's see how this compares with respondents who **are fans of Star Wars**."
   ]
  },
  {
   "cell_type": "code",
   "execution_count": 28,
   "metadata": {},
   "outputs": [
    {
     "data": {
      "image/png": "[encoded data removed]",
      "text/plain": [
       "<Figure size 864x576 with 1 Axes>"
      ]
     },
     "metadata": {},
     "output_type": "display_data"
    }
   ],
   "source": [
    "# get subset of Star Wars fans\n",
    "sw_fans = star_wars[star_wars.iloc[:, 2] == True]\n",
    "\n",
    "# get percentage of Star Wars fans that are fans/not fans of Star Trek\n",
    "sw_st_fans = (sw_fans.iloc[:,32].value_counts(normalize=True)\n",
    "                                .rename(index={True: 'Fan', False: \"Not fan\"}) # rename labels for presentation\n",
    "                                .sort_index() # sort by index label rather than value so colours are kept consistent\n",
    "                                              # with preceding pie chart\n",
    "             )\n",
    "\n",
    "# plot pie chart\n",
    "ax = sw_st_fans.plot.pie(figsize=(12,8), \n",
    "                         autopct='%1.0f%%', \n",
    "                         textprops={'fontsize': 13},\n",
    "                         startangle=90,\n",
    "                         )\n",
    "ax.set_ylabel(\"\")\n",
    "ax.set_title(\"Percentage of Star Wars fans that are also Star Trek fans\")\n",
    "ax.axis('equal') # set equal aspect ratio so pie is a true circle\n",
    "\n",
    "plt.show()"
   ]
  },
  {
   "cell_type": "markdown",
   "metadata": {},
   "source": [
    "In a complete flip from the total survey population, we can see that a clear majority of respondents who are Star Wars fans are also fans of Star Trek too."
   ]
  },
  {
   "cell_type": "markdown",
   "metadata": {},
   "source": [
    "### Character analysis\n",
    "\n",
    "The Star Wars films have a number of iconic and memorable characters, but there are also some that may be less familiar to a general audience. Let's see if we can identify the most and least recognisable characters."
   ]
  },
  {
   "cell_type": "code",
   "execution_count": 29,
   "metadata": {},
   "outputs": [
    {
     "data": {
      "text/html": [
       "<pre style=\"white-space:pre;overflow-x:auto;line-height:normal;font-family:Menlo,'DejaVu Sans Mono',consolas,'Courier New',monospace\"><span style=\"font-weight: bold\">Count of each rating for every character</span>\n",
       "</pre>\n"
      ],
      "text/plain": [
       "\u001b[1mCount of each rating for every character\u001b[0m\n"
      ]
     },
     "metadata": {},
     "output_type": "display_data"
    },
    {
     "data": {
      "text/html": [
       "<div>\n",
       "<style scoped>\n",
       "    .dataframe tbody tr th:only-of-type {\n",
       "        vertical-align: middle;\n",
       "    }\n",
       "\n",
       "    .dataframe tbody tr th {\n",
       "        vertical-align: top;\n",
       "    }\n",
       "\n",
       "    .dataframe thead th {\n",
       "        text-align: right;\n",
       "    }\n",
       "</style>\n",
       "<table border=\"1\" class=\"dataframe\">\n",
       "  <thead>\n",
       "    <tr style=\"text-align: right;\">\n",
       "      <th></th>\n",
       "      <th>Han Solo</th>\n",
       "      <th>Luke Skywalker</th>\n",
       "      <th>Princess Leia Organa</th>\n",
       "      <th>Anakin Skywalker</th>\n",
       "      <th>Obi Wan Kenobi</th>\n",
       "      <th>Emperor Palpatine</th>\n",
       "      <th>Darth Vader</th>\n",
       "      <th>Lando Calrissian</th>\n",
       "      <th>Boba Fett</th>\n",
       "      <th>C-3P0</th>\n",
       "      <th>R2 D2</th>\n",
       "      <th>Jar Jar Binks</th>\n",
       "      <th>Padme Amidala</th>\n",
       "      <th>Yoda</th>\n",
       "    </tr>\n",
       "  </thead>\n",
       "  <tbody>\n",
       "    <tr>\n",
       "      <th>1</th>\n",
       "      <td>610</td>\n",
       "      <td>552</td>\n",
       "      <td>547</td>\n",
       "      <td>245</td>\n",
       "      <td>591</td>\n",
       "      <td>110</td>\n",
       "      <td>310</td>\n",
       "      <td>142</td>\n",
       "      <td>138</td>\n",
       "      <td>474</td>\n",
       "      <td>562</td>\n",
       "      <td>112</td>\n",
       "      <td>168</td>\n",
       "      <td>605</td>\n",
       "    </tr>\n",
       "    <tr>\n",
       "      <th>2</th>\n",
       "      <td>151</td>\n",
       "      <td>219</td>\n",
       "      <td>210</td>\n",
       "      <td>269</td>\n",
       "      <td>159</td>\n",
       "      <td>143</td>\n",
       "      <td>171</td>\n",
       "      <td>223</td>\n",
       "      <td>153</td>\n",
       "      <td>229</td>\n",
       "      <td>185</td>\n",
       "      <td>130</td>\n",
       "      <td>183</td>\n",
       "      <td>144</td>\n",
       "    </tr>\n",
       "    <tr>\n",
       "      <th>3</th>\n",
       "      <td>44</td>\n",
       "      <td>38</td>\n",
       "      <td>48</td>\n",
       "      <td>135</td>\n",
       "      <td>43</td>\n",
       "      <td>213</td>\n",
       "      <td>84</td>\n",
       "      <td>236</td>\n",
       "      <td>248</td>\n",
       "      <td>79</td>\n",
       "      <td>57</td>\n",
       "      <td>164</td>\n",
       "      <td>207</td>\n",
       "      <td>51</td>\n",
       "    </tr>\n",
       "    <tr>\n",
       "      <th>Unfamiliar</th>\n",
       "      <td>15</td>\n",
       "      <td>6</td>\n",
       "      <td>8</td>\n",
       "      <td>52</td>\n",
       "      <td>17</td>\n",
       "      <td>156</td>\n",
       "      <td>10</td>\n",
       "      <td>148</td>\n",
       "      <td>132</td>\n",
       "      <td>15</td>\n",
       "      <td>10</td>\n",
       "      <td>109</td>\n",
       "      <td>164</td>\n",
       "      <td>10</td>\n",
       "    </tr>\n",
       "    <tr>\n",
       "      <th>4</th>\n",
       "      <td>8</td>\n",
       "      <td>13</td>\n",
       "      <td>12</td>\n",
       "      <td>83</td>\n",
       "      <td>8</td>\n",
       "      <td>68</td>\n",
       "      <td>102</td>\n",
       "      <td>63</td>\n",
       "      <td>96</td>\n",
       "      <td>23</td>\n",
       "      <td>10</td>\n",
       "      <td>102</td>\n",
       "      <td>58</td>\n",
       "      <td>8</td>\n",
       "    </tr>\n",
       "    <tr>\n",
       "      <th>5</th>\n",
       "      <td>1</td>\n",
       "      <td>3</td>\n",
       "      <td>6</td>\n",
       "      <td>39</td>\n",
       "      <td>7</td>\n",
       "      <td>124</td>\n",
       "      <td>149</td>\n",
       "      <td>8</td>\n",
       "      <td>45</td>\n",
       "      <td>7</td>\n",
       "      <td>6</td>\n",
       "      <td>204</td>\n",
       "      <td>34</td>\n",
       "      <td>8</td>\n",
       "    </tr>\n",
       "  </tbody>\n",
       "</table>\n",
       "</div>"
      ],
      "text/plain": [
       "            Han Solo  Luke Skywalker  Princess Leia Organa  Anakin Skywalker  \\\n",
       "1                610             552                   547               245   \n",
       "2                151             219                   210               269   \n",
       "3                 44              38                    48               135   \n",
       "Unfamiliar        15               6                     8                52   \n",
       "4                  8              13                    12                83   \n",
       "5                  1               3                     6                39   \n",
       "\n",
       "            Obi Wan Kenobi  Emperor Palpatine  Darth Vader  Lando Calrissian  \\\n",
       "1                      591                110          310               142   \n",
       "2                      159                143          171               223   \n",
       "3                       43                213           84               236   \n",
       "Unfamiliar              17                156           10               148   \n",
       "4                        8                 68          102                63   \n",
       "5                        7                124          149                 8   \n",
       "\n",
       "            Boba Fett  C-3P0  R2 D2  Jar Jar Binks  Padme Amidala  Yoda  \n",
       "1                 138    474    562            112            168   605  \n",
       "2                 153    229    185            130            183   144  \n",
       "3                 248     79     57            164            207    51  \n",
       "Unfamiliar        132     15     10            109            164    10  \n",
       "4                  96     23     10            102             58     8  \n",
       "5                  45      7      6            204             34     8  "
      ]
     },
     "metadata": {},
     "output_type": "display_data"
    },
    {
     "data": {
      "text/html": [
       "<pre style=\"white-space:pre;overflow-x:auto;line-height:normal;font-family:Menlo,'DejaVu Sans Mono',consolas,'Courier New',monospace\"><span style=\"font-weight: bold\">Count of each rating for every character</span>\n",
       "</pre>\n"
      ],
      "text/plain": [
       "\u001b[1mCount of each rating for every character\u001b[0m\n"
      ]
     },
     "metadata": {},
     "output_type": "display_data"
    },
    {
     "data": {
      "text/html": [
       "<div>\n",
       "<style scoped>\n",
       "    .dataframe tbody tr th:only-of-type {\n",
       "        vertical-align: middle;\n",
       "    }\n",
       "\n",
       "    .dataframe tbody tr th {\n",
       "        vertical-align: top;\n",
       "    }\n",
       "\n",
       "    .dataframe thead th {\n",
       "        text-align: right;\n",
       "    }\n",
       "</style>\n",
       "<table border=\"1\" class=\"dataframe\">\n",
       "  <thead>\n",
       "    <tr style=\"text-align: right;\">\n",
       "      <th></th>\n",
       "      <th>Unfamiliar</th>\n",
       "      <th>Familiar</th>\n",
       "      <th>% Unfamiliar</th>\n",
       "    </tr>\n",
       "  </thead>\n",
       "  <tbody>\n",
       "    <tr>\n",
       "      <th>Padme Amidala</th>\n",
       "      <td>164</td>\n",
       "      <td>650</td>\n",
       "      <td>20.15</td>\n",
       "    </tr>\n",
       "    <tr>\n",
       "      <th>Emperor Palpatine</th>\n",
       "      <td>156</td>\n",
       "      <td>658</td>\n",
       "      <td>19.16</td>\n",
       "    </tr>\n",
       "    <tr>\n",
       "      <th>Lando Calrissian</th>\n",
       "      <td>148</td>\n",
       "      <td>672</td>\n",
       "      <td>18.05</td>\n",
       "    </tr>\n",
       "    <tr>\n",
       "      <th>Boba Fett</th>\n",
       "      <td>132</td>\n",
       "      <td>680</td>\n",
       "      <td>16.26</td>\n",
       "    </tr>\n",
       "    <tr>\n",
       "      <th>Jar Jar Binks</th>\n",
       "      <td>109</td>\n",
       "      <td>712</td>\n",
       "      <td>13.28</td>\n",
       "    </tr>\n",
       "    <tr>\n",
       "      <th>Anakin Skywalker</th>\n",
       "      <td>52</td>\n",
       "      <td>771</td>\n",
       "      <td>6.32</td>\n",
       "    </tr>\n",
       "    <tr>\n",
       "      <th>Obi Wan Kenobi</th>\n",
       "      <td>17</td>\n",
       "      <td>808</td>\n",
       "      <td>2.06</td>\n",
       "    </tr>\n",
       "    <tr>\n",
       "      <th>Han Solo</th>\n",
       "      <td>15</td>\n",
       "      <td>814</td>\n",
       "      <td>1.81</td>\n",
       "    </tr>\n",
       "    <tr>\n",
       "      <th>C-3P0</th>\n",
       "      <td>15</td>\n",
       "      <td>812</td>\n",
       "      <td>1.81</td>\n",
       "    </tr>\n",
       "    <tr>\n",
       "      <th>Darth Vader</th>\n",
       "      <td>10</td>\n",
       "      <td>816</td>\n",
       "      <td>1.21</td>\n",
       "    </tr>\n",
       "    <tr>\n",
       "      <th>R2 D2</th>\n",
       "      <td>10</td>\n",
       "      <td>820</td>\n",
       "      <td>1.20</td>\n",
       "    </tr>\n",
       "    <tr>\n",
       "      <th>Yoda</th>\n",
       "      <td>10</td>\n",
       "      <td>816</td>\n",
       "      <td>1.21</td>\n",
       "    </tr>\n",
       "    <tr>\n",
       "      <th>Princess Leia Organa</th>\n",
       "      <td>8</td>\n",
       "      <td>823</td>\n",
       "      <td>0.96</td>\n",
       "    </tr>\n",
       "    <tr>\n",
       "      <th>Luke Skywalker</th>\n",
       "      <td>6</td>\n",
       "      <td>825</td>\n",
       "      <td>0.72</td>\n",
       "    </tr>\n",
       "  </tbody>\n",
       "</table>\n",
       "</div>"
      ],
      "text/plain": [
       "                      Unfamiliar  Familiar  % Unfamiliar\n",
       "Padme Amidala                164       650         20.15\n",
       "Emperor Palpatine            156       658         19.16\n",
       "Lando Calrissian             148       672         18.05\n",
       "Boba Fett                    132       680         16.26\n",
       "Jar Jar Binks                109       712         13.28\n",
       "Anakin Skywalker              52       771          6.32\n",
       "Obi Wan Kenobi                17       808          2.06\n",
       "Han Solo                      15       814          1.81\n",
       "C-3P0                         15       812          1.81\n",
       "Darth Vader                   10       816          1.21\n",
       "R2 D2                         10       820          1.20\n",
       "Yoda                          10       816          1.21\n",
       "Princess Leia Organa           8       823          0.96\n",
       "Luke Skywalker                 6       825          0.72"
      ]
     },
     "metadata": {},
     "output_type": "display_data"
    }
   ],
   "source": [
    "# get count of each response in every character column\n",
    "char_count = star_wars.iloc[:, 15:29].apply(pd.value_counts)\n",
    "\n",
    "print(\"[bold]Count of each rating for every character[/bold]\")\n",
    "display(char_count)\n",
    "\n",
    "# separate counts into two series - familiar and unfamiliar\n",
    "unfamiliar = char_count.loc[\"Unfamiliar\"].sort_values(ascending=False) # isolate 'Unfamiliar' row from char_count\n",
    "familiar = (char_count.loc[char_count.index != \"Unfamiliar\"]\n",
    "                                                            .sum() # aggregate all other rows in char_count\n",
    "                                                            .rename(\"Familiar\") # give a name to new series\n",
    "           )\n",
    "\n",
    "# combine both series objects into one df\n",
    "familiarity = pd.concat([unfamiliar, familiar], axis=1)\n",
    "\n",
    "# calculate percentage of respondents who are unfamiliar\n",
    "familiarity[\"% Unfamiliar\"] = round((familiarity[\"Unfamiliar\"] / familiarity.sum(axis=1)) * 100, 2)\n",
    "\n",
    "# show resulting df\n",
    "print(\"[bold]Count of each rating for every character[/bold]\")\n",
    "display(familiarity)"
   ]
  },
  {
   "cell_type": "code",
   "execution_count": 30,
   "metadata": {},
   "outputs": [
    {
     "data": {
      "image/png": "[encoded data removed]",
      "text/plain": [
       "<Figure size 576x720 with 1 Axes>"
      ]
     },
     "metadata": {},
     "output_type": "display_data"
    }
   ],
   "source": [
    "# plot mean ratings\n",
    "fig, ax = plt.subplots(figsize=(8,10))\n",
    "\n",
    "sort_fam = familiarity.sort_values(\"% Unfamiliar\", ascending=True)\n",
    "\n",
    "ax = sns.stripplot(data=sort_fam, \n",
    "                   x=\"% Unfamiliar\", y=sort_fam.index,\n",
    "                   size=13, palette=\"flare_r\")\n",
    "\n",
    "ax.yaxis.grid(True) # add y-axis grid lines\n",
    "ax.set(xlim=(0, 25)) # set x-axis to span the entire range of ranks\n",
    "\n",
    "ax.set_xlabel(\"% of respondents unfamiliar with character\")\n",
    "ax.set_title(\"Unfamiliarity with Star Wars characters\", fontsize=20)\n",
    "\n",
    "plt.show()"
   ]
  },
  {
   "cell_type": "markdown",
   "metadata": {},
   "source": [
    "We can see that among our survey population, `Padme Amidala` was the most unfamiliar character in the Star Wars films with `20%` of respondents not recognising her. A possible reason could be that she only appears in the prequel films (recall from earlier that fewer respondents have seen episodes I-III) but perhaps people may just be less familiar with the name Padme and more familiar with her title as Queen Amidala. Name familiarity may also explain why `Emperor Palpatine` is the second most unfamiliar character, not being recognised by `19%` of respondents, despite playing a prominent role in both trilogies. In the original trilogy, he is known as 'Darth Sidious' or 'The Emperor', his surname 'Palpatine' is not revealed until later films.\n",
    "\n",
    "Conversely, `Luke Skywalker` was the most familiar character, with less than `1%` of respondents claiming to not be familiar with the character. Not surprising really given he is the main protagonist in the original films."
   ]
  },
  {
   "cell_type": "markdown",
   "metadata": {},
   "source": [
    "#### Character rating\n",
    "\n",
    "Now let's try and identify which character was rated the highest in terms of favourability. To do this, we will need to calculate the the average favourability rating for each character."
   ]
  },
  {
   "cell_type": "code",
   "execution_count": 31,
   "metadata": {},
   "outputs": [
    {
     "data": {
      "image/png": "[encoded data removed]",
      "text/plain": [
       "<Figure size 576x720 with 1 Axes>"
      ]
     },
     "metadata": {},
     "output_type": "display_data"
    }
   ],
   "source": [
    "# get mean rating for each character\n",
    "char_rating = star_wars.iloc[:, 15:29]\n",
    "char_rating.replace({'Unfamiliar':np.nan}, inplace=True)\n",
    "char_mean_rating = (char_rating.agg(np.mean).to_frame()\n",
    "                                            .reset_index()\n",
    "                                            .rename(columns={\"index\": \"Character\", 0: \"Rating\"})\n",
    "                   )\n",
    "\n",
    "# plot mean ratings\n",
    "fig, ax = plt.subplots(figsize=(8,10))\n",
    "\n",
    "ax = sns.stripplot(data=char_mean_rating.sort_values(\"Rating\", ascending=True), \n",
    "                   x=\"Rating\", y=\"Character\",\n",
    "                   size=13, palette=\"flare_r\")\n",
    "\n",
    "ax.yaxis.grid(True) # add y-axis grid lines\n",
    "ax.set(xlim=(1, 5)) # set x-axis to span the entire range of ranks\n",
    "\n",
    "ax.set_xlabel(\"Mean favourability score\", fontsize=15)\n",
    "ax.set_ylabel(\"\")\n",
    "ax.set_title(\"Average favourability score of various Star Wars characters\", fontsize=20)\n",
    "\n",
    "plt.show()"
   ]
  },
  {
   "cell_type": "markdown",
   "metadata": {},
   "source": [
    "Our dot plot reveals that, on average, `Han Solo` is most favourable character in the Star Wars films, followed closely by Jedi masters `Obi Wan Kenobi` and `Yoda`.\n",
    "\n",
    "Unsurprisingly, the [controversial character `Jar Jar Binks`](https://en.wikipedia.org/wiki/Jar_Jar_Binks#Reception) has the lowest average favourabiity score.\n",
    "\n",
    "It's interesting that all of the characters in the top half of the favourability scores are generally portrayed as 'good', whereas `57%` of the characters in the bottom half are 'villains'. Perhaps people have a bias towards morally good characters."
   ]
  },
  {
   "cell_type": "markdown",
   "metadata": {},
   "source": [
    "#### Character rating by demographic\n",
    "\n",
    "Lets have a deeper look into `Han Solo` and `Jar Jar Binks` and see if there is any variation in favourability ratings by age group. While we would expect `Han Solo` to be favoured by all, perhaps the older generations will be even more fond of the character since they were around at the time of release for the original triology. Additionally, we could expect `Jar Jar Binks` to be favoured more by the younger respondents, who would of been children at the time of release of the prequel trilogy and would perhaps be more receptive to the character's goofy antics than the older generations.\n",
    "\n",
    "To make the data easier to digest, we'll convert the **five** numerical character favourability ratings into **three** text categories, `Positive`, `Neutral`, and `Negative`."
   ]
  },
  {
   "cell_type": "code",
   "execution_count": 32,
   "metadata": {},
   "outputs": [
    {
     "data": {
      "image/png": "[encoded data removed]",
      "text/plain": [
       "<Figure size 1080x504 with 1 Axes>"
      ]
     },
     "metadata": {},
     "output_type": "display_data"
    },
    {
     "data": {
      "image/png": "[encoded data removed]",
      "text/plain": [
       "<Figure size 1080x504 with 1 Axes>"
      ]
     },
     "metadata": {},
     "output_type": "display_data"
    }
   ],
   "source": [
    "# create subset of character favourability ratings along with age and gender columns\n",
    "fav_char = star_wars[[\"Han Solo\", \"Jar Jar Binks\", \"Age\", \"Gender\"]].copy()\n",
    "\n",
    "# convert 5-point numerical rating into 3-point rating with text categories\n",
    "replace_vals = fav_char[[\"Han Solo\", \"Jar Jar Binks\"]].replace(\n",
    "                                                              {'Unfamiliar':np.nan, \n",
    "                                                              1.0:\"Positive\", \n",
    "                                                              2.0:\"Positive\", \n",
    "                                                              3.0:\"Neutral\", \n",
    "                                                              4.0:\"Negative\", \n",
    "                                                              5.0:\"Negative\"}\n",
    "                                                              )\n",
    "\n",
    "# since our rating system is now string-based, we'll make use of Panda's categorical dtype\n",
    "# so that we can create a logical order for our values and improve the presentation of the plots\n",
    "from pandas.api.types import CategoricalDtype\n",
    "cat_type = CategoricalDtype(categories=[\"Positive\", \"Neutral\", \"Negative\"], ordered=True)\n",
    "apply_cats = replace_vals.astype(cat_type)\n",
    "\n",
    "# update rating columns with new categorical dtypes\n",
    "fav_char[[\"Han Solo\", \"Jar Jar Binks\"]] = apply_cats\n",
    "\n",
    "# group the character ratings by age\n",
    "age_fav_char = fav_char.groupby([\"Age\"])\n",
    "\n",
    "# get percentage of each rating for each character, it's necessary to use unstack() here to\n",
    "# pivot the rating values into columns so our bar plots look nice\n",
    "han_fav = age_fav_char[\"Han Solo\"].value_counts(normalize=True).unstack()\n",
    "jar_fav = age_fav_char[\"Jar Jar Binks\"].value_counts(normalize=True).unstack()\n",
    "\n",
    "# function to setup bar plot with desired styling\n",
    "def plot_fav_bar(df, title):\n",
    "    ax = df.plot.bar(figsize=(15,7), \n",
    "                     color={\"Positive\": \"#5f9e6e\", \"Neutral\": \"Grey\", \"Negative\": \"#b55d60\"},\n",
    "                     rot=0,\n",
    "                     ylim=(0,1),\n",
    "                     title=title,\n",
    "                     ylabel=\"Percentage\",\n",
    "                     xlabel=\"\")\n",
    "    plt.show()\n",
    "    \n",
    "# create bar plots\n",
    "plot_fav_bar(han_fav, \"Favourability of Han Solo by age group\")    \n",
    "plot_fav_bar(jar_fav, \"Favourability of Jar Jar Binks by age group\")"
   ]
  },
  {
   "cell_type": "markdown",
   "metadata": {},
   "source": [
    "The plots show us that `Han Solo` is universally favoured across all age groups, with very few individuals viewing the character in a neutral or negative light. `Jar Jar Binks` is much more polarised, it is clear that, and counter to our expectations, the younger generations are much more hostile towards the character, while the older generations are more tolerant. In fact, the **majority** of respondents aged `>60` *actually* view `Jar Jar Binks` positively!"
   ]
  },
  {
   "cell_type": "markdown",
   "metadata": {},
   "source": [
    "It's probably safe to assume that `Han Solo` is universally loved by all, no matter the demographic. However, `Jar Jar Binks` is clearly polarising among respondents, so let's see if there's any difference in favourability by `Gender` for the character."
   ]
  },
  {
   "cell_type": "code",
   "execution_count": 33,
   "metadata": {},
   "outputs": [
    {
     "data": {
      "image/png": "[encoded data removed]",
      "text/plain": [
       "<Figure size 1080x504 with 1 Axes>"
      ]
     },
     "metadata": {},
     "output_type": "display_data"
    }
   ],
   "source": [
    "# group the character ratings by age\n",
    "fav_gen = fav_char.groupby([\"Gender\"])\n",
    "\n",
    "# get percentage of each rating for each character, it's necessary to use unstack() here to\n",
    "# pivot the rating values into columns so our bar plots look nice\n",
    "jar_fav = fav_gen[\"Jar Jar Binks\"].value_counts(normalize=True).unstack()\n",
    "\n",
    "# create bar plots\n",
    "plot_fav_bar(jar_fav, \"Favourability of Jar Jar Binks by gender\")"
   ]
  },
  {
   "cell_type": "markdown",
   "metadata": {},
   "source": [
    "Male respondents maintain the general dislike of `Jar Jar Binks`, however, the majority of female respondents (`40%`) actually enjoy the character, compared with `35%` who didn't like the character, and `25%` who felt neutral."
   ]
  },
  {
   "cell_type": "markdown",
   "metadata": {},
   "source": [
    "### Which US subregion has the highest ratio of Star Wars fans to non-fans?\n",
    "The survey data includes the location of each respondent in the United States by subregion. Let's take a look at each subregion and identify how many respondents are from each area."
   ]
  },
  {
   "cell_type": "code",
   "execution_count": 34,
   "metadata": {},
   "outputs": [
    {
     "data": {
      "text/plain": [
       "East North Central    181\n",
       "Pacific               175\n",
       "South Atlantic        170\n",
       "Middle Atlantic       122\n",
       "West South Central    110\n",
       "West North Central     93\n",
       "Mountain               79\n",
       "New England            75\n",
       "East South Central     38\n",
       "Name: Location (Census Region), dtype: int64"
      ]
     },
     "execution_count": 34,
     "metadata": {},
     "output_type": "execute_result"
    }
   ],
   "source": [
    "# get respondent count of each subregion\n",
    "star_wars.iloc[:, 37].value_counts()"
   ]
  },
  {
   "cell_type": "markdown",
   "metadata": {},
   "source": [
    "Most respondents are from states in the `East North Central` subregion, interestingly, `East South Central` had the fewest number of respondents, though this is likely related to general population figures."
   ]
  },
  {
   "cell_type": "markdown",
   "metadata": {},
   "source": [
    "#### Plotting a geographic map with geopandas\n",
    "We can use the `geopandas` library to read in a shapefile of the United States. The shapefile contains geometric boundary data for each state which can be used to plot a map of the USA."
   ]
  },
  {
   "cell_type": "code",
   "execution_count": 35,
   "metadata": {},
   "outputs": [
    {
     "data": {
      "text/html": [
       "<div>\n",
       "<style scoped>\n",
       "    .dataframe tbody tr th:only-of-type {\n",
       "        vertical-align: middle;\n",
       "    }\n",
       "\n",
       "    .dataframe tbody tr th {\n",
       "        vertical-align: top;\n",
       "    }\n",
       "\n",
       "    .dataframe thead th {\n",
       "        text-align: right;\n",
       "    }\n",
       "</style>\n",
       "<table border=\"1\" class=\"dataframe\">\n",
       "  <thead>\n",
       "    <tr style=\"text-align: right;\">\n",
       "      <th></th>\n",
       "      <th>drawseq</th>\n",
       "      <th>state_abbr</th>\n",
       "      <th>state_fips</th>\n",
       "      <th>state_name</th>\n",
       "      <th>sub_region</th>\n",
       "      <th>geometry</th>\n",
       "    </tr>\n",
       "  </thead>\n",
       "  <tbody>\n",
       "    <tr>\n",
       "      <th>0</th>\n",
       "      <td>NaN</td>\n",
       "      <td>HI</td>\n",
       "      <td>15</td>\n",
       "      <td>Hawaii</td>\n",
       "      <td>Pacific</td>\n",
       "      <td>MULTIPOLYGON (((-160.07380 22.00418, -160.0497...</td>\n",
       "    </tr>\n",
       "    <tr>\n",
       "      <th>1</th>\n",
       "      <td>NaN</td>\n",
       "      <td>WA</td>\n",
       "      <td>53</td>\n",
       "      <td>Washington</td>\n",
       "      <td>Pacific</td>\n",
       "      <td>MULTIPOLYGON (((-122.40202 48.22522, -122.4628...</td>\n",
       "    </tr>\n",
       "    <tr>\n",
       "      <th>2</th>\n",
       "      <td>NaN</td>\n",
       "      <td>MT</td>\n",
       "      <td>30</td>\n",
       "      <td>Montana</td>\n",
       "      <td>Mountain</td>\n",
       "      <td>POLYGON ((-111.47543 44.70216, -111.48080 44.6...</td>\n",
       "    </tr>\n",
       "    <tr>\n",
       "      <th>3</th>\n",
       "      <td>NaN</td>\n",
       "      <td>ME</td>\n",
       "      <td>23</td>\n",
       "      <td>Maine</td>\n",
       "      <td>New England</td>\n",
       "      <td>MULTIPOLYGON (((-69.77728 44.07415, -69.85993 ...</td>\n",
       "    </tr>\n",
       "    <tr>\n",
       "      <th>4</th>\n",
       "      <td>NaN</td>\n",
       "      <td>ND</td>\n",
       "      <td>38</td>\n",
       "      <td>North Dakota</td>\n",
       "      <td>West North Central</td>\n",
       "      <td>POLYGON ((-98.73044 45.93827, -99.00683 45.939...</td>\n",
       "    </tr>\n",
       "  </tbody>\n",
       "</table>\n",
       "</div>"
      ],
      "text/plain": [
       "   drawseq state_abbr state_fips    state_name          sub_region  \\\n",
       "0      NaN         HI         15        Hawaii             Pacific   \n",
       "1      NaN         WA         53    Washington             Pacific   \n",
       "2      NaN         MT         30       Montana            Mountain   \n",
       "3      NaN         ME         23         Maine         New England   \n",
       "4      NaN         ND         38  North Dakota  West North Central   \n",
       "\n",
       "                                            geometry  \n",
       "0  MULTIPOLYGON (((-160.07380 22.00418, -160.0497...  \n",
       "1  MULTIPOLYGON (((-122.40202 48.22522, -122.4628...  \n",
       "2  POLYGON ((-111.47543 44.70216, -111.48080 44.6...  \n",
       "3  MULTIPOLYGON (((-69.77728 44.07415, -69.85993 ...  \n",
       "4  POLYGON ((-98.73044 45.93827, -99.00683 45.939...  "
      ]
     },
     "execution_count": 35,
     "metadata": {},
     "output_type": "execute_result"
    }
   ],
   "source": [
    "# import necessary libraries\n",
    "import geopandas as gpd\n",
    "from shapely.geometry import Point, Polygon\n",
    "\n",
    "# read in shapefile of USA to geopandas\n",
    "usa = gpd.read_file('./maps/states_21basic/states.shp')\n",
    "\n",
    "usa.head()"
   ]
  },
  {
   "cell_type": "markdown",
   "metadata": {},
   "source": [
    "We can see our `usa` geodataframe contains the boundary data for each state, stored as a polygon in the `geometry` column. Importantly, each state is assigned to a `sub_region`, let's familarise ourselves with the subregions of the USA."
   ]
  },
  {
   "cell_type": "code",
   "execution_count": 36,
   "metadata": {
    "scrolled": false
   },
   "outputs": [
    {
     "data": {
      "image/png": "[encoded data removed]",
      "text/plain": [
       "<Figure size 1008x1008 with 1 Axes>"
      ]
     },
     "metadata": {},
     "output_type": "display_data"
    }
   ],
   "source": [
    "## plot map of US subregions ##\n",
    "\n",
    "# exclude Alaska and Hawaii as they are too far away and make the mainland appear small (sorry!)\n",
    "main_states = usa[(usa[\"state_abbr\"] != \"HI\") & (usa[\"state_abbr\"] != \"AK\")]\n",
    "\n",
    "fig, ax = plt.subplots(figsize=(14,14))\n",
    "\n",
    "main_states.plot(ax=ax,\n",
    "                 alpha=.5, # mute colours with transparency so they're less intense\n",
    "                 column=\"sub_region\", \n",
    "                 edgecolor=\"white\", \n",
    "                 linewidth=1, \n",
    "                 legend=True,\n",
    "                 legend_kwds={'loc': 'lower right'})\n",
    "\n",
    "plt.title(\"United States subregions\")\n",
    "\n",
    "plt.show()"
   ]
  },
  {
   "cell_type": "markdown",
   "metadata": {},
   "source": [
    "**Note**: Alaska and Hawaii are part of the `Pacific` subregion but have been removed from this map to make it easier to view the mainland.\n",
    "\n",
    "Now that we have a good idea of where each subregion is, let's identify what percentage of respondents from each subregion identify as 'fans' of Star Wars. First, we need to combine our Star Wars survey data with our geodataframe, `main_states`.\n",
    "\n",
    "#### Merge Star Wars survey data with shapefile data"
   ]
  },
  {
   "cell_type": "code",
   "execution_count": 37,
   "metadata": {},
   "outputs": [
    {
     "data": {
      "text/html": [
       "<pre style=\"white-space:pre;overflow-x:auto;line-height:normal;font-family:Menlo,'DejaVu Sans Mono',consolas,'Courier New',monospace\">First <span style=\"color: #008080; text-decoration-color: #008080; font-weight: bold\">15</span> rows\n",
       "</pre>\n"
      ],
      "text/plain": [
       "First \u001b[1;36m15\u001b[0m rows\n"
      ]
     },
     "metadata": {},
     "output_type": "display_data"
    },
    {
     "data": {
      "text/html": [
       "<div>\n",
       "<style scoped>\n",
       "    .dataframe tbody tr th:only-of-type {\n",
       "        vertical-align: middle;\n",
       "    }\n",
       "\n",
       "    .dataframe tbody tr th {\n",
       "        vertical-align: top;\n",
       "    }\n",
       "\n",
       "    .dataframe thead th {\n",
       "        text-align: right;\n",
       "    }\n",
       "</style>\n",
       "<table border=\"1\" class=\"dataframe\">\n",
       "  <thead>\n",
       "    <tr style=\"text-align: right;\">\n",
       "      <th></th>\n",
       "      <th>sub_region</th>\n",
       "      <th>non_fan</th>\n",
       "      <th>fan</th>\n",
       "      <th>drawseq</th>\n",
       "      <th>state_abbr</th>\n",
       "      <th>state_fips</th>\n",
       "      <th>state_name</th>\n",
       "      <th>geometry</th>\n",
       "      <th>_merge</th>\n",
       "    </tr>\n",
       "  </thead>\n",
       "  <tbody>\n",
       "    <tr>\n",
       "      <th>0</th>\n",
       "      <td>East North Central</td>\n",
       "      <td>0.373134</td>\n",
       "      <td>0.626866</td>\n",
       "      <td>NaN</td>\n",
       "      <td>WI</td>\n",
       "      <td>55</td>\n",
       "      <td>Wisconsin</td>\n",
       "      <td>MULTIPOLYGON (((-87.74856 44.96162, -87.83999 ...</td>\n",
       "      <td>both</td>\n",
       "    </tr>\n",
       "    <tr>\n",
       "      <th>1</th>\n",
       "      <td>East North Central</td>\n",
       "      <td>0.373134</td>\n",
       "      <td>0.626866</td>\n",
       "      <td>22.0</td>\n",
       "      <td>IN</td>\n",
       "      <td>18</td>\n",
       "      <td>Indiana</td>\n",
       "      <td>POLYGON ((-86.34161 38.17729, -86.36435 38.193...</td>\n",
       "      <td>both</td>\n",
       "    </tr>\n",
       "    <tr>\n",
       "      <th>2</th>\n",
       "      <td>East North Central</td>\n",
       "      <td>0.373134</td>\n",
       "      <td>0.626866</td>\n",
       "      <td>26.0</td>\n",
       "      <td>OH</td>\n",
       "      <td>39</td>\n",
       "      <td>Ohio</td>\n",
       "      <td>POLYGON ((-83.27276 38.60926, -83.29004 38.596...</td>\n",
       "      <td>both</td>\n",
       "    </tr>\n",
       "    <tr>\n",
       "      <th>3</th>\n",
       "      <td>East North Central</td>\n",
       "      <td>0.373134</td>\n",
       "      <td>0.626866</td>\n",
       "      <td>27.0</td>\n",
       "      <td>IL</td>\n",
       "      <td>17</td>\n",
       "      <td>Illinois</td>\n",
       "      <td>POLYGON ((-88.07159 37.51104, -88.08791 37.476...</td>\n",
       "      <td>both</td>\n",
       "    </tr>\n",
       "    <tr>\n",
       "      <th>4</th>\n",
       "      <td>East North Central</td>\n",
       "      <td>0.373134</td>\n",
       "      <td>0.626866</td>\n",
       "      <td>50.0</td>\n",
       "      <td>MI</td>\n",
       "      <td>26</td>\n",
       "      <td>Michigan</td>\n",
       "      <td>MULTIPOLYGON (((-88.49753 48.17380, -88.62533 ...</td>\n",
       "      <td>both</td>\n",
       "    </tr>\n",
       "    <tr>\n",
       "      <th>5</th>\n",
       "      <td>East South Central</td>\n",
       "      <td>0.375000</td>\n",
       "      <td>0.625000</td>\n",
       "      <td>33.0</td>\n",
       "      <td>KY</td>\n",
       "      <td>21</td>\n",
       "      <td>Kentucky</td>\n",
       "      <td>MULTIPOLYGON (((-86.51067 36.65507, -86.77054 ...</td>\n",
       "      <td>both</td>\n",
       "    </tr>\n",
       "    <tr>\n",
       "      <th>6</th>\n",
       "      <td>East South Central</td>\n",
       "      <td>0.375000</td>\n",
       "      <td>0.625000</td>\n",
       "      <td>40.0</td>\n",
       "      <td>TN</td>\n",
       "      <td>47</td>\n",
       "      <td>Tennessee</td>\n",
       "      <td>POLYGON ((-83.95461 35.45554, -84.01256 35.407...</td>\n",
       "      <td>both</td>\n",
       "    </tr>\n",
       "    <tr>\n",
       "      <th>7</th>\n",
       "      <td>East South Central</td>\n",
       "      <td>0.375000</td>\n",
       "      <td>0.625000</td>\n",
       "      <td>43.0</td>\n",
       "      <td>AL</td>\n",
       "      <td>01</td>\n",
       "      <td>Alabama</td>\n",
       "      <td>POLYGON ((-85.07007 31.98070, -85.11515 31.907...</td>\n",
       "      <td>both</td>\n",
       "    </tr>\n",
       "    <tr>\n",
       "      <th>8</th>\n",
       "      <td>East South Central</td>\n",
       "      <td>0.375000</td>\n",
       "      <td>0.625000</td>\n",
       "      <td>44.0</td>\n",
       "      <td>MS</td>\n",
       "      <td>28</td>\n",
       "      <td>Mississippi</td>\n",
       "      <td>POLYGON ((-88.45080 31.43562, -88.43456 31.120...</td>\n",
       "      <td>both</td>\n",
       "    </tr>\n",
       "    <tr>\n",
       "      <th>9</th>\n",
       "      <td>Middle Atlantic</td>\n",
       "      <td>0.311828</td>\n",
       "      <td>0.688172</td>\n",
       "      <td>18.0</td>\n",
       "      <td>PA</td>\n",
       "      <td>42</td>\n",
       "      <td>Pennsylvania</td>\n",
       "      <td>POLYGON ((-77.47579 39.71962, -78.09595 39.725...</td>\n",
       "      <td>both</td>\n",
       "    </tr>\n",
       "    <tr>\n",
       "      <th>10</th>\n",
       "      <td>Middle Atlantic</td>\n",
       "      <td>0.311828</td>\n",
       "      <td>0.688172</td>\n",
       "      <td>17.0</td>\n",
       "      <td>NY</td>\n",
       "      <td>36</td>\n",
       "      <td>New York</td>\n",
       "      <td>MULTIPOLYGON (((-79.76324 42.26733, -79.44402 ...</td>\n",
       "      <td>both</td>\n",
       "    </tr>\n",
       "    <tr>\n",
       "      <th>11</th>\n",
       "      <td>Middle Atlantic</td>\n",
       "      <td>0.311828</td>\n",
       "      <td>0.688172</td>\n",
       "      <td>21.0</td>\n",
       "      <td>NJ</td>\n",
       "      <td>34</td>\n",
       "      <td>New Jersey</td>\n",
       "      <td>POLYGON ((-75.48928 39.71486, -75.47597 39.720...</td>\n",
       "      <td>both</td>\n",
       "    </tr>\n",
       "    <tr>\n",
       "      <th>12</th>\n",
       "      <td>Mountain</td>\n",
       "      <td>0.279412</td>\n",
       "      <td>0.720588</td>\n",
       "      <td>NaN</td>\n",
       "      <td>MT</td>\n",
       "      <td>30</td>\n",
       "      <td>Montana</td>\n",
       "      <td>POLYGON ((-111.47543 44.70216, -111.48080 44.6...</td>\n",
       "      <td>both</td>\n",
       "    </tr>\n",
       "    <tr>\n",
       "      <th>13</th>\n",
       "      <td>Mountain</td>\n",
       "      <td>0.279412</td>\n",
       "      <td>0.720588</td>\n",
       "      <td>NaN</td>\n",
       "      <td>WY</td>\n",
       "      <td>56</td>\n",
       "      <td>Wyoming</td>\n",
       "      <td>POLYGON ((-104.05362 41.69822, -104.05550 41.5...</td>\n",
       "      <td>both</td>\n",
       "    </tr>\n",
       "    <tr>\n",
       "      <th>14</th>\n",
       "      <td>Mountain</td>\n",
       "      <td>0.279412</td>\n",
       "      <td>0.720588</td>\n",
       "      <td>NaN</td>\n",
       "      <td>ID</td>\n",
       "      <td>16</td>\n",
       "      <td>Idaho</td>\n",
       "      <td>POLYGON ((-117.02630 43.67903, -117.02379 43.7...</td>\n",
       "      <td>both</td>\n",
       "    </tr>\n",
       "  </tbody>\n",
       "</table>\n",
       "</div>"
      ],
      "text/plain": [
       "            sub_region   non_fan       fan  drawseq state_abbr state_fips  \\\n",
       "0   East North Central  0.373134  0.626866      NaN         WI         55   \n",
       "1   East North Central  0.373134  0.626866     22.0         IN         18   \n",
       "2   East North Central  0.373134  0.626866     26.0         OH         39   \n",
       "3   East North Central  0.373134  0.626866     27.0         IL         17   \n",
       "4   East North Central  0.373134  0.626866     50.0         MI         26   \n",
       "5   East South Central  0.375000  0.625000     33.0         KY         21   \n",
       "6   East South Central  0.375000  0.625000     40.0         TN         47   \n",
       "7   East South Central  0.375000  0.625000     43.0         AL         01   \n",
       "8   East South Central  0.375000  0.625000     44.0         MS         28   \n",
       "9      Middle Atlantic  0.311828  0.688172     18.0         PA         42   \n",
       "10     Middle Atlantic  0.311828  0.688172     17.0         NY         36   \n",
       "11     Middle Atlantic  0.311828  0.688172     21.0         NJ         34   \n",
       "12            Mountain  0.279412  0.720588      NaN         MT         30   \n",
       "13            Mountain  0.279412  0.720588      NaN         WY         56   \n",
       "14            Mountain  0.279412  0.720588      NaN         ID         16   \n",
       "\n",
       "      state_name                                           geometry _merge  \n",
       "0      Wisconsin  MULTIPOLYGON (((-87.74856 44.96162, -87.83999 ...   both  \n",
       "1        Indiana  POLYGON ((-86.34161 38.17729, -86.36435 38.193...   both  \n",
       "2           Ohio  POLYGON ((-83.27276 38.60926, -83.29004 38.596...   both  \n",
       "3       Illinois  POLYGON ((-88.07159 37.51104, -88.08791 37.476...   both  \n",
       "4       Michigan  MULTIPOLYGON (((-88.49753 48.17380, -88.62533 ...   both  \n",
       "5       Kentucky  MULTIPOLYGON (((-86.51067 36.65507, -86.77054 ...   both  \n",
       "6      Tennessee  POLYGON ((-83.95461 35.45554, -84.01256 35.407...   both  \n",
       "7        Alabama  POLYGON ((-85.07007 31.98070, -85.11515 31.907...   both  \n",
       "8    Mississippi  POLYGON ((-88.45080 31.43562, -88.43456 31.120...   both  \n",
       "9   Pennsylvania  POLYGON ((-77.47579 39.71962, -78.09595 39.725...   both  \n",
       "10      New York  MULTIPOLYGON (((-79.76324 42.26733, -79.44402 ...   both  \n",
       "11    New Jersey  POLYGON ((-75.48928 39.71486, -75.47597 39.720...   both  \n",
       "12       Montana  POLYGON ((-111.47543 44.70216, -111.48080 44.6...   both  \n",
       "13       Wyoming  POLYGON ((-104.05362 41.69822, -104.05550 41.5...   both  \n",
       "14         Idaho  POLYGON ((-117.02630 43.67903, -117.02379 43.7...   both  "
      ]
     },
     "execution_count": 37,
     "metadata": {},
     "output_type": "execute_result"
    }
   ],
   "source": [
    "# get columns pertaining to fan status and location from survey dataset\n",
    "fan_loc = star_wars.iloc[:, [2,37]].copy()\n",
    "\n",
    "# rename columns for easier manipulation\n",
    "fan_loc = fan_loc.rename(columns={\"Do you consider yourself to be a fan of the Star Wars film franchise?\": \"fan\",\n",
    "                                    \"Location (Census Region)\": \"sub_region\"})\n",
    "\n",
    "# group fans by sub_region and aggregate by percentage of fans to non-fans in each region\n",
    "fan_loc_per = fan_loc.groupby(\"sub_region\")[\"fan\"].value_counts(normalize=True).unstack().reset_index()\n",
    "\n",
    "# remove redundant index name\n",
    "fan_loc_per = fan_loc_per.rename_axis(None, axis=1)\n",
    "\n",
    "# rename columns\n",
    "fan_loc_per = fan_loc_per.rename(columns={False: \"non_fan\", True: \"fan\"})\n",
    "\n",
    "# merge star wars fan data with geodataframe taken from the shapefile using 'sub_region' as the key\n",
    "geo_fans = pd.merge(fan_loc_per, main_states, on=\"sub_region\", indicator=True)\n",
    "\n",
    "# note - given that we do not have the granularity down to the state-level in our Star Wars dataset, we would ideally\n",
    "# use a shapefile containing geometry for the sub-regions themselves, rather than individiaul states\n",
    "# however this has been hard to source\n",
    "print(\"First 15 rows\")\n",
    "geo_fans.head(15)"
   ]
  },
  {
   "cell_type": "markdown",
   "metadata": {},
   "source": [
    "#### Plot choropleth map of fan percentage"
   ]
  },
  {
   "cell_type": "code",
   "execution_count": 38,
   "metadata": {},
   "outputs": [
    {
     "data": {
      "image/png": "[encoded data removed]",
      "text/plain": [
       "<Figure size 1080x1080 with 2 Axes>"
      ]
     },
     "metadata": {},
     "output_type": "display_data"
    }
   ],
   "source": [
    "# need to set the 'active geometry' on our pandas dataframe to get a geopandas geodataframe\n",
    "geo_fans = geo_fans.set_geometry(\"geometry\")\n",
    "\n",
    "fig, ax = plt.subplots(figsize=(15,15))\n",
    "\n",
    "# split ax so we can plot the legend on the new axes\n",
    "from mpl_toolkits.axes_grid1 import make_axes_locatable\n",
    "divider = make_axes_locatable(ax) # divide the axes labelled 'ax'\n",
    "cax = divider.append_axes(\"right\", size=\"5%\", pad=0.1) # append a new axes at same height as oriignal axes\n",
    "\n",
    "# plot cholorepleth map of USA by subregions \n",
    "geo_fans.plot(column=\"fan\", \n",
    "              ax=ax,\n",
    "              legend=True, \n",
    "              cmap=\"flare\", \n",
    "              cax=cax, # cax param is the axes on which to draw the legend when using a color map\n",
    "              #legend_kwds={\"title\":\"yo\"}\n",
    "             )\n",
    "\n",
    "ax.set_title(\"Percentage of respondents identifying as a Star Wars fan by US subregion\")\n",
    "\n",
    "plt.show()"
   ]
  },
  {
   "cell_type": "markdown",
   "metadata": {},
   "source": [
    "We can see that the `Mountain` and `New England` subregions have among the strongest ratios of fans to non- Star Wars fans. Over `70%` of the respondents in these two subregions identified as a fan of Star Wars. Conversely, the `Pacific` subregion has the lowest percentage of respondents who considered themselves a fan."
   ]
  },
  {
   "cell_type": "markdown",
   "metadata": {},
   "source": [
    "## Conclusion\n",
    "[Back to top](#Using-the-force-to-analyse-a-Star-Wars-survey)\n",
    "\n",
    "### General\n",
    "- `1187` total responses to the survey\n",
    "- On average, `Episode V` is ranked the highest, while `Episode III` is ranked the lowest\n",
    "- `Episode V` has been watched by the greatest number of respondents (`758` out of `1187`)\n",
    "- `Episode III` has been watched by the fewest number of respondents (`550` out of `1187`)\n",
    "\n",
    "### Seen all films segment\n",
    "- Only `40%` of respondents have seen all the Star Wars films (`471` out of `1187`)\n",
    "- The `seen_all` cohort film rankings generally reflects that of the total survey population, with a couple of differences:\n",
    "    - film rankings by the `seen_all` cohort are more extreme than of `total_pop` - the original trilogy is viewed even more favourably, and the prequel trilogy is considered even less appealing\n",
    "    - the `seen_all` cohort actually ranks `Episode II` the lowest of all films\n",
    "\n",
    "### Gender\n",
    "- There is roughly a 50:50 split between `Male` and `Female` respondents, with slightly more females\n",
    "- Males are more likely to identify as a fan of Star Wars than females (`72%` of `Male` respondents are a fan of Star Wars, compared with `60%` of `Female` respondents)\n",
    "- `Male` respondents typically have seen more Star Wars films than `Female` respondents\n",
    "- `Male` respondents judge the first two films of the Star Wars prequel trilogy more harshly compared with females, while `Female` respondents view all the other films in the series more negatively than males.\n",
    "\n",
    "### Which character shot first?\n",
    "- By a slight majority, most respondents believe that Han shot first, though a near equal number of respondents did not understand the question at all, while a clear minority of respondents answered `Greedo`\n",
    "- While we expected a greater proportion of respondents in the youngest age group (`18-29`) to answer `Greedo` when compared with other age groups, this was not the case. In fact, `30-44` year olds had the greatest representation of `Greedo` voters.\n",
    "\n",
    "### Star Wars vs Star Trek\n",
    "- The majority of survey respondents did not consider themselves to be a fan of Star Trek\n",
    "- People who identify as a fan of Star Wars are much more likely to be a fan of Star Trek than the general population\n",
    "\n",
    "### Characters\n",
    "- Unsurprisingly, `Luke Skywalker` is the most familiar character in the Star Wars series\n",
    "- Respondents were least familiar with `Padme Amidala`, with up to `20%` of respondents unsure of who the character was\n",
    "- `Han Solo` was viewed most favourably of all characters and is well appreciated across all age groups\n",
    "- `Jar Jar Binks` was the least favourable character in the Star Wars universe, however, he is actually viewed positively by the majority of respondents aged 60 years and over, and also by the majority of female respondents. It's not clear why this might be the case\n",
    "-  The top half of characters in terms of favourability rating are generally portrayed as 'good', whereas the majority of  characters in the bottom half by favourability rating are 'villains'. Perhaps people have a favourability bias towards morally good characters.\n",
    "\n",
    "### Fans by location\n",
    "- The `Mountain` and `New England` subregions of the USA have the highest percentage of respondents identifying as fans (approximately `72%`)\n",
    "- The `Pacific` subregion has the lowest percentage (approximately `60%`). This is still fairly high, so it's worth considering the bias that a Star Wars survey is much more likely to be taken by fans of the series than non-fans."
   ]
  }
 ],
 "metadata": {
  "kernelspec": {
   "display_name": "Python 3 (ipykernel)",
   "language": "python",
   "name": "python3"
  },
  "language_info": {
   "codemirror_mode": {
    "name": "ipython",
    "version": 3
   },
   "file_extension": ".py",
   "mimetype": "text/x-python",
   "name": "python",
   "nbconvert_exporter": "python",
   "pygments_lexer": "ipython3",
   "version": "3.8.8"
  }
 },
 "nbformat": 4,
 "nbformat_minor": 1
}
